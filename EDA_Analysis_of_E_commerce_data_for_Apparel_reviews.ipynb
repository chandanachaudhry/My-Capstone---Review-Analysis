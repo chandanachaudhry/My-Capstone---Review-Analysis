{
 "cells": [
  {
   "cell_type": "markdown",
   "id": "d36ecd3e",
   "metadata": {},
   "source": [
    "## Capstone Project\n",
    "### Sentiment Analysis : using NLP for E-commerce data of Apparel reviews\n",
    "\n",
    "#### Author : Chandana Chaudhry"
   ]
  },
  {
   "attachments": {},
   "cell_type": "markdown",
   "id": "89cf3d9c",
   "metadata": {},
   "source": [
    "### Problem at hand \n",
    "Often, in the retail industry working professionals are made to take important decisions based on analyzing website product reviews  \n",
    "Understanding customer sentiments is of paramount importance in marketing strategies and product improvement.\n",
    "The manual analysis of these reviews always has a scope of error, leading to erroneous findings  and insights"
   ]
  },
  {
   "cell_type": "markdown",
   "id": "040f524f",
   "metadata": {},
   "source": [
    "### Sentiment Analysis\n",
    "\n",
    "Sentiment analysis refers to the understanding of the mood of text. For example, if our company is suddenly trending on Twitter, we care a lot about if they are tweeting good things or bad things. Similarly, reviews of restaurants and movies often have a \"sentiment\" or star rating, that we can tie back to the text. \n",
    "\n",
    "Most sentiment analysis models are built on the use of certain keywords - like good, great, bad, terrible - or a model based on known sentiments (e.g. a Yelp review, with a star rating) compared to an unknown text."
   ]
  },
  {
   "cell_type": "code",
   "execution_count": null,
   "id": "43e0a416",
   "metadata": {},
   "outputs": [],
   "source": []
  },
  {
   "cell_type": "markdown",
   "id": "605ffb49",
   "metadata": {
    "id": "605ffb49"
   },
   "source": [
    "## EDA of E-commerce data for Apparel reviews"
   ]
  },
  {
   "cell_type": "markdown",
   "id": "0553a613",
   "metadata": {
    "id": "0553a613"
   },
   "source": [
    "## Data Dictionary\n",
    "- `Clothing ID`: Integer Categorical variable that refers to the specific piece being reviewed.\n",
    "- `Age`: Positive Integer variable of the reviewers age.\n",
    "- `Title`: String variable for the title of the review.\n",
    "- `Review Text`: String variable for the review body.\n",
    "- `Rating`: Positive Ordinal Integer variable for the product score granted by the customer from 1 Worst, to 5 Best.\n",
    "- `Recommended IND`: Binary variable stating where the customer recommends the product where 1 is recommended, 0 is not recommended.\n",
    "- `Positive Feedback Count`: Positive Integer documenting the number of other customers who found this review positive.\n",
    "- `Division Name`: Categorical name of the product high level division.\n",
    "- `Department Name`: Categorical name of the product department name.\n",
    "- `Class Name`: Categorical name of the product class name."
   ]
  },
  {
   "cell_type": "markdown",
   "id": "f1c91ca8",
   "metadata": {
    "id": "f1c91ca8"
   },
   "source": [
    "## Roadmap for EDA\n",
    "- The Data set can be downloaded from the link : https://www.kaggle.com/datasets/nicapotato/womens-ecommerce-clothing-reviews/data\n",
    "- Analysis of null values and figuring out suitable option to drop or fill na()\n",
    "- Finding out dataset information and then converting 'Object' type data to necessary 'Int/Float' type or by adding dummy variables"
   ]
  },
  {
   "cell_type": "code",
   "execution_count": 5,
   "id": "958f5729",
   "metadata": {
    "id": "958f5729"
   },
   "outputs": [],
   "source": [
    "#importing basic libraries"
   ]
  },
  {
   "cell_type": "code",
   "execution_count": 43,
   "id": "5efa7193",
   "metadata": {
    "id": "5efa7193"
   },
   "outputs": [],
   "source": [
    "import numpy as np\n",
    "import pandas as pd\n",
    "import matplotlib.pyplot as plt\n",
    "import seaborn as sns"
   ]
  },
  {
   "cell_type": "code",
   "execution_count": 44,
   "id": "9b9dd1bd",
   "metadata": {
    "colab": {
     "base_uri": "https://localhost:8080/",
     "height": 421
    },
    "id": "9b9dd1bd",
    "outputId": "ee1e0616-3626-4498-9006-53e16af62bca"
   },
   "outputs": [
    {
     "data": {
      "text/html": [
       "<div>\n",
       "<style scoped>\n",
       "    .dataframe tbody tr th:only-of-type {\n",
       "        vertical-align: middle;\n",
       "    }\n",
       "\n",
       "    .dataframe tbody tr th {\n",
       "        vertical-align: top;\n",
       "    }\n",
       "\n",
       "    .dataframe thead th {\n",
       "        text-align: right;\n",
       "    }\n",
       "</style>\n",
       "<table border=\"1\" class=\"dataframe\">\n",
       "  <thead>\n",
       "    <tr style=\"text-align: right;\">\n",
       "      <th></th>\n",
       "      <th>Unnamed: 0</th>\n",
       "      <th>Clothing ID</th>\n",
       "      <th>Age</th>\n",
       "      <th>Title</th>\n",
       "      <th>Review Text</th>\n",
       "      <th>Rating</th>\n",
       "      <th>Recommended IND</th>\n",
       "      <th>Positive Feedback Count</th>\n",
       "      <th>Division Name</th>\n",
       "      <th>Department Name</th>\n",
       "      <th>Class Name</th>\n",
       "    </tr>\n",
       "  </thead>\n",
       "  <tbody>\n",
       "    <tr>\n",
       "      <th>0</th>\n",
       "      <td>0</td>\n",
       "      <td>767</td>\n",
       "      <td>33</td>\n",
       "      <td>NaN</td>\n",
       "      <td>Absolutely wonderful - silky and sexy and comf...</td>\n",
       "      <td>4</td>\n",
       "      <td>1</td>\n",
       "      <td>0</td>\n",
       "      <td>Initmates</td>\n",
       "      <td>Intimate</td>\n",
       "      <td>Intimates</td>\n",
       "    </tr>\n",
       "    <tr>\n",
       "      <th>1</th>\n",
       "      <td>1</td>\n",
       "      <td>1080</td>\n",
       "      <td>34</td>\n",
       "      <td>NaN</td>\n",
       "      <td>Love this dress!  it's sooo pretty.  i happene...</td>\n",
       "      <td>5</td>\n",
       "      <td>1</td>\n",
       "      <td>4</td>\n",
       "      <td>General</td>\n",
       "      <td>Dresses</td>\n",
       "      <td>Dresses</td>\n",
       "    </tr>\n",
       "    <tr>\n",
       "      <th>2</th>\n",
       "      <td>2</td>\n",
       "      <td>1077</td>\n",
       "      <td>60</td>\n",
       "      <td>Some major design flaws</td>\n",
       "      <td>I had such high hopes for this dress and reall...</td>\n",
       "      <td>3</td>\n",
       "      <td>0</td>\n",
       "      <td>0</td>\n",
       "      <td>General</td>\n",
       "      <td>Dresses</td>\n",
       "      <td>Dresses</td>\n",
       "    </tr>\n",
       "    <tr>\n",
       "      <th>3</th>\n",
       "      <td>3</td>\n",
       "      <td>1049</td>\n",
       "      <td>50</td>\n",
       "      <td>My favorite buy!</td>\n",
       "      <td>I love, love, love this jumpsuit. it's fun, fl...</td>\n",
       "      <td>5</td>\n",
       "      <td>1</td>\n",
       "      <td>0</td>\n",
       "      <td>General Petite</td>\n",
       "      <td>Bottoms</td>\n",
       "      <td>Pants</td>\n",
       "    </tr>\n",
       "    <tr>\n",
       "      <th>4</th>\n",
       "      <td>4</td>\n",
       "      <td>847</td>\n",
       "      <td>47</td>\n",
       "      <td>Flattering shirt</td>\n",
       "      <td>This shirt is very flattering to all due to th...</td>\n",
       "      <td>5</td>\n",
       "      <td>1</td>\n",
       "      <td>6</td>\n",
       "      <td>General</td>\n",
       "      <td>Tops</td>\n",
       "      <td>Blouses</td>\n",
       "    </tr>\n",
       "  </tbody>\n",
       "</table>\n",
       "</div>"
      ],
      "text/plain": [
       "   Unnamed: 0  Clothing ID  Age                    Title  \\\n",
       "0           0          767   33                      NaN   \n",
       "1           1         1080   34                      NaN   \n",
       "2           2         1077   60  Some major design flaws   \n",
       "3           3         1049   50         My favorite buy!   \n",
       "4           4          847   47         Flattering shirt   \n",
       "\n",
       "                                         Review Text  Rating  Recommended IND  \\\n",
       "0  Absolutely wonderful - silky and sexy and comf...       4                1   \n",
       "1  Love this dress!  it's sooo pretty.  i happene...       5                1   \n",
       "2  I had such high hopes for this dress and reall...       3                0   \n",
       "3  I love, love, love this jumpsuit. it's fun, fl...       5                1   \n",
       "4  This shirt is very flattering to all due to th...       5                1   \n",
       "\n",
       "   Positive Feedback Count   Division Name Department Name Class Name  \n",
       "0                        0       Initmates        Intimate  Intimates  \n",
       "1                        4         General         Dresses    Dresses  \n",
       "2                        0         General         Dresses    Dresses  \n",
       "3                        0  General Petite         Bottoms      Pants  \n",
       "4                        6         General            Tops    Blouses  "
      ]
     },
     "execution_count": 44,
     "metadata": {},
     "output_type": "execute_result"
    }
   ],
   "source": [
    "df = pd.read_csv('/Users/gulshanchaudhary/Desktop/BrainStation Bootcamp/capstone/chandana_chaudhry_sprint0/Womens Clothing E-Commerce Reviews.csv')\n",
    "df.head()"
   ]
  },
  {
   "cell_type": "markdown",
   "id": "063a4793",
   "metadata": {
    "id": "063a4793"
   },
   "source": [
    "# Basic EDA\n",
    "\n",
    "- Checking the shape, head, info type of the data set.\n",
    "- Finding out the null value counts and the types of data entries which are there in the 'Object' dtype columns.\n",
    "- In the below steps, we are essentially looking at what are dataset consists of\n"
   ]
  },
  {
   "cell_type": "code",
   "execution_count": 45,
   "id": "0fdea4f4",
   "metadata": {
    "colab": {
     "base_uri": "https://localhost:8080/"
    },
    "id": "0fdea4f4",
    "outputId": "a1aba9af-1e8f-4969-a1c9-02d9ce9c6d61"
   },
   "outputs": [
    {
     "name": "stdout",
     "output_type": "stream",
     "text": [
      "<class 'pandas.core.frame.DataFrame'>\n",
      "RangeIndex: 23486 entries, 0 to 23485\n",
      "Data columns (total 11 columns):\n",
      " #   Column                   Non-Null Count  Dtype \n",
      "---  ------                   --------------  ----- \n",
      " 0   Unnamed: 0               23486 non-null  int64 \n",
      " 1   Clothing ID              23486 non-null  int64 \n",
      " 2   Age                      23486 non-null  int64 \n",
      " 3   Title                    19676 non-null  object\n",
      " 4   Review Text              22641 non-null  object\n",
      " 5   Rating                   23486 non-null  int64 \n",
      " 6   Recommended IND          23486 non-null  int64 \n",
      " 7   Positive Feedback Count  23486 non-null  int64 \n",
      " 8   Division Name            23472 non-null  object\n",
      " 9   Department Name          23472 non-null  object\n",
      " 10  Class Name               23472 non-null  object\n",
      "dtypes: int64(6), object(5)\n",
      "memory usage: 2.0+ MB\n"
     ]
    }
   ],
   "source": [
    "df.info()"
   ]
  },
  {
   "cell_type": "code",
   "execution_count": 46,
   "id": "3f3efcc1",
   "metadata": {
    "colab": {
     "base_uri": "https://localhost:8080/"
    },
    "id": "3f3efcc1",
    "outputId": "d577f581-a7fc-42eb-d109-ebbb6fdc11df"
   },
   "outputs": [
    {
     "data": {
      "text/plain": [
       "(23486, 11)"
      ]
     },
     "execution_count": 46,
     "metadata": {},
     "output_type": "execute_result"
    }
   ],
   "source": [
    "df.shape"
   ]
  },
  {
   "cell_type": "markdown",
   "id": "2c8963b6",
   "metadata": {
    "id": "2c8963b6"
   },
   "source": [
    "- Shape of the Data Set is 23486 rows and 11 columns\n",
    "- mixed bag of object and int64 datatypes"
   ]
  },
  {
   "cell_type": "markdown",
   "id": "03e842ab",
   "metadata": {
    "id": "03e842ab"
   },
   "source": [
    "Applying below value_counts to 'Object' type data types, other than Review Text and Title. We have left those two features for now, since at basic EDA level we cannot analyse those"
   ]
  },
  {
   "cell_type": "code",
   "execution_count": 47,
   "id": "094eb13c",
   "metadata": {
    "colab": {
     "base_uri": "https://localhost:8080/"
    },
    "id": "094eb13c",
    "outputId": "d662fe70-5d8a-4e6f-b9d3-0d469c7a1019"
   },
   "outputs": [
    {
     "data": {
      "text/plain": [
       "General           13850\n",
       "General Petite     8120\n",
       "Initmates          1502\n",
       "Name: Division Name, dtype: int64"
      ]
     },
     "execution_count": 47,
     "metadata": {},
     "output_type": "execute_result"
    }
   ],
   "source": [
    "df['Division Name'].value_counts()"
   ]
  },
  {
   "cell_type": "code",
   "execution_count": 48,
   "id": "439480a8",
   "metadata": {
    "colab": {
     "base_uri": "https://localhost:8080/"
    },
    "id": "439480a8",
    "outputId": "b92a07d3-d74a-4ceb-914c-97834869c194"
   },
   "outputs": [
    {
     "data": {
      "text/plain": [
       "Tops        10468\n",
       "Dresses      6319\n",
       "Bottoms      3799\n",
       "Intimate     1735\n",
       "Jackets      1032\n",
       "Trend         119\n",
       "Name: Department Name, dtype: int64"
      ]
     },
     "execution_count": 48,
     "metadata": {},
     "output_type": "execute_result"
    }
   ],
   "source": [
    "df['Department Name'].value_counts()"
   ]
  },
  {
   "cell_type": "code",
   "execution_count": 49,
   "id": "6544bba5",
   "metadata": {
    "colab": {
     "base_uri": "https://localhost:8080/"
    },
    "id": "6544bba5",
    "outputId": "cf1bc358-096e-4102-84ce-c4fdba51bb8f"
   },
   "outputs": [
    {
     "data": {
      "text/plain": [
       "Dresses           6319\n",
       "Knits             4843\n",
       "Blouses           3097\n",
       "Sweaters          1428\n",
       "Pants             1388\n",
       "Jeans             1147\n",
       "Fine gauge        1100\n",
       "Skirts             945\n",
       "Jackets            704\n",
       "Lounge             691\n",
       "Swim               350\n",
       "Outerwear          328\n",
       "Shorts             317\n",
       "Sleep              228\n",
       "Legwear            165\n",
       "Intimates          154\n",
       "Layering           146\n",
       "Trend              119\n",
       "Casual bottoms       2\n",
       "Chemises             1\n",
       "Name: Class Name, dtype: int64"
      ]
     },
     "execution_count": 49,
     "metadata": {},
     "output_type": "execute_result"
    }
   ],
   "source": [
    "df['Class Name'].value_counts()"
   ]
  },
  {
   "cell_type": "code",
   "execution_count": 50,
   "id": "222ad445",
   "metadata": {
    "colab": {
     "base_uri": "https://localhost:8080/"
    },
    "id": "222ad445",
    "outputId": "73dc1d3c-ca35-498a-c169-a108ac91a960"
   },
   "outputs": [
    {
     "data": {
      "text/plain": [
       "Unnamed: 0                    0\n",
       "Clothing ID                   0\n",
       "Age                           0\n",
       "Title                      3810\n",
       "Review Text                 845\n",
       "Rating                        0\n",
       "Recommended IND               0\n",
       "Positive Feedback Count       0\n",
       "Division Name                14\n",
       "Department Name              14\n",
       "Class Name                   14\n",
       "dtype: int64"
      ]
     },
     "execution_count": 50,
     "metadata": {},
     "output_type": "execute_result"
    }
   ],
   "source": [
    "df.isna().sum()"
   ]
  },
  {
   "cell_type": "markdown",
   "id": "62688ded",
   "metadata": {
    "id": "62688ded"
   },
   "source": [
    "Basic pre-processing showed us that nearly 16% of title feature and 3% of the review text feature contatains null values. Which we will tackle later."
   ]
  },
  {
   "cell_type": "code",
   "execution_count": 51,
   "id": "c0cc00a9",
   "metadata": {
    "colab": {
     "base_uri": "https://localhost:8080/"
    },
    "id": "c0cc00a9",
    "outputId": "7f221301-19aa-4c66-d960-36813f912a93"
   },
   "outputs": [
    {
     "data": {
      "text/plain": [
       "Unnamed: 0                 0.000000\n",
       "Clothing ID                0.000000\n",
       "Age                        0.000000\n",
       "Title                      0.162224\n",
       "Review Text                0.035979\n",
       "Rating                     0.000000\n",
       "Recommended IND            0.000000\n",
       "Positive Feedback Count    0.000000\n",
       "Division Name              0.000596\n",
       "Department Name            0.000596\n",
       "Class Name                 0.000596\n",
       "dtype: float64"
      ]
     },
     "execution_count": 51,
     "metadata": {},
     "output_type": "execute_result"
    }
   ],
   "source": [
    "df.isna().sum()/df.shape[0]"
   ]
  },
  {
   "cell_type": "code",
   "execution_count": 52,
   "id": "f9df15b4",
   "metadata": {
    "colab": {
     "base_uri": "https://localhost:8080/",
     "height": 563
    },
    "id": "f9df15b4",
    "outputId": "7aa28218-f817-4b19-bc63-2d62c47074a3"
   },
   "outputs": [
    {
     "data": {
      "application/vnd.plotly.v1+json": {
       "config": {
        "plotlyServerURL": "https://plot.ly"
       },
       "data": [
        {
         "alignmentgroup": "True",
         "hovertemplate": "variable=0<br>index=%{x}<br>value=%{y}<extra></extra>",
         "legendgroup": "0",
         "marker": {
          "color": "#636efa",
          "pattern": {
           "shape": ""
          }
         },
         "name": "0",
         "offsetgroup": "0",
         "orientation": "v",
         "showlegend": true,
         "textposition": "auto",
         "type": "bar",
         "x": [
          "Unnamed: 0",
          "Clothing ID",
          "Age",
          "Title",
          "Review Text",
          "Rating",
          "Recommended IND",
          "Positive Feedback Count",
          "Division Name",
          "Department Name",
          "Class Name"
         ],
         "xaxis": "x",
         "y": [
          0,
          0,
          0,
          3810,
          845,
          0,
          0,
          0,
          14,
          14,
          14
         ],
         "yaxis": "y"
        }
       ],
       "layout": {
        "barmode": "relative",
        "legend": {
         "title": {
          "text": "variable"
         },
         "tracegroupgap": 0
        },
        "margin": {
         "t": 60
        },
        "template": {
         "data": {
          "bar": [
           {
            "error_x": {
             "color": "#2a3f5f"
            },
            "error_y": {
             "color": "#2a3f5f"
            },
            "marker": {
             "line": {
              "color": "#E5ECF6",
              "width": 0.5
             },
             "pattern": {
              "fillmode": "overlay",
              "size": 10,
              "solidity": 0.2
             }
            },
            "type": "bar"
           }
          ],
          "barpolar": [
           {
            "marker": {
             "line": {
              "color": "#E5ECF6",
              "width": 0.5
             },
             "pattern": {
              "fillmode": "overlay",
              "size": 10,
              "solidity": 0.2
             }
            },
            "type": "barpolar"
           }
          ],
          "carpet": [
           {
            "aaxis": {
             "endlinecolor": "#2a3f5f",
             "gridcolor": "white",
             "linecolor": "white",
             "minorgridcolor": "white",
             "startlinecolor": "#2a3f5f"
            },
            "baxis": {
             "endlinecolor": "#2a3f5f",
             "gridcolor": "white",
             "linecolor": "white",
             "minorgridcolor": "white",
             "startlinecolor": "#2a3f5f"
            },
            "type": "carpet"
           }
          ],
          "choropleth": [
           {
            "colorbar": {
             "outlinewidth": 0,
             "ticks": ""
            },
            "type": "choropleth"
           }
          ],
          "contour": [
           {
            "colorbar": {
             "outlinewidth": 0,
             "ticks": ""
            },
            "colorscale": [
             [
              0,
              "#0d0887"
             ],
             [
              0.1111111111111111,
              "#46039f"
             ],
             [
              0.2222222222222222,
              "#7201a8"
             ],
             [
              0.3333333333333333,
              "#9c179e"
             ],
             [
              0.4444444444444444,
              "#bd3786"
             ],
             [
              0.5555555555555556,
              "#d8576b"
             ],
             [
              0.6666666666666666,
              "#ed7953"
             ],
             [
              0.7777777777777778,
              "#fb9f3a"
             ],
             [
              0.8888888888888888,
              "#fdca26"
             ],
             [
              1,
              "#f0f921"
             ]
            ],
            "type": "contour"
           }
          ],
          "contourcarpet": [
           {
            "colorbar": {
             "outlinewidth": 0,
             "ticks": ""
            },
            "type": "contourcarpet"
           }
          ],
          "heatmap": [
           {
            "colorbar": {
             "outlinewidth": 0,
             "ticks": ""
            },
            "colorscale": [
             [
              0,
              "#0d0887"
             ],
             [
              0.1111111111111111,
              "#46039f"
             ],
             [
              0.2222222222222222,
              "#7201a8"
             ],
             [
              0.3333333333333333,
              "#9c179e"
             ],
             [
              0.4444444444444444,
              "#bd3786"
             ],
             [
              0.5555555555555556,
              "#d8576b"
             ],
             [
              0.6666666666666666,
              "#ed7953"
             ],
             [
              0.7777777777777778,
              "#fb9f3a"
             ],
             [
              0.8888888888888888,
              "#fdca26"
             ],
             [
              1,
              "#f0f921"
             ]
            ],
            "type": "heatmap"
           }
          ],
          "heatmapgl": [
           {
            "colorbar": {
             "outlinewidth": 0,
             "ticks": ""
            },
            "colorscale": [
             [
              0,
              "#0d0887"
             ],
             [
              0.1111111111111111,
              "#46039f"
             ],
             [
              0.2222222222222222,
              "#7201a8"
             ],
             [
              0.3333333333333333,
              "#9c179e"
             ],
             [
              0.4444444444444444,
              "#bd3786"
             ],
             [
              0.5555555555555556,
              "#d8576b"
             ],
             [
              0.6666666666666666,
              "#ed7953"
             ],
             [
              0.7777777777777778,
              "#fb9f3a"
             ],
             [
              0.8888888888888888,
              "#fdca26"
             ],
             [
              1,
              "#f0f921"
             ]
            ],
            "type": "heatmapgl"
           }
          ],
          "histogram": [
           {
            "marker": {
             "pattern": {
              "fillmode": "overlay",
              "size": 10,
              "solidity": 0.2
             }
            },
            "type": "histogram"
           }
          ],
          "histogram2d": [
           {
            "colorbar": {
             "outlinewidth": 0,
             "ticks": ""
            },
            "colorscale": [
             [
              0,
              "#0d0887"
             ],
             [
              0.1111111111111111,
              "#46039f"
             ],
             [
              0.2222222222222222,
              "#7201a8"
             ],
             [
              0.3333333333333333,
              "#9c179e"
             ],
             [
              0.4444444444444444,
              "#bd3786"
             ],
             [
              0.5555555555555556,
              "#d8576b"
             ],
             [
              0.6666666666666666,
              "#ed7953"
             ],
             [
              0.7777777777777778,
              "#fb9f3a"
             ],
             [
              0.8888888888888888,
              "#fdca26"
             ],
             [
              1,
              "#f0f921"
             ]
            ],
            "type": "histogram2d"
           }
          ],
          "histogram2dcontour": [
           {
            "colorbar": {
             "outlinewidth": 0,
             "ticks": ""
            },
            "colorscale": [
             [
              0,
              "#0d0887"
             ],
             [
              0.1111111111111111,
              "#46039f"
             ],
             [
              0.2222222222222222,
              "#7201a8"
             ],
             [
              0.3333333333333333,
              "#9c179e"
             ],
             [
              0.4444444444444444,
              "#bd3786"
             ],
             [
              0.5555555555555556,
              "#d8576b"
             ],
             [
              0.6666666666666666,
              "#ed7953"
             ],
             [
              0.7777777777777778,
              "#fb9f3a"
             ],
             [
              0.8888888888888888,
              "#fdca26"
             ],
             [
              1,
              "#f0f921"
             ]
            ],
            "type": "histogram2dcontour"
           }
          ],
          "mesh3d": [
           {
            "colorbar": {
             "outlinewidth": 0,
             "ticks": ""
            },
            "type": "mesh3d"
           }
          ],
          "parcoords": [
           {
            "line": {
             "colorbar": {
              "outlinewidth": 0,
              "ticks": ""
             }
            },
            "type": "parcoords"
           }
          ],
          "pie": [
           {
            "automargin": true,
            "type": "pie"
           }
          ],
          "scatter": [
           {
            "fillpattern": {
             "fillmode": "overlay",
             "size": 10,
             "solidity": 0.2
            },
            "type": "scatter"
           }
          ],
          "scatter3d": [
           {
            "line": {
             "colorbar": {
              "outlinewidth": 0,
              "ticks": ""
             }
            },
            "marker": {
             "colorbar": {
              "outlinewidth": 0,
              "ticks": ""
             }
            },
            "type": "scatter3d"
           }
          ],
          "scattercarpet": [
           {
            "marker": {
             "colorbar": {
              "outlinewidth": 0,
              "ticks": ""
             }
            },
            "type": "scattercarpet"
           }
          ],
          "scattergeo": [
           {
            "marker": {
             "colorbar": {
              "outlinewidth": 0,
              "ticks": ""
             }
            },
            "type": "scattergeo"
           }
          ],
          "scattergl": [
           {
            "marker": {
             "colorbar": {
              "outlinewidth": 0,
              "ticks": ""
             }
            },
            "type": "scattergl"
           }
          ],
          "scattermapbox": [
           {
            "marker": {
             "colorbar": {
              "outlinewidth": 0,
              "ticks": ""
             }
            },
            "type": "scattermapbox"
           }
          ],
          "scatterpolar": [
           {
            "marker": {
             "colorbar": {
              "outlinewidth": 0,
              "ticks": ""
             }
            },
            "type": "scatterpolar"
           }
          ],
          "scatterpolargl": [
           {
            "marker": {
             "colorbar": {
              "outlinewidth": 0,
              "ticks": ""
             }
            },
            "type": "scatterpolargl"
           }
          ],
          "scatterternary": [
           {
            "marker": {
             "colorbar": {
              "outlinewidth": 0,
              "ticks": ""
             }
            },
            "type": "scatterternary"
           }
          ],
          "surface": [
           {
            "colorbar": {
             "outlinewidth": 0,
             "ticks": ""
            },
            "colorscale": [
             [
              0,
              "#0d0887"
             ],
             [
              0.1111111111111111,
              "#46039f"
             ],
             [
              0.2222222222222222,
              "#7201a8"
             ],
             [
              0.3333333333333333,
              "#9c179e"
             ],
             [
              0.4444444444444444,
              "#bd3786"
             ],
             [
              0.5555555555555556,
              "#d8576b"
             ],
             [
              0.6666666666666666,
              "#ed7953"
             ],
             [
              0.7777777777777778,
              "#fb9f3a"
             ],
             [
              0.8888888888888888,
              "#fdca26"
             ],
             [
              1,
              "#f0f921"
             ]
            ],
            "type": "surface"
           }
          ],
          "table": [
           {
            "cells": {
             "fill": {
              "color": "#EBF0F8"
             },
             "line": {
              "color": "white"
             }
            },
            "header": {
             "fill": {
              "color": "#C8D4E3"
             },
             "line": {
              "color": "white"
             }
            },
            "type": "table"
           }
          ]
         },
         "layout": {
          "annotationdefaults": {
           "arrowcolor": "#2a3f5f",
           "arrowhead": 0,
           "arrowwidth": 1
          },
          "autotypenumbers": "strict",
          "coloraxis": {
           "colorbar": {
            "outlinewidth": 0,
            "ticks": ""
           }
          },
          "colorscale": {
           "diverging": [
            [
             0,
             "#8e0152"
            ],
            [
             0.1,
             "#c51b7d"
            ],
            [
             0.2,
             "#de77ae"
            ],
            [
             0.3,
             "#f1b6da"
            ],
            [
             0.4,
             "#fde0ef"
            ],
            [
             0.5,
             "#f7f7f7"
            ],
            [
             0.6,
             "#e6f5d0"
            ],
            [
             0.7,
             "#b8e186"
            ],
            [
             0.8,
             "#7fbc41"
            ],
            [
             0.9,
             "#4d9221"
            ],
            [
             1,
             "#276419"
            ]
           ],
           "sequential": [
            [
             0,
             "#0d0887"
            ],
            [
             0.1111111111111111,
             "#46039f"
            ],
            [
             0.2222222222222222,
             "#7201a8"
            ],
            [
             0.3333333333333333,
             "#9c179e"
            ],
            [
             0.4444444444444444,
             "#bd3786"
            ],
            [
             0.5555555555555556,
             "#d8576b"
            ],
            [
             0.6666666666666666,
             "#ed7953"
            ],
            [
             0.7777777777777778,
             "#fb9f3a"
            ],
            [
             0.8888888888888888,
             "#fdca26"
            ],
            [
             1,
             "#f0f921"
            ]
           ],
           "sequentialminus": [
            [
             0,
             "#0d0887"
            ],
            [
             0.1111111111111111,
             "#46039f"
            ],
            [
             0.2222222222222222,
             "#7201a8"
            ],
            [
             0.3333333333333333,
             "#9c179e"
            ],
            [
             0.4444444444444444,
             "#bd3786"
            ],
            [
             0.5555555555555556,
             "#d8576b"
            ],
            [
             0.6666666666666666,
             "#ed7953"
            ],
            [
             0.7777777777777778,
             "#fb9f3a"
            ],
            [
             0.8888888888888888,
             "#fdca26"
            ],
            [
             1,
             "#f0f921"
            ]
           ]
          },
          "colorway": [
           "#636efa",
           "#EF553B",
           "#00cc96",
           "#ab63fa",
           "#FFA15A",
           "#19d3f3",
           "#FF6692",
           "#B6E880",
           "#FF97FF",
           "#FECB52"
          ],
          "font": {
           "color": "#2a3f5f"
          },
          "geo": {
           "bgcolor": "white",
           "lakecolor": "white",
           "landcolor": "#E5ECF6",
           "showlakes": true,
           "showland": true,
           "subunitcolor": "white"
          },
          "hoverlabel": {
           "align": "left"
          },
          "hovermode": "closest",
          "mapbox": {
           "style": "light"
          },
          "paper_bgcolor": "white",
          "plot_bgcolor": "#E5ECF6",
          "polar": {
           "angularaxis": {
            "gridcolor": "white",
            "linecolor": "white",
            "ticks": ""
           },
           "bgcolor": "#E5ECF6",
           "radialaxis": {
            "gridcolor": "white",
            "linecolor": "white",
            "ticks": ""
           }
          },
          "scene": {
           "xaxis": {
            "backgroundcolor": "#E5ECF6",
            "gridcolor": "white",
            "gridwidth": 2,
            "linecolor": "white",
            "showbackground": true,
            "ticks": "",
            "zerolinecolor": "white"
           },
           "yaxis": {
            "backgroundcolor": "#E5ECF6",
            "gridcolor": "white",
            "gridwidth": 2,
            "linecolor": "white",
            "showbackground": true,
            "ticks": "",
            "zerolinecolor": "white"
           },
           "zaxis": {
            "backgroundcolor": "#E5ECF6",
            "gridcolor": "white",
            "gridwidth": 2,
            "linecolor": "white",
            "showbackground": true,
            "ticks": "",
            "zerolinecolor": "white"
           }
          },
          "shapedefaults": {
           "line": {
            "color": "#2a3f5f"
           }
          },
          "ternary": {
           "aaxis": {
            "gridcolor": "white",
            "linecolor": "white",
            "ticks": ""
           },
           "baxis": {
            "gridcolor": "white",
            "linecolor": "white",
            "ticks": ""
           },
           "bgcolor": "#E5ECF6",
           "caxis": {
            "gridcolor": "white",
            "linecolor": "white",
            "ticks": ""
           }
          },
          "title": {
           "x": 0.05
          },
          "xaxis": {
           "automargin": true,
           "gridcolor": "white",
           "linecolor": "white",
           "ticks": "",
           "title": {
            "standoff": 15
           },
           "zerolinecolor": "white",
           "zerolinewidth": 2
          },
          "yaxis": {
           "automargin": true,
           "gridcolor": "white",
           "linecolor": "white",
           "ticks": "",
           "title": {
            "standoff": 15
           },
           "zerolinecolor": "white",
           "zerolinewidth": 2
          }
         }
        },
        "xaxis": {
         "anchor": "y",
         "domain": [
          0,
          1
         ],
         "title": {
          "text": "index"
         }
        },
        "yaxis": {
         "anchor": "x",
         "domain": [
          0,
          1
         ],
         "title": {
          "text": "value"
         }
        }
       }
      },
      "text/html": [
       "<div>                            <div id=\"4bbe2e46-e6e9-4061-bcce-46821fdc8701\" class=\"plotly-graph-div\" style=\"height:525px; width:100%;\"></div>            <script type=\"text/javascript\">                require([\"plotly\"], function(Plotly) {                    window.PLOTLYENV=window.PLOTLYENV || {};                                    if (document.getElementById(\"4bbe2e46-e6e9-4061-bcce-46821fdc8701\")) {                    Plotly.newPlot(                        \"4bbe2e46-e6e9-4061-bcce-46821fdc8701\",                        [{\"alignmentgroup\":\"True\",\"hovertemplate\":\"variable=0<br>index=%{x}<br>value=%{y}<extra></extra>\",\"legendgroup\":\"0\",\"marker\":{\"color\":\"#636efa\",\"pattern\":{\"shape\":\"\"}},\"name\":\"0\",\"offsetgroup\":\"0\",\"orientation\":\"v\",\"showlegend\":true,\"textposition\":\"auto\",\"x\":[\"Unnamed: 0\",\"Clothing ID\",\"Age\",\"Title\",\"Review Text\",\"Rating\",\"Recommended IND\",\"Positive Feedback Count\",\"Division Name\",\"Department Name\",\"Class Name\"],\"xaxis\":\"x\",\"y\":[0,0,0,3810,845,0,0,0,14,14,14],\"yaxis\":\"y\",\"type\":\"bar\"}],                        {\"template\":{\"data\":{\"histogram2dcontour\":[{\"type\":\"histogram2dcontour\",\"colorbar\":{\"outlinewidth\":0,\"ticks\":\"\"},\"colorscale\":[[0.0,\"#0d0887\"],[0.1111111111111111,\"#46039f\"],[0.2222222222222222,\"#7201a8\"],[0.3333333333333333,\"#9c179e\"],[0.4444444444444444,\"#bd3786\"],[0.5555555555555556,\"#d8576b\"],[0.6666666666666666,\"#ed7953\"],[0.7777777777777778,\"#fb9f3a\"],[0.8888888888888888,\"#fdca26\"],[1.0,\"#f0f921\"]]}],\"choropleth\":[{\"type\":\"choropleth\",\"colorbar\":{\"outlinewidth\":0,\"ticks\":\"\"}}],\"histogram2d\":[{\"type\":\"histogram2d\",\"colorbar\":{\"outlinewidth\":0,\"ticks\":\"\"},\"colorscale\":[[0.0,\"#0d0887\"],[0.1111111111111111,\"#46039f\"],[0.2222222222222222,\"#7201a8\"],[0.3333333333333333,\"#9c179e\"],[0.4444444444444444,\"#bd3786\"],[0.5555555555555556,\"#d8576b\"],[0.6666666666666666,\"#ed7953\"],[0.7777777777777778,\"#fb9f3a\"],[0.8888888888888888,\"#fdca26\"],[1.0,\"#f0f921\"]]}],\"heatmap\":[{\"type\":\"heatmap\",\"colorbar\":{\"outlinewidth\":0,\"ticks\":\"\"},\"colorscale\":[[0.0,\"#0d0887\"],[0.1111111111111111,\"#46039f\"],[0.2222222222222222,\"#7201a8\"],[0.3333333333333333,\"#9c179e\"],[0.4444444444444444,\"#bd3786\"],[0.5555555555555556,\"#d8576b\"],[0.6666666666666666,\"#ed7953\"],[0.7777777777777778,\"#fb9f3a\"],[0.8888888888888888,\"#fdca26\"],[1.0,\"#f0f921\"]]}],\"heatmapgl\":[{\"type\":\"heatmapgl\",\"colorbar\":{\"outlinewidth\":0,\"ticks\":\"\"},\"colorscale\":[[0.0,\"#0d0887\"],[0.1111111111111111,\"#46039f\"],[0.2222222222222222,\"#7201a8\"],[0.3333333333333333,\"#9c179e\"],[0.4444444444444444,\"#bd3786\"],[0.5555555555555556,\"#d8576b\"],[0.6666666666666666,\"#ed7953\"],[0.7777777777777778,\"#fb9f3a\"],[0.8888888888888888,\"#fdca26\"],[1.0,\"#f0f921\"]]}],\"contourcarpet\":[{\"type\":\"contourcarpet\",\"colorbar\":{\"outlinewidth\":0,\"ticks\":\"\"}}],\"contour\":[{\"type\":\"contour\",\"colorbar\":{\"outlinewidth\":0,\"ticks\":\"\"},\"colorscale\":[[0.0,\"#0d0887\"],[0.1111111111111111,\"#46039f\"],[0.2222222222222222,\"#7201a8\"],[0.3333333333333333,\"#9c179e\"],[0.4444444444444444,\"#bd3786\"],[0.5555555555555556,\"#d8576b\"],[0.6666666666666666,\"#ed7953\"],[0.7777777777777778,\"#fb9f3a\"],[0.8888888888888888,\"#fdca26\"],[1.0,\"#f0f921\"]]}],\"surface\":[{\"type\":\"surface\",\"colorbar\":{\"outlinewidth\":0,\"ticks\":\"\"},\"colorscale\":[[0.0,\"#0d0887\"],[0.1111111111111111,\"#46039f\"],[0.2222222222222222,\"#7201a8\"],[0.3333333333333333,\"#9c179e\"],[0.4444444444444444,\"#bd3786\"],[0.5555555555555556,\"#d8576b\"],[0.6666666666666666,\"#ed7953\"],[0.7777777777777778,\"#fb9f3a\"],[0.8888888888888888,\"#fdca26\"],[1.0,\"#f0f921\"]]}],\"mesh3d\":[{\"type\":\"mesh3d\",\"colorbar\":{\"outlinewidth\":0,\"ticks\":\"\"}}],\"scatter\":[{\"fillpattern\":{\"fillmode\":\"overlay\",\"size\":10,\"solidity\":0.2},\"type\":\"scatter\"}],\"parcoords\":[{\"type\":\"parcoords\",\"line\":{\"colorbar\":{\"outlinewidth\":0,\"ticks\":\"\"}}}],\"scatterpolargl\":[{\"type\":\"scatterpolargl\",\"marker\":{\"colorbar\":{\"outlinewidth\":0,\"ticks\":\"\"}}}],\"bar\":[{\"error_x\":{\"color\":\"#2a3f5f\"},\"error_y\":{\"color\":\"#2a3f5f\"},\"marker\":{\"line\":{\"color\":\"#E5ECF6\",\"width\":0.5},\"pattern\":{\"fillmode\":\"overlay\",\"size\":10,\"solidity\":0.2}},\"type\":\"bar\"}],\"scattergeo\":[{\"type\":\"scattergeo\",\"marker\":{\"colorbar\":{\"outlinewidth\":0,\"ticks\":\"\"}}}],\"scatterpolar\":[{\"type\":\"scatterpolar\",\"marker\":{\"colorbar\":{\"outlinewidth\":0,\"ticks\":\"\"}}}],\"histogram\":[{\"marker\":{\"pattern\":{\"fillmode\":\"overlay\",\"size\":10,\"solidity\":0.2}},\"type\":\"histogram\"}],\"scattergl\":[{\"type\":\"scattergl\",\"marker\":{\"colorbar\":{\"outlinewidth\":0,\"ticks\":\"\"}}}],\"scatter3d\":[{\"type\":\"scatter3d\",\"line\":{\"colorbar\":{\"outlinewidth\":0,\"ticks\":\"\"}},\"marker\":{\"colorbar\":{\"outlinewidth\":0,\"ticks\":\"\"}}}],\"scattermapbox\":[{\"type\":\"scattermapbox\",\"marker\":{\"colorbar\":{\"outlinewidth\":0,\"ticks\":\"\"}}}],\"scatterternary\":[{\"type\":\"scatterternary\",\"marker\":{\"colorbar\":{\"outlinewidth\":0,\"ticks\":\"\"}}}],\"scattercarpet\":[{\"type\":\"scattercarpet\",\"marker\":{\"colorbar\":{\"outlinewidth\":0,\"ticks\":\"\"}}}],\"carpet\":[{\"aaxis\":{\"endlinecolor\":\"#2a3f5f\",\"gridcolor\":\"white\",\"linecolor\":\"white\",\"minorgridcolor\":\"white\",\"startlinecolor\":\"#2a3f5f\"},\"baxis\":{\"endlinecolor\":\"#2a3f5f\",\"gridcolor\":\"white\",\"linecolor\":\"white\",\"minorgridcolor\":\"white\",\"startlinecolor\":\"#2a3f5f\"},\"type\":\"carpet\"}],\"table\":[{\"cells\":{\"fill\":{\"color\":\"#EBF0F8\"},\"line\":{\"color\":\"white\"}},\"header\":{\"fill\":{\"color\":\"#C8D4E3\"},\"line\":{\"color\":\"white\"}},\"type\":\"table\"}],\"barpolar\":[{\"marker\":{\"line\":{\"color\":\"#E5ECF6\",\"width\":0.5},\"pattern\":{\"fillmode\":\"overlay\",\"size\":10,\"solidity\":0.2}},\"type\":\"barpolar\"}],\"pie\":[{\"automargin\":true,\"type\":\"pie\"}]},\"layout\":{\"autotypenumbers\":\"strict\",\"colorway\":[\"#636efa\",\"#EF553B\",\"#00cc96\",\"#ab63fa\",\"#FFA15A\",\"#19d3f3\",\"#FF6692\",\"#B6E880\",\"#FF97FF\",\"#FECB52\"],\"font\":{\"color\":\"#2a3f5f\"},\"hovermode\":\"closest\",\"hoverlabel\":{\"align\":\"left\"},\"paper_bgcolor\":\"white\",\"plot_bgcolor\":\"#E5ECF6\",\"polar\":{\"bgcolor\":\"#E5ECF6\",\"angularaxis\":{\"gridcolor\":\"white\",\"linecolor\":\"white\",\"ticks\":\"\"},\"radialaxis\":{\"gridcolor\":\"white\",\"linecolor\":\"white\",\"ticks\":\"\"}},\"ternary\":{\"bgcolor\":\"#E5ECF6\",\"aaxis\":{\"gridcolor\":\"white\",\"linecolor\":\"white\",\"ticks\":\"\"},\"baxis\":{\"gridcolor\":\"white\",\"linecolor\":\"white\",\"ticks\":\"\"},\"caxis\":{\"gridcolor\":\"white\",\"linecolor\":\"white\",\"ticks\":\"\"}},\"coloraxis\":{\"colorbar\":{\"outlinewidth\":0,\"ticks\":\"\"}},\"colorscale\":{\"sequential\":[[0.0,\"#0d0887\"],[0.1111111111111111,\"#46039f\"],[0.2222222222222222,\"#7201a8\"],[0.3333333333333333,\"#9c179e\"],[0.4444444444444444,\"#bd3786\"],[0.5555555555555556,\"#d8576b\"],[0.6666666666666666,\"#ed7953\"],[0.7777777777777778,\"#fb9f3a\"],[0.8888888888888888,\"#fdca26\"],[1.0,\"#f0f921\"]],\"sequentialminus\":[[0.0,\"#0d0887\"],[0.1111111111111111,\"#46039f\"],[0.2222222222222222,\"#7201a8\"],[0.3333333333333333,\"#9c179e\"],[0.4444444444444444,\"#bd3786\"],[0.5555555555555556,\"#d8576b\"],[0.6666666666666666,\"#ed7953\"],[0.7777777777777778,\"#fb9f3a\"],[0.8888888888888888,\"#fdca26\"],[1.0,\"#f0f921\"]],\"diverging\":[[0,\"#8e0152\"],[0.1,\"#c51b7d\"],[0.2,\"#de77ae\"],[0.3,\"#f1b6da\"],[0.4,\"#fde0ef\"],[0.5,\"#f7f7f7\"],[0.6,\"#e6f5d0\"],[0.7,\"#b8e186\"],[0.8,\"#7fbc41\"],[0.9,\"#4d9221\"],[1,\"#276419\"]]},\"xaxis\":{\"gridcolor\":\"white\",\"linecolor\":\"white\",\"ticks\":\"\",\"title\":{\"standoff\":15},\"zerolinecolor\":\"white\",\"automargin\":true,\"zerolinewidth\":2},\"yaxis\":{\"gridcolor\":\"white\",\"linecolor\":\"white\",\"ticks\":\"\",\"title\":{\"standoff\":15},\"zerolinecolor\":\"white\",\"automargin\":true,\"zerolinewidth\":2},\"scene\":{\"xaxis\":{\"backgroundcolor\":\"#E5ECF6\",\"gridcolor\":\"white\",\"linecolor\":\"white\",\"showbackground\":true,\"ticks\":\"\",\"zerolinecolor\":\"white\",\"gridwidth\":2},\"yaxis\":{\"backgroundcolor\":\"#E5ECF6\",\"gridcolor\":\"white\",\"linecolor\":\"white\",\"showbackground\":true,\"ticks\":\"\",\"zerolinecolor\":\"white\",\"gridwidth\":2},\"zaxis\":{\"backgroundcolor\":\"#E5ECF6\",\"gridcolor\":\"white\",\"linecolor\":\"white\",\"showbackground\":true,\"ticks\":\"\",\"zerolinecolor\":\"white\",\"gridwidth\":2}},\"shapedefaults\":{\"line\":{\"color\":\"#2a3f5f\"}},\"annotationdefaults\":{\"arrowcolor\":\"#2a3f5f\",\"arrowhead\":0,\"arrowwidth\":1},\"geo\":{\"bgcolor\":\"white\",\"landcolor\":\"#E5ECF6\",\"subunitcolor\":\"white\",\"showland\":true,\"showlakes\":true,\"lakecolor\":\"white\"},\"title\":{\"x\":0.05},\"mapbox\":{\"style\":\"light\"}}},\"xaxis\":{\"anchor\":\"y\",\"domain\":[0.0,1.0],\"title\":{\"text\":\"index\"}},\"yaxis\":{\"anchor\":\"x\",\"domain\":[0.0,1.0],\"title\":{\"text\":\"value\"}},\"legend\":{\"title\":{\"text\":\"variable\"},\"tracegroupgap\":0},\"margin\":{\"t\":60},\"barmode\":\"relative\"},                        {\"responsive\": true}                    ).then(function(){\n",
       "                            \n",
       "var gd = document.getElementById('4bbe2e46-e6e9-4061-bcce-46821fdc8701');\n",
       "var x = new MutationObserver(function (mutations, observer) {{\n",
       "        var display = window.getComputedStyle(gd).display;\n",
       "        if (!display || display === 'none') {{\n",
       "            console.log([gd, 'removed!']);\n",
       "            Plotly.purge(gd);\n",
       "            observer.disconnect();\n",
       "        }}\n",
       "}});\n",
       "\n",
       "// Listen for the removal of the full notebook cells\n",
       "var notebookContainer = gd.closest('#notebook-container');\n",
       "if (notebookContainer) {{\n",
       "    x.observe(notebookContainer, {childList: true});\n",
       "}}\n",
       "\n",
       "// Listen for the clearing of the current output cell\n",
       "var outputEl = gd.closest('.output');\n",
       "if (outputEl) {{\n",
       "    x.observe(outputEl, {childList: true});\n",
       "}}\n",
       "\n",
       "                        })                };                });            </script>        </div>"
      ]
     },
     "metadata": {},
     "output_type": "display_data"
    }
   ],
   "source": [
    "import plotly.express as px\n",
    "\n",
    "px.bar(df.isna().sum())"
   ]
  },
  {
   "cell_type": "markdown",
   "id": "9de54c3d",
   "metadata": {
    "id": "9de54c3d"
   },
   "source": [
    "## Duplicate Values\n",
    "in the below step, we figure out that how many of rows of duplicate data does are data set have. We find out that our data set has not duplicate rows or column"
   ]
  },
  {
   "cell_type": "code",
   "execution_count": 53,
   "id": "f54d4769",
   "metadata": {
    "colab": {
     "base_uri": "https://localhost:8080/"
    },
    "id": "f54d4769",
    "outputId": "f0af5924-727d-463c-d1a6-e1a6f840a082"
   },
   "outputs": [
    {
     "data": {
      "text/plain": [
       "0"
      ]
     },
     "execution_count": 53,
     "metadata": {},
     "output_type": "execute_result"
    }
   ],
   "source": [
    "df.duplicated().sum()"
   ]
  },
  {
   "cell_type": "code",
   "execution_count": 54,
   "id": "23eca23e",
   "metadata": {
    "colab": {
     "base_uri": "https://localhost:8080/"
    },
    "id": "23eca23e",
    "outputId": "e0d4f65f-d4e3-45a5-d038-bab320f219bc"
   },
   "outputs": [
    {
     "data": {
      "text/plain": [
       "Unnamed: 0                 False\n",
       "Clothing ID                False\n",
       "Age                        False\n",
       "Title                      False\n",
       "Review Text                False\n",
       "Rating                     False\n",
       "Recommended IND            False\n",
       "Positive Feedback Count    False\n",
       "Division Name              False\n",
       "Department Name            False\n",
       "Class Name                 False\n",
       "dtype: bool"
      ]
     },
     "execution_count": 54,
     "metadata": {},
     "output_type": "execute_result"
    }
   ],
   "source": [
    "df.T.duplicated()"
   ]
  },
  {
   "cell_type": "markdown",
   "id": "7419f001",
   "metadata": {
    "id": "7419f001"
   },
   "source": [
    "## Analysing 'int64' data types"
   ]
  },
  {
   "cell_type": "code",
   "execution_count": 55,
   "id": "21049f16",
   "metadata": {
    "colab": {
     "base_uri": "https://localhost:8080/",
     "height": 228
    },
    "id": "21049f16",
    "outputId": "c7af3309-694d-44de-f080-289267d710df"
   },
   "outputs": [
    {
     "data": {
      "text/html": [
       "<div>\n",
       "<style scoped>\n",
       "    .dataframe tbody tr th:only-of-type {\n",
       "        vertical-align: middle;\n",
       "    }\n",
       "\n",
       "    .dataframe tbody tr th {\n",
       "        vertical-align: top;\n",
       "    }\n",
       "\n",
       "    .dataframe thead th {\n",
       "        text-align: right;\n",
       "    }\n",
       "</style>\n",
       "<table border=\"1\" class=\"dataframe\">\n",
       "  <thead>\n",
       "    <tr style=\"text-align: right;\">\n",
       "      <th></th>\n",
       "      <th>Unnamed: 0</th>\n",
       "      <th>Clothing ID</th>\n",
       "      <th>Age</th>\n",
       "      <th>Rating</th>\n",
       "      <th>Recommended IND</th>\n",
       "      <th>Positive Feedback Count</th>\n",
       "    </tr>\n",
       "  </thead>\n",
       "  <tbody>\n",
       "    <tr>\n",
       "      <th>0</th>\n",
       "      <td>0</td>\n",
       "      <td>767</td>\n",
       "      <td>33</td>\n",
       "      <td>4</td>\n",
       "      <td>1</td>\n",
       "      <td>0</td>\n",
       "    </tr>\n",
       "    <tr>\n",
       "      <th>1</th>\n",
       "      <td>1</td>\n",
       "      <td>1080</td>\n",
       "      <td>34</td>\n",
       "      <td>5</td>\n",
       "      <td>1</td>\n",
       "      <td>4</td>\n",
       "    </tr>\n",
       "    <tr>\n",
       "      <th>2</th>\n",
       "      <td>2</td>\n",
       "      <td>1077</td>\n",
       "      <td>60</td>\n",
       "      <td>3</td>\n",
       "      <td>0</td>\n",
       "      <td>0</td>\n",
       "    </tr>\n",
       "    <tr>\n",
       "      <th>3</th>\n",
       "      <td>3</td>\n",
       "      <td>1049</td>\n",
       "      <td>50</td>\n",
       "      <td>5</td>\n",
       "      <td>1</td>\n",
       "      <td>0</td>\n",
       "    </tr>\n",
       "    <tr>\n",
       "      <th>4</th>\n",
       "      <td>4</td>\n",
       "      <td>847</td>\n",
       "      <td>47</td>\n",
       "      <td>5</td>\n",
       "      <td>1</td>\n",
       "      <td>6</td>\n",
       "    </tr>\n",
       "  </tbody>\n",
       "</table>\n",
       "</div>"
      ],
      "text/plain": [
       "   Unnamed: 0  Clothing ID  Age  Rating  Recommended IND  \\\n",
       "0           0          767   33       4                1   \n",
       "1           1         1080   34       5                1   \n",
       "2           2         1077   60       3                0   \n",
       "3           3         1049   50       5                1   \n",
       "4           4          847   47       5                1   \n",
       "\n",
       "   Positive Feedback Count  \n",
       "0                        0  \n",
       "1                        4  \n",
       "2                        0  \n",
       "3                        0  \n",
       "4                        6  "
      ]
     },
     "execution_count": 55,
     "metadata": {},
     "output_type": "execute_result"
    }
   ],
   "source": [
    "numeric_df = df.select_dtypes(['int64']).copy()\n",
    "\n",
    "numeric_df.head()"
   ]
  },
  {
   "cell_type": "code",
   "execution_count": 56,
   "id": "625a7243",
   "metadata": {
    "colab": {
     "base_uri": "https://localhost:8080/",
     "height": 323
    },
    "id": "625a7243",
    "outputId": "87b13790-84df-48c6-88bf-ed6b144ad652"
   },
   "outputs": [
    {
     "data": {
      "text/html": [
       "<div>\n",
       "<style scoped>\n",
       "    .dataframe tbody tr th:only-of-type {\n",
       "        vertical-align: middle;\n",
       "    }\n",
       "\n",
       "    .dataframe tbody tr th {\n",
       "        vertical-align: top;\n",
       "    }\n",
       "\n",
       "    .dataframe thead th {\n",
       "        text-align: right;\n",
       "    }\n",
       "</style>\n",
       "<table border=\"1\" class=\"dataframe\">\n",
       "  <thead>\n",
       "    <tr style=\"text-align: right;\">\n",
       "      <th></th>\n",
       "      <th>Unnamed: 0</th>\n",
       "      <th>Clothing ID</th>\n",
       "      <th>Age</th>\n",
       "      <th>Rating</th>\n",
       "      <th>Recommended IND</th>\n",
       "      <th>Positive Feedback Count</th>\n",
       "    </tr>\n",
       "  </thead>\n",
       "  <tbody>\n",
       "    <tr>\n",
       "      <th>count</th>\n",
       "      <td>23486.000000</td>\n",
       "      <td>23486.000000</td>\n",
       "      <td>23486.000000</td>\n",
       "      <td>23486.000000</td>\n",
       "      <td>23486.000000</td>\n",
       "      <td>23486.000000</td>\n",
       "    </tr>\n",
       "    <tr>\n",
       "      <th>mean</th>\n",
       "      <td>11742.500000</td>\n",
       "      <td>918.118709</td>\n",
       "      <td>43.198544</td>\n",
       "      <td>4.196032</td>\n",
       "      <td>0.822362</td>\n",
       "      <td>2.535936</td>\n",
       "    </tr>\n",
       "    <tr>\n",
       "      <th>std</th>\n",
       "      <td>6779.968547</td>\n",
       "      <td>203.298980</td>\n",
       "      <td>12.279544</td>\n",
       "      <td>1.110031</td>\n",
       "      <td>0.382216</td>\n",
       "      <td>5.702202</td>\n",
       "    </tr>\n",
       "    <tr>\n",
       "      <th>min</th>\n",
       "      <td>0.000000</td>\n",
       "      <td>0.000000</td>\n",
       "      <td>18.000000</td>\n",
       "      <td>1.000000</td>\n",
       "      <td>0.000000</td>\n",
       "      <td>0.000000</td>\n",
       "    </tr>\n",
       "    <tr>\n",
       "      <th>25%</th>\n",
       "      <td>5871.250000</td>\n",
       "      <td>861.000000</td>\n",
       "      <td>34.000000</td>\n",
       "      <td>4.000000</td>\n",
       "      <td>1.000000</td>\n",
       "      <td>0.000000</td>\n",
       "    </tr>\n",
       "    <tr>\n",
       "      <th>50%</th>\n",
       "      <td>11742.500000</td>\n",
       "      <td>936.000000</td>\n",
       "      <td>41.000000</td>\n",
       "      <td>5.000000</td>\n",
       "      <td>1.000000</td>\n",
       "      <td>1.000000</td>\n",
       "    </tr>\n",
       "    <tr>\n",
       "      <th>75%</th>\n",
       "      <td>17613.750000</td>\n",
       "      <td>1078.000000</td>\n",
       "      <td>52.000000</td>\n",
       "      <td>5.000000</td>\n",
       "      <td>1.000000</td>\n",
       "      <td>3.000000</td>\n",
       "    </tr>\n",
       "    <tr>\n",
       "      <th>max</th>\n",
       "      <td>23485.000000</td>\n",
       "      <td>1205.000000</td>\n",
       "      <td>99.000000</td>\n",
       "      <td>5.000000</td>\n",
       "      <td>1.000000</td>\n",
       "      <td>122.000000</td>\n",
       "    </tr>\n",
       "  </tbody>\n",
       "</table>\n",
       "</div>"
      ],
      "text/plain": [
       "         Unnamed: 0   Clothing ID           Age        Rating  \\\n",
       "count  23486.000000  23486.000000  23486.000000  23486.000000   \n",
       "mean   11742.500000    918.118709     43.198544      4.196032   \n",
       "std     6779.968547    203.298980     12.279544      1.110031   \n",
       "min        0.000000      0.000000     18.000000      1.000000   \n",
       "25%     5871.250000    861.000000     34.000000      4.000000   \n",
       "50%    11742.500000    936.000000     41.000000      5.000000   \n",
       "75%    17613.750000   1078.000000     52.000000      5.000000   \n",
       "max    23485.000000   1205.000000     99.000000      5.000000   \n",
       "\n",
       "       Recommended IND  Positive Feedback Count  \n",
       "count     23486.000000             23486.000000  \n",
       "mean          0.822362                 2.535936  \n",
       "std           0.382216                 5.702202  \n",
       "min           0.000000                 0.000000  \n",
       "25%           1.000000                 0.000000  \n",
       "50%           1.000000                 1.000000  \n",
       "75%           1.000000                 3.000000  \n",
       "max           1.000000               122.000000  "
      ]
     },
     "execution_count": 56,
     "metadata": {},
     "output_type": "execute_result"
    }
   ],
   "source": [
    "numeric_df.describe()"
   ]
  },
  {
   "cell_type": "code",
   "execution_count": 57,
   "id": "be57455e",
   "metadata": {
    "colab": {
     "base_uri": "https://localhost:8080/",
     "height": 1000
    },
    "id": "be57455e",
    "outputId": "15a33e56-3ef5-4603-ef62-dd992d76e1e6"
   },
   "outputs": [
    {
     "data": {
      "image/png": "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",
      "text/plain": [
       "<Figure size 640x480 with 1 Axes>"
      ]
     },
     "metadata": {},
     "output_type": "display_data"
    },
    {
     "data": {
      "image/png": "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",
      "text/plain": [
       "<Figure size 640x480 with 1 Axes>"
      ]
     },
     "metadata": {},
     "output_type": "display_data"
    },
    {
     "data": {
      "image/png": "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",
      "text/plain": [
       "<Figure size 640x480 with 1 Axes>"
      ]
     },
     "metadata": {},
     "output_type": "display_data"
    },
    {
     "data": {
      "image/png": "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",
      "text/plain": [
       "<Figure size 640x480 with 1 Axes>"
      ]
     },
     "metadata": {},
     "output_type": "display_data"
    },
    {
     "data": {
      "image/png": "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",
      "text/plain": [
       "<Figure size 640x480 with 1 Axes>"
      ]
     },
     "metadata": {},
     "output_type": "display_data"
    },
    {
     "data": {
      "image/png": "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",
      "text/plain": [
       "<Figure size 640x480 with 1 Axes>"
      ]
     },
     "metadata": {},
     "output_type": "display_data"
    }
   ],
   "source": [
    "for column in numeric_df:\n",
    "    plt.figure()\n",
    "    plt.hist(df[column], bins=25)\n",
    "    plt.title(column)\n",
    "    plt.xlabel(column)\n",
    "    plt.show()"
   ]
  },
  {
   "cell_type": "markdown",
   "id": "3b706a8d",
   "metadata": {
    "id": "3b706a8d"
   },
   "source": [
    "Plotting basic histograms of all the 'int'dtypes columns using for loop to save time, in order to find out the basic data trends."
   ]
  },
  {
   "cell_type": "markdown",
   "id": "1e7698c5",
   "metadata": {
    "id": "1e7698c5"
   },
   "source": [
    "## Analysing 'object' data types"
   ]
  },
  {
   "cell_type": "code",
   "execution_count": 58,
   "id": "b66535ee",
   "metadata": {
    "colab": {
     "base_uri": "https://localhost:8080/",
     "height": 228
    },
    "id": "b66535ee",
    "outputId": "2cbff85d-60e0-4b2a-dc3b-316d81aed13d"
   },
   "outputs": [
    {
     "data": {
      "text/html": [
       "<div>\n",
       "<style scoped>\n",
       "    .dataframe tbody tr th:only-of-type {\n",
       "        vertical-align: middle;\n",
       "    }\n",
       "\n",
       "    .dataframe tbody tr th {\n",
       "        vertical-align: top;\n",
       "    }\n",
       "\n",
       "    .dataframe thead th {\n",
       "        text-align: right;\n",
       "    }\n",
       "</style>\n",
       "<table border=\"1\" class=\"dataframe\">\n",
       "  <thead>\n",
       "    <tr style=\"text-align: right;\">\n",
       "      <th></th>\n",
       "      <th>Title</th>\n",
       "      <th>Review Text</th>\n",
       "      <th>Division Name</th>\n",
       "      <th>Department Name</th>\n",
       "      <th>Class Name</th>\n",
       "    </tr>\n",
       "  </thead>\n",
       "  <tbody>\n",
       "    <tr>\n",
       "      <th>0</th>\n",
       "      <td>NaN</td>\n",
       "      <td>Absolutely wonderful - silky and sexy and comf...</td>\n",
       "      <td>Initmates</td>\n",
       "      <td>Intimate</td>\n",
       "      <td>Intimates</td>\n",
       "    </tr>\n",
       "    <tr>\n",
       "      <th>1</th>\n",
       "      <td>NaN</td>\n",
       "      <td>Love this dress!  it's sooo pretty.  i happene...</td>\n",
       "      <td>General</td>\n",
       "      <td>Dresses</td>\n",
       "      <td>Dresses</td>\n",
       "    </tr>\n",
       "    <tr>\n",
       "      <th>2</th>\n",
       "      <td>Some major design flaws</td>\n",
       "      <td>I had such high hopes for this dress and reall...</td>\n",
       "      <td>General</td>\n",
       "      <td>Dresses</td>\n",
       "      <td>Dresses</td>\n",
       "    </tr>\n",
       "    <tr>\n",
       "      <th>3</th>\n",
       "      <td>My favorite buy!</td>\n",
       "      <td>I love, love, love this jumpsuit. it's fun, fl...</td>\n",
       "      <td>General Petite</td>\n",
       "      <td>Bottoms</td>\n",
       "      <td>Pants</td>\n",
       "    </tr>\n",
       "    <tr>\n",
       "      <th>4</th>\n",
       "      <td>Flattering shirt</td>\n",
       "      <td>This shirt is very flattering to all due to th...</td>\n",
       "      <td>General</td>\n",
       "      <td>Tops</td>\n",
       "      <td>Blouses</td>\n",
       "    </tr>\n",
       "  </tbody>\n",
       "</table>\n",
       "</div>"
      ],
      "text/plain": [
       "                     Title                                        Review Text  \\\n",
       "0                      NaN  Absolutely wonderful - silky and sexy and comf...   \n",
       "1                      NaN  Love this dress!  it's sooo pretty.  i happene...   \n",
       "2  Some major design flaws  I had such high hopes for this dress and reall...   \n",
       "3         My favorite buy!  I love, love, love this jumpsuit. it's fun, fl...   \n",
       "4         Flattering shirt  This shirt is very flattering to all due to th...   \n",
       "\n",
       "    Division Name Department Name Class Name  \n",
       "0       Initmates        Intimate  Intimates  \n",
       "1         General         Dresses    Dresses  \n",
       "2         General         Dresses    Dresses  \n",
       "3  General Petite         Bottoms      Pants  \n",
       "4         General            Tops    Blouses  "
      ]
     },
     "execution_count": 58,
     "metadata": {},
     "output_type": "execute_result"
    }
   ],
   "source": [
    "object_df = df.select_dtypes(['object']).copy()\n",
    "\n",
    "object_df.head()"
   ]
  },
  {
   "cell_type": "code",
   "execution_count": 59,
   "id": "efde8c35",
   "metadata": {
    "colab": {
     "base_uri": "https://localhost:8080/",
     "height": 492
    },
    "id": "efde8c35",
    "outputId": "ad83d6a5-467a-402b-a308-fdf1e5bed83a"
   },
   "outputs": [
    {
     "data": {
      "image/png": "iVBORw0KGgoAAAANSUhEUgAAAocAAAHFCAYAAACAbFMYAAAAOXRFWHRTb2Z0d2FyZQBNYXRwbG90bGliIHZlcnNpb24zLjcuMSwgaHR0cHM6Ly9tYXRwbG90bGliLm9yZy/bCgiHAAAACXBIWXMAAA9hAAAPYQGoP6dpAAA6+0lEQVR4nO3deXxN1/7/8feRSWSUkIlwEmoWY7WGn1nR0uptq1o1VFvtNVNT0ZpK1G17S1uq7kVnvVV1XU2pxFAtNVOKDoiYghaJMSRZvz/6sL49EiRpCPJ6Ph55POy91177s9ZJc97d++x9HMYYIwAAAEBSkYIuAAAAADcPwiEAAAAswiEAAAAswiEAAAAswiEAAAAswiEAAAAswiEAAAAswiEAAAAswiEAAAAswiGAAjdnzhw5HA774+7urtKlS+vJJ5/UwYMH8/VYFy5c0HPPPafw8HC5ubmpZs2a+dr/7WzUqFEqU6aM3N3dFRgYWNDlWIcOHdKYMWO0ZcuWgi4FuC24F3QBAHDJ7NmzValSJZ07d07ffPONYmNjtXLlSm3btk0+Pj75cozp06drxowZevPNN1WnTh35+vrmS7+3u//+97+aMGGCRo4cqbZt28rLy6ugS7IOHTqksWPHyul0EvaBfEA4BHDTqFatmurWrStJatasmTIyMjR+/HgtWLBAnTt3znafs2fPqlixYjk+xvbt2+Xt7a0+ffrkS815qeFWtH37dklSv379FBISUsDV3F6MMTp//ry8vb0LuhRAEpeVAdzE7r77bknSvn37JEndu3eXr6+vtm3bpnvuuUd+fn5q0aKFpD8uF7/88suqVKmSvLy8VLJkST355JM6duyY7c/hcOhf//qXzp07Zy9hz5kzR9Ifb9DTpk1TzZo15e3treLFi+vhhx/Wnj17XGpq2rSpqlWrpm+++UYNGjRQsWLF1KNHD0lSamqqBg8erKioKHl6eqpUqVIaMGCAzpw549KHw+FQnz599MEHH6hy5coqVqyYatSooUWLFmWZg127dumxxx5TaGiovLy8VKZMGXXt2lVpaWm2TXJysp599lmVLl1anp6eioqK0tixY5Wenn7NOc7MzNTkyZPtvIWEhKhr1646cOCAbeN0OjVq1ChJUmhoqBwOh8aMGXPVfteuXav27dsrODhYRYsWVbly5TRgwAC7vXv37nI6nVn2GzNmjBwOh8u6zz77THfddZcCAgJUrFgxRUdH2zlfsWKF7rzzTknSk08+aV/XP9e3cOFC1a9fX8WKFZOfn59atWqlNWvWZHvcH374QY888ogCAgIUFBSkQYMGKT09XT/99JPatGkjPz8/OZ1OTZ48OUvtuX3933nnHVWuXFleXl567733rjqfwA1lAKCAzZ4920gy69evd1k/ZcoUI8m8++67xhhjunXrZjw8PIzT6TSxsbEmISHBLFmyxGRkZJg2bdoYHx8fM3bsWLN06VLzr3/9y5QqVcpUqVLFnD171hhjzJo1a8y9995rvL29zZo1a8yaNWvM0aNHjTHGPPPMM8bDw8M8//zzZvHixebjjz82lSpVMqGhoSY5OdnW1KRJExMUFGQiIyPNm2++aZYvX25Wrlxpzpw5Y2rWrGlKlChhXn/9dRMfH2+mTJliAgICTPPmzU1mZqbtQ5JxOp2mXr165j//+Y+Ji4szTZs2Ne7u7mb37t223ZYtW4yvr69xOp3mnXfeMQkJCebDDz80HTt2NKmpqcYYYw4fPmwiIyNN2bJlzYwZM0x8fLwZP3688fLyMt27d7/m3Pfs2dNIMn369DGLFy8277zzjilZsqSJjIw0x44dM8YYs2nTJvPUU08ZSWbx4sVmzZo1Zv/+/Vfsc/HixcbDw8PExMSYOXPmmGXLlplZs2aZTp062TbdunUzZcuWzbLv6NGjzZ/fmlavXm0cDofp1KmTiYuLM8uWLTOzZ882Xbp0McYYk5KSYn9/Ro0aZV/XS/V99NFHRpK55557zIIFC8ynn35q6tSpYzw9Pc2qVauyHLdixYpm/PjxZunSpWbo0KF2bipVqmSmTp1qli5dap588kkjyXz++ed2/9y+/qVKlTIxMTHm448/NsuWLTPbt2+/5msF3CiEQwAF7tKb+/fff28uXrxoTp06ZRYtWmRKlixp/Pz8bDjr1q2bkWRmzZrlsv8nn3yS5c3aGGPWr19vJJlp06bZdd26dTM+Pj4u7dasWWMkmddee81l/f79+423t7cZOnSoXdekSRMjySQkJLi0jY2NNUWKFMkScOfNm2ckmbi4OLtOkgkNDbUBzxhjkpOTTZEiRUxsbKxd17x5cxMYGGgDbHaeffZZ4+vra/bt2+ey/tVXXzWSzI8//njFfXfu3GkkmV69ermsX7t2rZFkRowYYdddCk+XAuPVlCtXzpQrV86cO3fuim1yGg4vjePkyZNX7OvS6zx79myX9RkZGSYiIsJUr17dZGRk2PWnTp0yISEhpkGDBlmOe/nvQM2aNY0kM3/+fLvu4sWLpmTJkuZvf/ubXZfb1z8gIMAcP378imMCChKXlQHcNO6++255eHjIz89P7dq1U1hYmL766iuFhoa6tHvooYdclhctWqTAwEC1b99e6enp9qdmzZoKCwvTihUrrnrcRYsWyeFw6IknnnDZPywsTDVq1Miyf/HixdW8efMsfVSrVk01a9Z06aN169ZyOBxZ+mjWrJn8/PzscmhoqEJCQuwl9LNnz2rlypXq2LGjSpYsedXamzVrpoiICJfjtm3bVpK0cuXKK+67fPlySX9c4v2zevXqqXLlykpISLjivlfy888/a/fu3XrqqadUtGjRXO9/uUuXjDt27Kj//Oc/ubp7/aefftKhQ4fUpUsXFSnyf293vr6+euihh/T999/r7NmzLvu0a9fOZbly5cpyOBx2PiXJ3d1d5cuXt6+VlPvXv3nz5ipevHiOxwLcSNyQAuCm8f7776ty5cpyd3dXaGiowsPDs7QpVqyY/P39XdYdOXJEJ0+elKenZ7b9/vbbb1c97pEjR2SMyRJCL4mOjnZZzq6uI0eO6Ndff5WHh0eOaggODs7SxsvLS+fOnZMknThxQhkZGSpduvQ1a//f//6X4+P+2e+//y4p+/FERES4hJ+cuvQZz2vVnVONGzfWggULNHXqVPtZy6pVq2rkyJF67LHHrrrvtcaXmZmpEydOuNxMFBQU5NLO09NTxYoVyxJ0PT09lZqaapdz+/pnVxNwsyAcArhpVK5c2d6tfCWX36wgSSVKlFBwcLAWL16c7T5/PkOXnRIlSsjhcGjVqlXZPqLl8nVXqsHb21uzZs264jFyIygoSG5ubi43hlyp35iYGE2YMCHb7REREVfc91JAPXz4cJYwd+jQoVzXLMme5bxW3UWLFnW5qeaS7MLsAw88oAceeEBpaWn6/vvvFRsbq8cff1xOp1P169e/4jH+PL7LHTp0SEWKFMm3s3e5ff2z+x0CbhaEQwC3vHbt2mnu3LnKyMjQXXfdlaf9J02apIMHD6pjx455rmHixIkKDg5WVFRUnvr4M29vbzVp0kSfffaZJkyYcMWg1q5dO8XFxalcuXK5DjqXLo1/+OGH9vKtJK1fv147d+7UyJEjc113hQoVVK5cOc2aNUuDBg264vMQnU6njh49qiNHjtgzthcuXNCSJUuu2LeXl5eaNGmiwMBALVmyRJs3b1b9+vXtMS6ddb2kYsWKKlWqlD7++GMNHjzYBrIzZ87o888/t3cw54f8fv2BgkQ4BHDL69Spkz766CPde++96t+/v+rVqycPDw8dOHBAy5cv1wMPPKAHH3zwivs3bNhQPXv21JNPPqkNGzaocePG8vHx0eHDh/Xtt9+qevXq+vvf/37VGgYMGKDPP/9cjRs31sCBAxUTE6PMzEwlJSXp66+/1vPPP5/r4Pr666+rUaNGuuuuuzR8+HCVL19eR44c0cKFCzVjxgz5+flp3LhxWrp0qRo0aKB+/fqpYsWKOn/+vBITExUXF6d33nnnipd4K1asqJ49e+rNN99UkSJF1LZtWyUmJurFF19UZGSkBg4cmKt6L3n77bfVvn173X333Ro4cKDKlCmjpKQkLVmyRB999JEk6dFHH9VLL72kTp06aciQITp//rymTp2qjIwMl75eeuklHThwQC1atFDp0qV18uRJTZkyRR4eHmrSpIkkqVy5cvL29tZHH32kypUry9fXVxEREYqIiNDkyZPVuXNntWvXTs8++6zS0tL0j3/8QydPntSkSZPyNL7sXI/XHygohEMAtzw3NzctXLhQU6ZM0QcffKDY2Fj7FXxNmjRR9erVr9nHjBkzdPfdd2vGjBmaNm2aMjMzFRERoYYNG6pevXrX3N/Hx0erVq3SpEmT9O6772rv3r3y9vZWmTJl1LJly2yf6XctNWrU0Lp16zR69Gi98MILOnXqlMLCwtS8eXP7+crw8HBt2LBB48eP1z/+8Q8dOHBAfn5+ioqKUps2ba55NnH69OkqV66c/v3vf+vtt99WQECA2rRpo9jY2Gw/F5kTrVu31jfffKNx48apX79+On/+vEqXLq3777/ftomKitJ///tfjRgxQg8//LDCw8M1aNAgHTt2TGPHjrXt7rrrLm3YsEHDhg3TsWPHFBgYqLp162rZsmWqWrWqpD8+hzpr1iyNHTtW99xzjy5evKjRo0drzJgxevzxx+Xj46PY2Fg9+uijcnNz0913363ly5erQYMGeRpfdq7H6w8UFIcxxhR0EQAAALg58CgbAAAAWIRDAAAAWIRDAAAAWIRDAAAAWIRDAAAAWIRDAAAAWDznENeUmZmpQ4cOyc/Pj698AgDgFmGM0alTpxQREaEiRXJ+PpBwiGs6dOiQIiMjC7oMAACQB/v377/iNyVlh3CIa/Lz85P0xy+Xv79/AVcDAAByIjU1VZGRkfZ9PKcIh7imS5eS/f39CYcAANxicvuRMG5IAQAAgEU4BAAAgEU4BAAAgEU4BAAAgEU4BAAAgEU4BAAAgEU4BAAAgEU4BAAAgEU4BAAAgEU4BAAAgEU4BAAAgEU4BAAAgEU4BAAAgEU4BAAAgEU4BAAAgEU4BAAAgEU4BAAAgEU4BAAAgEU4BAAAgEU4BAAAgEU4BAAAgEU4BAAAgEU4BAAAgEU4BAAAgEU4BAAAgEU4BAAAgEU4BAAAgEU4BAAAgOVe0AXg1tF35nF5eqcXdBkAANxWZvYKKugSXHDmEAAAABbhEAAAABbhEAAAABbhEAAAABbhEAAAABbhEAAAABbhEAAAABbhEAAAABbhEAAAABbhEAAAABbhEAAAABbhEAAAABbhEAAAABbhEAAAABbhEAAAABbhEAAAABbhEAAAABbhEAAAABbhEAAAABbhEAAAABbhEAAAABbhEAAAABbhEAAAABbhEAAAABbhsJByOp164403CroMAABwkyEc5kFycrL69++v8uXLq2jRogoNDVWjRo30zjvv6OzZswVdHgAAQJ65F3QBt5o9e/aoYcOGCgwM1MSJE1W9enWlp6fr559/1qxZsxQREaH777+/QGozxigjI0Pu7rysAAAgbzhzmEu9evWSu7u7NmzYoI4dO6py5cqqXr26HnroIX355Zdq3769JCklJUU9e/ZUSEiI/P391bx5c23dutX2M2bMGNWsWVMffPCBnE6nAgIC1KlTJ506dcq2McZo8uTJio6Olre3t2rUqKF58+bZ7StWrJDD4dCSJUtUt25deXl5adWqVdq9e7ceeOABhYaGytfXV3feeafi4+Nv3CQBAIBbFuEwF37//Xd9/fXX6t27t3x8fLJt43A4ZIzRfffdp+TkZMXFxWnjxo2qXbu2WrRooePHj9u2u3fv1oIFC7Ro0SItWrRIK1eu1KRJk+z2UaNGafbs2Zo+fbp+/PFHDRw4UE888YRWrlzpcsyhQ4cqNjZWO3fuVExMjE6fPq17771X8fHx2rx5s1q3bq327dsrKSnp+kwMAAC4bXD9MRd+/fVXGWNUsWJFl/UlSpTQ+fPnJUm9e/dW69attW3bNh09elReXl6SpFdffVULFizQvHnz1LNnT0lSZmam5syZIz8/P0lSly5dlJCQoAkTJujMmTN6/fXXtWzZMtWvX1+SFB0drW+//VYzZsxQkyZN7PHHjRunVq1a2eXg4GDVqFHDLr/88sv64osvtHDhQvXp0+ea40xLS1NaWppdTk1NzdU8AQCAWxfhMA8cDofL8rp165SZmanOnTsrLS1NGzdu1OnTpxUcHOzS7ty5c9q9e7dddjqdNhhKUnh4uI4ePSpJ2rFjh86fP+8S+iTpwoULqlWrlsu6unXruiyfOXNGY8eO1aJFi3To0CGlp6fr3LlzOT5zGBsbq7Fjx+aoLQAAuL0QDnOhfPnycjgc2rVrl8v66OhoSZK3t7ekP84IhoeHa8WKFVn6CAwMtP/28PBw2eZwOJSZmWn7kKQvv/xSpUqVcml36WzkJZdf4h4yZIiWLFmiV199VeXLl5e3t7cefvhhXbhwIUfjfOGFFzRo0CC7nJqaqsjIyBztCwAAbm2Ew1wIDg5Wq1at9NZbb6lv375X/Nxh7dq1lZycLHd3dzmdzjwdq0qVKvLy8lJSUpLLJeScWLVqlbp3764HH3xQknT69GklJibmeH8vL68sARQAABQO3JCSS9OmTVN6errq1q2rTz/9VDt37tRPP/2kDz/8ULt27ZKbm5tatmyp+vXrq0OHDlqyZIkSExO1evVqjRo1Shs2bMjRcfz8/DR48GANHDhQ7733nnbv3q3Nmzfr7bff1nvvvXfVfcuXL6/58+dry5Yt2rp1qx5//HF7JhIAAOBqOHOYS+XKldPmzZs1ceJEvfDCCzpw4IC8vLxUpUoVDR48WL169ZLD4VBcXJxGjhypHj166NixYwoLC1Pjxo0VGhqa42ONHz9eISEhio2N1Z49exQYGKjatWtrxIgRV93vn//8p3r06KEGDRqoRIkSGjZsGDeVAACAHHEYY0xBF4GbW2pqqgICAtT11b3y9PYv6HIAALitzOwVdF36vfT+nZKSIn//nL9/c1kZAAAAFuEQAAAAFuEQAAAAFuEQAAAAFuEQAAAAFuEQAAAAFuEQAAAAFuEQAAAAFuEQAAAAFuEQAAAAFuEQAAAAFuEQAAAAFuEQAAAAFuEQAAAAFuEQAAAAFuEQAAAAFuEQAAAAFuEQAAAAFuEQAAAAFuEQAAAAFuEQAAAAFuEQAAAAFuEQAAAAFuEQAAAAFuEQAAAAlntBF4Bbx5vPBMnf37+gywAAANcRZw4BAABgEQ4BAABgEQ4BAABgEQ4BAABgEQ4BAABgEQ4BAABgEQ4BAABgEQ4BAABgEQ4BAABgEQ4BAABgEQ4BAABgEQ4BAABgEQ4BAABgEQ4BAABgEQ4BAABgEQ4BAABgEQ4BAABgEQ4BAABgEQ4BAABgEQ4BAABgEQ4BAABgEQ4BAABgEQ4BAABgEQ4BAABgEQ4BAABgEQ4BAABgEQ4BAABgEQ4BAABgEQ4BAABgEQ4BAABgEQ4BAABgEQ4BAABgEQ4BAABgEQ4BAABgEQ4BAABgEQ4BAABgEQ4BAABgEQ4BAABgEQ4BAABgEQ4BAABgEQ4BAABgEQ4BAABgEQ4BAABgEQ4BAABgEQ4BAABgEQ4BAABgEQ4BAABgEQ4BAABgEQ4BAABgEQ4BAABgEQ4BAABgEQ4BAABgEQ4BAABgEQ4BAABgEQ4BAABgEQ4BAABgEQ4BAABgEQ4BAABgEQ4BAABgEQ4BAABguRd0Abh19J15XJ7e6QVdBoDbwMxeQQVdAoAr4MwhAAAALMIhAAAALMIhAAAALMIhAAAALMIhAAAALMIhAAAALMIhAAAArDw95/DMmTOaNGmSEhISdPToUWVmZrps37NnT74UBwAAgBsrT+Hw6aef1sqVK9WlSxeFh4fL4XDkd10AAAAoAHkKh1999ZW+/PJLNWzYML/rAQAAQAHK02cOixcvrqAgvvoIAADgdpOncDh+/Hi99NJLOnv2bH7XAwAAgAKUp8vKr732mnbv3q3Q0FA5nU55eHi4bN+0aVO+FAcAAIAbK0/hsEOHDvlcBgAAAG4GeQqHo0ePzu86AAAAcBPIUzi8ZOPGjdq5c6ccDoeqVKmiWrVq5VddAAAAKAB5CodHjx5Vp06dtGLFCgUGBsoYo5SUFDVr1kxz585VyZIl87tOAAAA3AB5ulu5b9++Sk1N1Y8//qjjx4/rxIkT2r59u1JTU9WvX7/8rhEAAAA3SJ7OHC5evFjx8fGqXLmyXVelShW9/fbbuueee/KtOAAAANxYeTpzmJmZmeXxNZLk4eGR5XuWAQAAcOvIUzhs3ry5+vfvr0OHDtl1Bw8e1MCBA9WiRYt8Kw4AAAA3Vp7C4VtvvaVTp07J6XSqXLlyKl++vKKionTq1Cm9+eab+V0jAAAAbpA8feYwMjJSmzZt0tKlS7Vr1y4ZY1SlShW1bNkyv+sDAADADfSXnnPYqlUrtWrVKr9qAQAAQAHLcTicOnWqevbsqaJFi2rq1KlXbcvjbAAAAG5NDmOMyUnDqKgobdiwQcHBwYqKirpyhw6H9uzZk28F3iqcTqcGDBigAQMG3NDjdu/eXSdPntSCBQuu2zFSU1MVEBCgrq/ulae3/3U7DoDCY2avoIIuAbjtXXr/TklJkb9/zt+/c3xDyt69exUcHGz/faWf3AbD5ORk9e/fX+XLl1fRokUVGhqqRo0a6Z133tHZs2dz1dfNbMyYMXI4HHI4HHJzc1NkZKSefvppHTt2LEf7JyYmyuFwaMuWLS7rp0yZojlz5tjlpk2b3vCACgAAbh9/6TOHl2RkZGjbtm0qW7asihcvnuP99uzZo4YNGyowMFATJ05U9erVlZ6erp9//lmzZs1SRESE7r///vwoMU+MMcrIyJC7e75Mk6pWrar4+HhlZGRo8+bNeuqpp3Tw4EF99dVXee4zICAgX2oDAACQ8vgomwEDBujf//63pD+CYePGjVW7dm1FRkZqxYoVOe6nV69ecnd314YNG9SxY0dVrlxZ1atX10MPPaQvv/xS7du3t21TUlLUs2dPhYSEyN/fX82bN9fWrVvt9jFjxqhmzZr64IMP5HQ6FRAQoE6dOunUqVO2jTFGkydPVnR0tLy9vVWjRg3NmzfPbl+xYoUcDoeWLFmiunXrysvLS6tWrdLu3bv1wAMPKDQ0VL6+vrrzzjsVHx+f63lzd3dXWFiYSpUqpXbt2qlfv376+uuvde7cOUnS7NmzVblyZRUtWlSVKlXStGnT7L6XLuXXqlVLDodDTZs2lfTHZeUOHTrYf69cuVJTpkyxZykTExMlSTt27NC9994rX19fhYaGqkuXLvrtt99yPQYAAHB7y1M4nDdvnmrUqCFJ+t///qfExETt2rVLAwYM0MiRI3PUx++//66vv/5avXv3lo+PT7ZtHA6HpD9C3X333afk5GTFxcVp48aNql27tlq0aKHjx4/b9rt379aCBQu0aNEiLVq0SCtXrtSkSZPs9lGjRmn27NmaPn26fvzxRw0cOFBPPPGEVq5c6XLcoUOHKjY2Vjt37lRMTIxOnz6te++9V/Hx8dq8ebNat26t9u3bKykpKVfzdjlvb29lZmYqPT1dM2fO1MiRIzVhwgTt3LlTEydO1Isvvqj33ntPkrRu3TpJUnx8vA4fPqz58+dn6W/KlCmqX7++nnnmGR0+fFiHDx9WZGSkDh8+rCZNmqhmzZrasGGDFi9erCNHjqhjx47Z1pWWlqbU1FSXHwAAUDjk6Xrpb7/9prCwMElSXFycHnnkEVWoUEFPPfXUNe9kvuTXX3+VMUYVK1Z0WV+iRAmdP39ektS7d2+98sorWr58ubZt26ajR4/Ky8tLkvTqq69qwYIFmjdvnnr27Cnpj6/1mzNnjvz8/CRJXbp0UUJCgiZMmKAzZ87o9ddf17Jly1S/fn1JUnR0tL799lvNmDFDTZo0sTWMGzfO5RE9wcHBNgxL0ssvv6wvvvhCCxcuVJ8+fXI1d5fs2rVL06dPV7169eTn56fx48frtdde09/+9jdJf5wp3LFjh2bMmKFu3bqpZMmStpZLc3+5gIAAeXp6qlixYi5tpk+frtq1a2vixIl23axZsxQZGamff/5ZFSpUcOknNjZWY8eOzdO4AADArS1P4TA0NFQ7duxQeHi4Fi9ebC9/nj17Vm5ubrnq69LZwUvWrVunzMxMde7cWWlpaZKkjRs36vTp0/aGmEvOnTun3bt322Wn02mDoSSFh4fr6NGjkv64rHr+/Pksz2W8cOGCatWq5bKubt26LstnzpzR2LFjtWjRIh06dEjp6ek6d+5crs8cbtu2Tb6+vsrIyFBaWpqaNm2qd999V8eOHdP+/fv11FNP6ZlnnrHt09PT8+UzhRs3btTy5cvl6+ubZdvu3buzhMMXXnhBgwYNssupqamKjIz8y3UAAICbX57C4ZNPPqmOHTsqPDxcDofDBq61a9eqUqVKOeqjfPnycjgc2rVrl8v66OhoSX9ccr0kMzNT4eHh2X6eMTAw0P7bw8PDZZvD4VBmZqbtQ5K+/PJLlSpVyqXdpbORl1x+mXvIkCFasmSJXn31VZUvX17e3t56+OGHdeHChRyM9P9UrFhRCxculJubmyIiIuxxjxw5IkmaOXOm7rrrLpd9chu2s5OZman27dvrlVdeybItPDw8yzovL68scwIAAAqHPIXDMWPGqFq1atq/f78eeeQRGyTc3Nw0fPjwHPURHBysVq1a6a233lLfvn2v+LlDSapdu7aSk5Pl7u4up9OZl5JVpUoVeXl5KSkpyeUSck6sWrVK3bt314MPPihJOn36tL3RIzc8PT1Vvnz5LOtDQ0NVqlQp7dmzR507d77ivtIfNwBd6xiXt6ldu7Y+//xzOZ3OfLvzGgAA3J7ynBQefvjhLOu6deuWqz6mTZumhg0bqm7duhozZoxiYmJUpEgRrV+/Xrt27VKdOnUkSS1btlT9+vXVoUMHvfLKK6pYsaIOHTqkuLg4dejQIctl4Oz4+flp8ODBGjhwoDIzM9WoUSOlpqZq9erV8vX1vWrt5cuX1/z589W+fXs5HA69+OKL9kxkfhkzZoz69esnf39/tW3bVmlpadqwYYNOnDihQYMGKSQkRN7e3lq8eLFKly6tokWLZnvJ2el0au3atUpMTJSvr6+CgoLUu3dvzZw5U4899piGDBmiEiVK6Ndff9XcuXM1c+bMfDk7CQAAbg8F+vV55cqV0+bNmzVx4kS98MILOnDggLy8vFSlShUNHjxYvXr1kvTH5eG4uDiNHDlSPXr00LFjxxQWFqbGjRsrNDQ0p0PQ+PHjFRISotjYWO3Zs0eBgYGqXbu2RowYcdX9/vnPf6pHjx5q0KCBSpQooWHDhuX7HbxPP/20ihUrpn/84x8aOnSofHx8VL16dftAa3d3d02dOlXjxo3TSy+9pP/3//5ftpfZBw8erG7duqlKlSo6d+6c9u7dK6fTqe+++07Dhg1T69atlZaWprJly6pNmzYqUiRPN6wDAIDbFF+fh2vi6/MA5De+Pg+4/vL69Xk5PnO4d+/ebP8NAACA20eerile/tBoAAAA3B7yFA5btWqlMmXKaPjw4dq2bVt+1wQAAIACkqdweOjQIQ0dOlSrVq1SjRo1FBMTo8mTJ+vAgQP5XR8AAABuoDyFwxIlSqhPnz767rvvtHv3bj366KN6//335XQ61bx58/yuEQAAADfIX36OSVRUlIYPH65JkyapevXqfB4RAADgFvaXwuF3332nXr16KTw8XI8//riqVq2qRYsW5VdtAAAAuMHy9A0pI0aM0CeffKJDhw6pZcuWeuONN9ShQwcVK1Ysv+sDAADADZSncLhixQoNHjxYjz76qEqUKJHfNQEAAKCA5Ckcrl69Or/rAAAAwE0gx+Fw4cKFatu2rTw8PLRw4cKrtr3//vv/cmEAAAC48XIcDjt06KDk5GSFhISoQ4cOV2zncDiUkZGRH7UBAADgBstxOMzMzMz23wAAALh95Pozh5mZmZozZ47mz5+vxMREORwORUdH66GHHlKXLl3kcDiuR50AAAC4AXL1nENjjO6//349/fTTOnjwoKpXr66qVasqMTFR3bt314MPPni96gQAAMANkKszh3PmzNE333yjhIQENWvWzGXbsmXL1KFDB73//vvq2rVrvhYJAACAGyNXZw4/+eQTjRgxIkswlKTmzZtr+PDh+uijj/KtOAAAANxYuQqHP/zwg9q0aXPF7W3bttXWrVv/clEAAAAoGLkKh8ePH1doaOgVt4eGhurEiRN/uSgAAAAUjFyFw4yMDLm7X/ljim5ubkpPT//LRQEAAKBg5OqGFGOMunfvLi8vr2y3p6Wl5UtRAAAAKBi5CofdunW7ZhvuVAYAALh15Soczp49+3rVAQAAgJtArj5zCAAAgNtbrr8+D4XXm88Eyd/fv6DLAAAA1xFnDgEAAGARDgEAAGARDgEAAGARDgEAAGARDgEAAGARDgEAAGARDgEAAGARDgEAAGARDgEAAGARDgEAAGARDgEAAGARDgEAAGARDgEAAGARDgEAAGARDgEAAGARDgEAAGARDgEAAGARDgEAAGARDgEAAGARDgEAAGARDgEAAGARDgEAAGARDgEAAGARDgEAAGARDgEAAGARDgEAAGARDgEAAGARDgEAAGARDgEAAGARDgEAAGARDgEAAGARDgEAAGARDgEAAGARDgEAAGARDgEAAGARDgEAAGARDgEAAGARDgEAAGARDgEAAGARDgEAAGARDgEAAGARDgEAAGARDgEAAGARDgEAAGARDgEAAGARDgEAAGARDgEAAGARDgEAAGARDgEAAGARDgEAAGARDgEAAGARDgEAAGARDgEAAGARDgEAAGARDgEAAGARDgEAAGARDgEAAGARDgEAAGARDgEAAGARDgEAAGC5F3QBuHX0nXlcnt7pBV1GvpjZK6igSwAA4KbEmUMAAABYhEMAAABYhEMAAABYhEMAAABYhEMAAABYhEMAAABYhEMAAABYhEMAAABYhEMAAABYhEMAAABYhEMAAABYhEMAAABYhEMAAABYhEMAAABYhEMAAABYhEMAAABYhEMAAABYhEMAAABYhEMAAABYhEMAAABYhEMAAABYhEMAAABYhEMAAABYhEMAAABYhEMAAABYhMM8cDgcWrBgQUGXAQAAkO8Ih5K6d++uDh065Lj94cOH1bZtW0lSYmKiHA6HtmzZcn2Ku8yYMWNUs2bNG3IsAABQ+LgXdAG3orCwsIIuAQAA4LrgzOFlmjZtqn79+mno0KEKCgpSWFiYxowZ49Lmz5eVo6KiJEm1atWSw+FQ06ZNJf3f2ciJEycqNDRUgYGBGjt2rNLT0zVkyBAFBQWpdOnSmjVrlkvfw4YNU4UKFVSsWDFFR0frxRdf1MWLFyVJc+bM0dixY7V161Y5HA45HA7NmTNHkpSSkqKePXsqJCRE/v7+at68ubZu3Wr73bp1q5o1ayY/Pz/5+/urTp062rBhQ/5PIAAAuKVx5jAb7733ngYNGqS1a9dqzZo16t69uxo2bKhWrVplabtu3TrVq1dP8fHxqlq1qjw9Pe22ZcuWqXTp0vrmm2/03Xff6amnntKaNWvUuHFjrV27Vp9++qmee+45tWrVSpGRkZIkPz8/zZkzRxEREdq2bZueeeYZ+fn5aejQoXr00Ue1fft2LV68WPHx8ZKkgIAAGWN03333KSgoSHFxcQoICNCMGTPUokUL/fzzzwoKClLnzp1Vq1YtTZ8+XW5ubtqyZYs8PDyyHX9aWprS0tLscmpqan5OLwAAuIlx5jAbMTExGj16tO644w517dpVdevWVUJCQrZtS5YsKUkKDg5WWFiYgoKC7LagoCBNnTpVFStWVI8ePVSxYkWdPXtWI0aM0B133KEXXnhBnp6e+u677+w+o0aNUoMGDeR0OtW+fXs9//zz+s9//iNJ8vb2lq+vr9zd3RUWFqawsDB5e3tr+fLl2rZtmz777DPVrVtXd9xxh1599VUFBgZq3rx5kqSkpCS1bNlSlSpV0h133KFHHnlENWrUyHZMsbGxCggIsD+XgisAALj9EQ6zERMT47IcHh6uo0eP5rqfqlWrqkiR/5vi0NBQVa9e3S67ubkpODjYpe958+apUaNGCgsLk6+vr1588UUlJSVd9TgbN27U6dOnFRwcLF9fX/uzd+9e7d69W5I0aNAgPf3002rZsqUmTZpk12fnhRdeUEpKiv3Zv39/rscOAABuTVxWzsbll1sdDocyMzPzpZ+r9f3999+rU6dOGjt2rFq3bq2AgADNnTtXr7322lWPk5mZqfDwcK1YsSLLtsDAQEl/3OX8+OOP68svv9RXX32l0aNHa+7cuXrwwQez7OPl5SUvL69cjBQAANwuCId/0aXPGGZkZPzlvr777juVLVtWI0eOtOv27duX5XiXH6t27dpKTk6Wu7u7nE7nFfuvUKGCKlSooIEDB+qxxx7T7Nmzsw2HAACg8OKy8l8UEhIib29vLV68WEeOHFFKSkqe+ypfvrySkpI0d+5c7d69W1OnTtUXX3zh0sbpdGrv3r3asmWLfvvtN6Wlpally5aqX7++OnTooCVLligxMVGrV6/WqFGjtGHDBp07d059+vTRihUrtG/fPn333Xdav369Kleu/FeHDwAAbjOEw7/I3d1dU6dO1YwZMxQREaEHHnggz3098MADGjhwoPr06aOaNWtq9erVevHFF13aPPTQQ2rTpo2aNWumkiVL6pNPPpHD4VBcXJwaN26sHj16qEKFCurUqZMSExMVGhoqNzc3/f777+ratasqVKigjh07qm3btho7duxfHT4AALjNOIwxpqCLwM0tNTVVAQEB6vrqXnl6+xd0OfliZq+gazcCAOAWdun9OyUlRf7+OX//5swhAAAALMIhAAAALMIhAAAALMIhAAAALMIhAAAALMIhAAAALMIhAAAALMIhAAAALMIhAAAALMIhAAAALMIhAAAALMIhAAAALMIhAAAALMIhAAAALMIhAAAALMIhAAAALMIhAAAALMIhAAAALMIhAAAALMIhAAAALMIhAAAALMIhAAAALMIhAAAALMIhAAAALPeCLgC3jjefCZK/v39BlwEAAK4jzhwCAADAIhwCAADAIhwCAADAIhwCAADAIhwCAADAIhwCAADAIhwCAADAIhwCAADAIhwCAADAIhwCAADAIhwCAADAIhwCAADAIhwCAADAIhwCAADAIhwCAADAIhwCAADAIhwCAADAIhwCAADAIhwCAADAIhwCAADAIhwCAADAIhwCAADAIhwCAADAIhwCAADAIhwCAADAIhwCAADAIhwCAADAIhwCAADAIhwCAADAci/oAnDzM8ZIklJTUwu4EgAAkFOX3rcvvY/nFOEQ1/T7779LkiIjIwu4EgAAkFunTp1SQEBAjtsTDnFNQUFBkqSkpKRc/XLdrlJTUxUZGan9+/fL39+/oMu5KTAnrpgPV8yHK+YjK+bEVX7NhzFGp06dUkRERK72IxzimooU+eOjqQEBAfxH+yf+/v7Mx2WYE1fMhyvmwxXzkRVz4io/5iMvJ3W4IQUAAAAW4RAAAAAW4RDX5OXlpdGjR8vLy6ugS7kpMB9ZMSeumA9XzIcr5iMr5sRVQc+Hw+T2/mYAAADctjhzCAAAAItwCAAAAItwCAAAAItwCAAAAItwiGuaNm2aoqKiVLRoUdWpU0erVq0q6JL+stjYWN15553y8/NTSEiIOnTooJ9++smljTFGY8aMUUREhLy9vdW0aVP9+OOPLm3S0tLUt29flShRQj4+Prr//vt14MABlzYnTpxQly5dFBAQoICAAHXp0kUnT5683kP8S2JjY+VwODRgwAC7rrDNx8GDB/XEE08oODhYxYoVU82aNbVx40a7vTDNR3p6ukaNGqWoqCh5e3srOjpa48aNU2Zmpm1zu8/HN998o/bt2ysiIkIOh0MLFixw2X4jx5+UlKT27dvLx8dHJUqUUL9+/XThwoXrMewrutp8XLx4UcOGDVP16tXl4+OjiIgIde3aVYcOHXLpo7DMx+WeffZZORwOvfHGGy7rb6r5MMBVzJ0713h4eJiZM2eaHTt2mP79+xsfHx+zb9++gi7tL2ndurWZPXu22b59u9myZYu57777TJkyZczp06dtm0mTJhk/Pz/z+eefm23btplHH33UhIeHm9TUVNvmueeeM6VKlTJLly41mzZtMs2aNTM1atQw6enptk2bNm1MtWrVzOrVq83q1atNtWrVTLt27W7oeHNj3bp1xul0mpiYGNO/f3+7vjDNx/Hjx03ZsmVN9+7dzdq1a83evXtNfHy8+fXXX22bwjQfL7/8sgkODjaLFi0ye/fuNZ999pnx9fU1b7zxhm1zu89HXFycGTlypPn888+NJPPFF1+4bL9R409PTzfVqlUzzZo1M5s2bTJLly41ERERpk+fPtd9Dv7savNx8uRJ07JlS/Ppp5+aXbt2mTVr1pi77rrL1KlTx6WPwjIff/bFF1+YGjVqmIiICPPPf/7TZdvNNB+EQ1xVvXr1zHPPPeeyrlKlSmb48OEFVNH1cfToUSPJrFy50hhjTGZmpgkLCzOTJk2ybc6fP28CAgLMO++8Y4z54w+gh4eHmTt3rm1z8OBBU6RIEbN48WJjjDE7duwwksz3339v26xZs8ZIMrt27boRQ8uVU6dOmTvuuMMsXbrUNGnSxIbDwjYfw4YNM40aNbri9sI2H/fdd5/p0aOHy7q//e1v5oknnjDGFL75uPzN/0aOPy4uzhQpUsQcPHjQtvnkk0+Ml5eXSUlJuS7jvZarhaFL1q1bZyTZEwuFcT4OHDhgSpUqZbZv327Kli3rEg5vtvngsjKu6MKFC9q4caPuuecel/X33HOPVq9eXUBVXR8pKSmSpKCgIEnS3r17lZyc7DJ2Ly8vNWnSxI5948aNunjxokubiIgIVatWzbZZs2aNAgICdNddd9k2d999twICAm7KOezdu7fuu+8+tWzZ0mV9YZuPhQsXqm7dunrkkUcUEhKiWrVqaebMmXZ7YZuPRo0aKSEhQT///LMkaevWrfr222917733Sip883G5Gzn+NWvWqFq1aoqIiLBtWrdurbS0NJePPdxsUlJS5HA4FBgYKKnwzUdmZqa6dOmiIUOGqGrVqlm232zz4Z7rEaLQ+O2335SRkaHQ0FCX9aGhoUpOTi6gqvKfMUaDBg1So0aNVK1aNUmy48tu7Pv27bNtPD09Vbx48SxtLu2fnJyskJCQLMcMCQm56eZw7ty52rRpk9avX59lW2Gbjz179mj69OkaNGiQRowYoXXr1qlfv37y8vJS165dC918DBs2TCkpKapUqZLc3NyUkZGhCRMm6LHHHpNU+H4/Lncjx5+cnJzlOMWLF5enp+dNO0fnz5/X8OHD9fjjj8vf319S4ZuPV155Re7u7urXr1+222+2+SAc4pocDofLsjEmy7pbWZ8+ffTDDz/o22+/zbItL2O/vE127W+2Ody/f7/69++vr7/+WkWLFr1iu8IyH5mZmapbt64mTpwoSapVq5Z+/PFHTZ8+XV27drXtCst8fPrpp/rwww/18ccfq2rVqtqyZYsGDBigiIgIdevWzbYrLPNxJTdq/LfSHF28eFGdOnVSZmampk2bds32t+N8bNy4UVOmTNGmTZtyXVNBzQeXlXFFJUqUkJubW5b/2zh69GiW/zO5VfXt21cLFy7U8uXLVbp0abs+LCxMkq469rCwMF24cEEnTpy4apsjR45kOe6xY8duqjncuHGjjh49qjp16sjd3V3u7u5auXKlpk6dKnd3d1trYZmP8PBwValSxWVd5cqVlZSUJKnw/X4MGTJEw4cPV6dOnVS9enV16dJFAwcOVGxsrKTCNx+Xu5HjDwsLy3KcEydO6OLFizfdHF28eFEdO3bU3r17tXTpUnvWUCpc87Fq1SodPXpUZcqUsX9f9+3bp+eff15Op1PSzTcfhENckaenp+rUqaOlS5e6rF+6dKkaNGhQQFXlD2OM+vTpo/nz52vZsmWKiopy2R4VFaWwsDCXsV+4cEErV660Y69Tp448PDxc2hw+fFjbt2+3berXr6+UlBStW7fOtlm7dq1SUlJuqjls0aKFtm3bpi1bttifunXrqnPnztqyZYuio6ML1Xw0bNgwy6ONfv75Z5UtW1ZS4fv9OHv2rIoUcX27cHNzs4+yKWzzcbkbOf769etr+/btOnz4sG3z9ddfy8vLS3Xq1Lmu48yNS8Hwl19+UXx8vIKDg122F6b56NKli3744QeXv68REREaMmSIlixZIukmnI8c37qCQunSo2z+/e9/mx07dpgBAwYYHx8fk5iYWNCl/SV///vfTUBAgFmxYoU5fPiw/Tl79qxtM2nSJBMQEGDmz59vtm3bZh577LFsH01RunRpEx8fbzZt2mSaN2+e7aMHYmJizJo1a8yaNWtM9erVb4pHc1zLn+9WNqZwzce6deuMu7u7mTBhgvnll1/MRx99ZIoVK2Y+/PBD26YwzUe3bt1MqVKl7KNs5s+fb0qUKGGGDh1q29zu83Hq1CmzefNms3nzZiPJvP7662bz5s327tsbNf5Ljypp0aKF2bRpk4mPjzelS5e+4Y9uudp8XLx40dx///2mdOnSZsuWLS5/Y9PS0grdfGTn8ruVjbm55oNwiGt6++23TdmyZY2np6epXbu2fdzLrUxStj+zZ8+2bTIzM83o0aNNWFiY8fLyMo0bNzbbtm1z6efcuXOmT58+JigoyHh7e5t27dqZpKQklza///676dy5s/Hz8zN+fn6mc+fO5sSJEzdglH/N5eGwsM3H//73P1OtWjXj5eVlKlWqZN59912X7YVpPlJTU03//v1NmTJlTNGiRU10dLQZOXKkyxv97T4fy5cvz/ZvRrdu3YwxN3b8+/btM/fdd5/x9vY2QUFBpk+fPub8+fPXc/hZXG0+9u7de8W/scuXL7d9FJb5yE524fBmmg+HMcbk/DwjAAAAbmd85hAAAAAW4RAAAAAW4RAAAAAW4RAAAAAW4RAAAAAW4RAAAAAW4RAAAAAW4RAAAAAW4RAAblHJycnq27evoqOj5eXlpcjISLVv314JCQk3tA6Hw6EFCxbc0GMCuH7cC7oAAEDuJSYmqmHDhgoMDNTkyZMVExOjixcvasmSJerdu7d27dpV0CUCuEXx9XkAcAu699579cMPP+inn36Sj4+Py7aTJ08qMDBQSUlJ6tu3rxISElSkSBG1adNGb775pkJDQyVJ3bt318mTJ13O+g0YMEBbtmzRihUrJElNmzZVTEyMihYtqn/961/y9PTUc889pzFjxkiSnE6n9u3bZ/cvW7asEhMTr+fQAVxnXFYGgFvM8ePHtXjxYvXu3TtLMJSkwMBAGWPUoUMHHT9+XCtXrtTSpUu1e/duPfroo7k+3nvvvScfHx+tXbtWkydP1rhx47R06VJJ0vr16yVJs2fP1uHDh+0ygFsXl5UB4Bbz66+/yhijSpUqXbFNfHy8fvjhB+3du1eRkZGSpA8++EBVq1bV+vXrdeedd+b4eDExMRo9erQk6Y477tBbb72lhIQEtWrVSiVLlpT0RyANCwv7C6MCcLPgzCEA3GIufRrI4XBcsc3OnTsVGRlpg6EkValSRYGBgdq5c2eujhcTE+OyHB4erqNHj+aqDwC3DsIhANxi7rjjDjkcjquGPGNMtuHxz+uLFCmiyz92fvHixSz7eHh4uCw7HA5lZmbmpXQAtwDCIQDcYoKCgtS6dWu9/fbbOnPmTJbtJ0+eVJUqVZSUlKT9+/fb9Tt27FBKSooqV64sSSpZsqQOHz7ssu+WLVtyXY+Hh4cyMjJyvR+AmxPhEABuQdOmTVNGRobq1aunzz//XL/88ot27typqVOnqn79+mrZsqViYmLUuXNnbdq0SevWrVPXrl3VpEkT1a1bV5LUvHlzbdiwQe+//75++eUXjR49Wtu3b891LU6nUwkJCUpOTtaJEyfye6gAbjDCIQDcgqKiorRp0yY1a9ZMzz//vKpVq6ZWrVopISFB06dPtw+mLl68uBo3bqyWLVsqOjpan376qe2jdevWevHFFzV06FDdeeedOnXqlLp27ZrrWl577TUtXbpUkZGRqlWrVn4OE0AB4DmHAAAAsDhzCAAAAItwCAAAAItwCAAAAItwCAAAAItwCAAAAItwCAAAAItwCAAAAItwCAAAAItwCAAAAItwCAAAAItwCAAAAItwCAAAAOv/A90/eVRNbJsWAAAAAElFTkSuQmCC",
      "text/plain": [
       "<Figure size 640x480 with 1 Axes>"
      ]
     },
     "metadata": {},
     "output_type": "display_data"
    }
   ],
   "source": [
    "df['Division Name'].value_counts().sort_values().plot(kind='barh', color='cornflowerblue')\n",
    "plt.xlabel('Count')\n",
    "plt.ylabel('Division')\n",
    "plt.title('Preference of customer')\n",
    "plt.show()"
   ]
  },
  {
   "cell_type": "code",
   "execution_count": 60,
   "id": "5c0f3d05",
   "metadata": {
    "colab": {
     "base_uri": "https://localhost:8080/",
     "height": 492
    },
    "id": "5c0f3d05",
    "outputId": "1b509820-a21c-413d-abe1-a6ba7be2c1e3"
   },
   "outputs": [
    {
     "data": {
      "image/png": "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",
      "text/plain": [
       "<Figure size 640x480 with 1 Axes>"
      ]
     },
     "metadata": {},
     "output_type": "display_data"
    }
   ],
   "source": [
    "df['Department Name'].value_counts().sort_values().plot(kind='barh', color='cornflowerblue')\n",
    "plt.xlabel('Count')\n",
    "plt.ylabel('Dept. Name')\n",
    "plt.title('Pref. of customer on product level')\n",
    "plt.show()"
   ]
  },
  {
   "cell_type": "code",
   "execution_count": 61,
   "id": "58f18d26",
   "metadata": {
    "colab": {
     "base_uri": "https://localhost:8080/",
     "height": 586
    },
    "id": "58f18d26",
    "outputId": "9c6f6ba4-4e61-4b62-a64a-143e3c811a2a"
   },
   "outputs": [
    {
     "data": {
      "image/png": "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",
      "text/plain": [
       "<Figure size 640x480 with 1 Axes>"
      ]
     },
     "metadata": {},
     "output_type": "display_data"
    }
   ],
   "source": [
    "df['Class Name'].value_counts().sort_values().plot(kind='bar', color='cornflowerblue')\n",
    "plt.xlabel('Name of sub-division')\n",
    "plt.ylabel('Count')\n",
    "plt.title('Pref. of customer on class level')\n",
    "plt.show()"
   ]
  },
  {
   "cell_type": "markdown",
   "id": "91831313",
   "metadata": {
    "id": "91831313"
   },
   "source": [
    "## Analysis of Object data type\n",
    "- highest preferred Department is 'Tops'\n",
    "- Sub-division of dresses have the maximun product ratings on the website. This clearly signifies that 'dresses' as a category does receive a lot a web traffic, since it has maximum positive reviews"
   ]
  },
  {
   "cell_type": "markdown",
   "id": "789d435c",
   "metadata": {
    "id": "789d435c"
   },
   "source": [
    "## Adding a new column 'Word Count'.\n",
    "Agenda for adding this is, in order to find out the word count for column 'Review_text' mainly to find out that it might impact the hit of postive_reviews. It is often noticed that a reader loses interest after a certain number of words. during my EDA I have inferred that this may have some impact on the positive count."
   ]
  },
  {
   "cell_type": "code",
   "execution_count": 20,
   "id": "0603fa9c",
   "metadata": {
    "colab": {
     "base_uri": "https://localhost:8080/"
    },
    "id": "0603fa9c",
    "outputId": "9c835e82-3482-418b-a327-3af5f7429f6c"
   },
   "outputs": [
    {
     "name": "stdout",
     "output_type": "stream",
     "text": [
      "       Unnamed: 0  Clothing ID  Age  \\\n",
      "0               0          767   33   \n",
      "1               1         1080   34   \n",
      "2               2         1077   60   \n",
      "3               3         1049   50   \n",
      "4               4          847   47   \n",
      "...           ...          ...  ...   \n",
      "23481       23481         1104   34   \n",
      "23482       23482          862   48   \n",
      "23483       23483         1104   31   \n",
      "23484       23484         1084   28   \n",
      "23485       23485         1104   52   \n",
      "\n",
      "                                                   Title  \\\n",
      "0                                                    NaN   \n",
      "1                                                    NaN   \n",
      "2                                Some major design flaws   \n",
      "3                                       My favorite buy!   \n",
      "4                                       Flattering shirt   \n",
      "...                                                  ...   \n",
      "23481                     Great dress for many occasions   \n",
      "23482                         Wish it was made of cotton   \n",
      "23483                              Cute, but see through   \n",
      "23484  Very cute dress, perfect for summer parties an...   \n",
      "23485                    Please make more like this one!   \n",
      "\n",
      "                                             Review Text  Rating  \\\n",
      "0      Absolutely wonderful - silky and sexy and comf...       4   \n",
      "1      Love this dress!  it's sooo pretty.  i happene...       5   \n",
      "2      I had such high hopes for this dress and reall...       3   \n",
      "3      I love, love, love this jumpsuit. it's fun, fl...       5   \n",
      "4      This shirt is very flattering to all due to th...       5   \n",
      "...                                                  ...     ...   \n",
      "23481  I was very happy to snag this dress at such a ...       5   \n",
      "23482  It reminds me of maternity clothes. soft, stre...       3   \n",
      "23483  This fit well, but the top was very see throug...       3   \n",
      "23484  I bought this dress for a wedding i have this ...       3   \n",
      "23485  This dress in a lovely platinum is feminine an...       5   \n",
      "\n",
      "       Recommended IND  Positive Feedback Count   Division Name  \\\n",
      "0                    1                        0       Initmates   \n",
      "1                    1                        4         General   \n",
      "2                    0                        0         General   \n",
      "3                    1                        0  General Petite   \n",
      "4                    1                        6         General   \n",
      "...                ...                      ...             ...   \n",
      "23481                1                        0  General Petite   \n",
      "23482                1                        0  General Petite   \n",
      "23483                0                        1  General Petite   \n",
      "23484                1                        2         General   \n",
      "23485                1                       22  General Petite   \n",
      "\n",
      "      Department Name Class Name  \n",
      "0            Intimate  Intimates  \n",
      "1             Dresses    Dresses  \n",
      "2             Dresses    Dresses  \n",
      "3             Bottoms      Pants  \n",
      "4                Tops    Blouses  \n",
      "...               ...        ...  \n",
      "23481         Dresses    Dresses  \n",
      "23482            Tops      Knits  \n",
      "23483         Dresses    Dresses  \n",
      "23484         Dresses    Dresses  \n",
      "23485         Dresses    Dresses  \n",
      "\n",
      "[23486 rows x 11 columns]\n"
     ]
    }
   ],
   "source": [
    "df['Review Text'] = df['Review Text'].astype(str)\n",
    "\n",
    "print(df)"
   ]
  },
  {
   "cell_type": "code",
   "execution_count": 21,
   "id": "c5c740ee",
   "metadata": {
    "colab": {
     "base_uri": "https://localhost:8080/"
    },
    "id": "c5c740ee",
    "outputId": "483ab8ed-d8d0-4c4c-d17c-87fe0a2fca5d"
   },
   "outputs": [
    {
     "name": "stdout",
     "output_type": "stream",
     "text": [
      "       Unnamed: 0  Clothing ID  Age  \\\n",
      "0               0          767   33   \n",
      "1               1         1080   34   \n",
      "2               2         1077   60   \n",
      "3               3         1049   50   \n",
      "4               4          847   47   \n",
      "...           ...          ...  ...   \n",
      "23481       23481         1104   34   \n",
      "23482       23482          862   48   \n",
      "23483       23483         1104   31   \n",
      "23484       23484         1084   28   \n",
      "23485       23485         1104   52   \n",
      "\n",
      "                                                   Title  \\\n",
      "0                                                    NaN   \n",
      "1                                                    NaN   \n",
      "2                                Some major design flaws   \n",
      "3                                       My favorite buy!   \n",
      "4                                       Flattering shirt   \n",
      "...                                                  ...   \n",
      "23481                     Great dress for many occasions   \n",
      "23482                         Wish it was made of cotton   \n",
      "23483                              Cute, but see through   \n",
      "23484  Very cute dress, perfect for summer parties an...   \n",
      "23485                    Please make more like this one!   \n",
      "\n",
      "                                             Review Text  Rating  \\\n",
      "0      Absolutely wonderful - silky and sexy and comf...       4   \n",
      "1      Love this dress!  it's sooo pretty.  i happene...       5   \n",
      "2      I had such high hopes for this dress and reall...       3   \n",
      "3      I love, love, love this jumpsuit. it's fun, fl...       5   \n",
      "4      This shirt is very flattering to all due to th...       5   \n",
      "...                                                  ...     ...   \n",
      "23481  I was very happy to snag this dress at such a ...       5   \n",
      "23482  It reminds me of maternity clothes. soft, stre...       3   \n",
      "23483  This fit well, but the top was very see throug...       3   \n",
      "23484  I bought this dress for a wedding i have this ...       3   \n",
      "23485  This dress in a lovely platinum is feminine an...       5   \n",
      "\n",
      "       Recommended IND  Positive Feedback Count   Division Name  \\\n",
      "0                    1                        0       Initmates   \n",
      "1                    1                        4         General   \n",
      "2                    0                        0         General   \n",
      "3                    1                        0  General Petite   \n",
      "4                    1                        6         General   \n",
      "...                ...                      ...             ...   \n",
      "23481                1                        0  General Petite   \n",
      "23482                1                        0  General Petite   \n",
      "23483                0                        1  General Petite   \n",
      "23484                1                        2         General   \n",
      "23485                1                       22  General Petite   \n",
      "\n",
      "      Department Name Class Name  word_count  \n",
      "0            Intimate  Intimates           8  \n",
      "1             Dresses    Dresses          62  \n",
      "2             Dresses    Dresses          98  \n",
      "3             Bottoms      Pants          22  \n",
      "4                Tops    Blouses          36  \n",
      "...               ...        ...         ...  \n",
      "23481         Dresses    Dresses          28  \n",
      "23482            Tops      Knits          38  \n",
      "23483         Dresses    Dresses          42  \n",
      "23484         Dresses    Dresses          86  \n",
      "23485         Dresses    Dresses          19  \n",
      "\n",
      "[23486 rows x 12 columns]\n"
     ]
    }
   ],
   "source": [
    "def calculate_word_count(text):\n",
    "    return len(text.split())\n",
    "\n",
    "df['word_count'] = df['Review Text'].apply(calculate_word_count)\n",
    "\n",
    "print(df)"
   ]
  },
  {
   "cell_type": "code",
   "execution_count": 62,
   "id": "d95249c3",
   "metadata": {
    "colab": {
     "base_uri": "https://localhost:8080/",
     "height": 597
    },
    "id": "d95249c3",
    "outputId": "815c177b-f679-442b-dd81-e0a7d7988b90"
   },
   "outputs": [
    {
     "data": {
      "text/html": [
       "<div>\n",
       "<style scoped>\n",
       "    .dataframe tbody tr th:only-of-type {\n",
       "        vertical-align: middle;\n",
       "    }\n",
       "\n",
       "    .dataframe tbody tr th {\n",
       "        vertical-align: top;\n",
       "    }\n",
       "\n",
       "    .dataframe thead th {\n",
       "        text-align: right;\n",
       "    }\n",
       "</style>\n",
       "<table border=\"1\" class=\"dataframe\">\n",
       "  <thead>\n",
       "    <tr style=\"text-align: right;\">\n",
       "      <th></th>\n",
       "      <th>Unnamed: 0</th>\n",
       "      <th>Clothing ID</th>\n",
       "      <th>Age</th>\n",
       "      <th>Title</th>\n",
       "      <th>Review Text</th>\n",
       "      <th>Rating</th>\n",
       "      <th>Recommended IND</th>\n",
       "      <th>Positive Feedback Count</th>\n",
       "      <th>Division Name</th>\n",
       "      <th>Department Name</th>\n",
       "      <th>Class Name</th>\n",
       "    </tr>\n",
       "  </thead>\n",
       "  <tbody>\n",
       "    <tr>\n",
       "      <th>0</th>\n",
       "      <td>0</td>\n",
       "      <td>767</td>\n",
       "      <td>33</td>\n",
       "      <td>NaN</td>\n",
       "      <td>Absolutely wonderful - silky and sexy and comf...</td>\n",
       "      <td>4</td>\n",
       "      <td>1</td>\n",
       "      <td>0</td>\n",
       "      <td>Initmates</td>\n",
       "      <td>Intimate</td>\n",
       "      <td>Intimates</td>\n",
       "    </tr>\n",
       "    <tr>\n",
       "      <th>1</th>\n",
       "      <td>1</td>\n",
       "      <td>1080</td>\n",
       "      <td>34</td>\n",
       "      <td>NaN</td>\n",
       "      <td>Love this dress!  it's sooo pretty.  i happene...</td>\n",
       "      <td>5</td>\n",
       "      <td>1</td>\n",
       "      <td>4</td>\n",
       "      <td>General</td>\n",
       "      <td>Dresses</td>\n",
       "      <td>Dresses</td>\n",
       "    </tr>\n",
       "    <tr>\n",
       "      <th>2</th>\n",
       "      <td>2</td>\n",
       "      <td>1077</td>\n",
       "      <td>60</td>\n",
       "      <td>Some major design flaws</td>\n",
       "      <td>I had such high hopes for this dress and reall...</td>\n",
       "      <td>3</td>\n",
       "      <td>0</td>\n",
       "      <td>0</td>\n",
       "      <td>General</td>\n",
       "      <td>Dresses</td>\n",
       "      <td>Dresses</td>\n",
       "    </tr>\n",
       "    <tr>\n",
       "      <th>3</th>\n",
       "      <td>3</td>\n",
       "      <td>1049</td>\n",
       "      <td>50</td>\n",
       "      <td>My favorite buy!</td>\n",
       "      <td>I love, love, love this jumpsuit. it's fun, fl...</td>\n",
       "      <td>5</td>\n",
       "      <td>1</td>\n",
       "      <td>0</td>\n",
       "      <td>General Petite</td>\n",
       "      <td>Bottoms</td>\n",
       "      <td>Pants</td>\n",
       "    </tr>\n",
       "    <tr>\n",
       "      <th>4</th>\n",
       "      <td>4</td>\n",
       "      <td>847</td>\n",
       "      <td>47</td>\n",
       "      <td>Flattering shirt</td>\n",
       "      <td>This shirt is very flattering to all due to th...</td>\n",
       "      <td>5</td>\n",
       "      <td>1</td>\n",
       "      <td>6</td>\n",
       "      <td>General</td>\n",
       "      <td>Tops</td>\n",
       "      <td>Blouses</td>\n",
       "    </tr>\n",
       "  </tbody>\n",
       "</table>\n",
       "</div>"
      ],
      "text/plain": [
       "   Unnamed: 0  Clothing ID  Age                    Title  \\\n",
       "0           0          767   33                      NaN   \n",
       "1           1         1080   34                      NaN   \n",
       "2           2         1077   60  Some major design flaws   \n",
       "3           3         1049   50         My favorite buy!   \n",
       "4           4          847   47         Flattering shirt   \n",
       "\n",
       "                                         Review Text  Rating  Recommended IND  \\\n",
       "0  Absolutely wonderful - silky and sexy and comf...       4                1   \n",
       "1  Love this dress!  it's sooo pretty.  i happene...       5                1   \n",
       "2  I had such high hopes for this dress and reall...       3                0   \n",
       "3  I love, love, love this jumpsuit. it's fun, fl...       5                1   \n",
       "4  This shirt is very flattering to all due to th...       5                1   \n",
       "\n",
       "   Positive Feedback Count   Division Name Department Name Class Name  \n",
       "0                        0       Initmates        Intimate  Intimates  \n",
       "1                        4         General         Dresses    Dresses  \n",
       "2                        0         General         Dresses    Dresses  \n",
       "3                        0  General Petite         Bottoms      Pants  \n",
       "4                        6         General            Tops    Blouses  "
      ]
     },
     "execution_count": 62,
     "metadata": {},
     "output_type": "execute_result"
    }
   ],
   "source": [
    "df.head()"
   ]
  },
  {
   "cell_type": "code",
   "execution_count": 63,
   "id": "15eff791",
   "metadata": {
    "colab": {
     "base_uri": "https://localhost:8080/",
     "height": 323
    },
    "id": "15eff791",
    "outputId": "61a7ef3a-6ac8-4e40-ae19-ad6041b293b7"
   },
   "outputs": [
    {
     "data": {
      "text/html": [
       "<div>\n",
       "<style scoped>\n",
       "    .dataframe tbody tr th:only-of-type {\n",
       "        vertical-align: middle;\n",
       "    }\n",
       "\n",
       "    .dataframe tbody tr th {\n",
       "        vertical-align: top;\n",
       "    }\n",
       "\n",
       "    .dataframe thead th {\n",
       "        text-align: right;\n",
       "    }\n",
       "</style>\n",
       "<table border=\"1\" class=\"dataframe\">\n",
       "  <thead>\n",
       "    <tr style=\"text-align: right;\">\n",
       "      <th></th>\n",
       "      <th>Unnamed: 0</th>\n",
       "      <th>Clothing ID</th>\n",
       "      <th>Age</th>\n",
       "      <th>Rating</th>\n",
       "      <th>Recommended IND</th>\n",
       "      <th>Positive Feedback Count</th>\n",
       "    </tr>\n",
       "  </thead>\n",
       "  <tbody>\n",
       "    <tr>\n",
       "      <th>count</th>\n",
       "      <td>23486.000000</td>\n",
       "      <td>23486.000000</td>\n",
       "      <td>23486.000000</td>\n",
       "      <td>23486.000000</td>\n",
       "      <td>23486.000000</td>\n",
       "      <td>23486.000000</td>\n",
       "    </tr>\n",
       "    <tr>\n",
       "      <th>mean</th>\n",
       "      <td>11742.500000</td>\n",
       "      <td>918.118709</td>\n",
       "      <td>43.198544</td>\n",
       "      <td>4.196032</td>\n",
       "      <td>0.822362</td>\n",
       "      <td>2.535936</td>\n",
       "    </tr>\n",
       "    <tr>\n",
       "      <th>std</th>\n",
       "      <td>6779.968547</td>\n",
       "      <td>203.298980</td>\n",
       "      <td>12.279544</td>\n",
       "      <td>1.110031</td>\n",
       "      <td>0.382216</td>\n",
       "      <td>5.702202</td>\n",
       "    </tr>\n",
       "    <tr>\n",
       "      <th>min</th>\n",
       "      <td>0.000000</td>\n",
       "      <td>0.000000</td>\n",
       "      <td>18.000000</td>\n",
       "      <td>1.000000</td>\n",
       "      <td>0.000000</td>\n",
       "      <td>0.000000</td>\n",
       "    </tr>\n",
       "    <tr>\n",
       "      <th>25%</th>\n",
       "      <td>5871.250000</td>\n",
       "      <td>861.000000</td>\n",
       "      <td>34.000000</td>\n",
       "      <td>4.000000</td>\n",
       "      <td>1.000000</td>\n",
       "      <td>0.000000</td>\n",
       "    </tr>\n",
       "    <tr>\n",
       "      <th>50%</th>\n",
       "      <td>11742.500000</td>\n",
       "      <td>936.000000</td>\n",
       "      <td>41.000000</td>\n",
       "      <td>5.000000</td>\n",
       "      <td>1.000000</td>\n",
       "      <td>1.000000</td>\n",
       "    </tr>\n",
       "    <tr>\n",
       "      <th>75%</th>\n",
       "      <td>17613.750000</td>\n",
       "      <td>1078.000000</td>\n",
       "      <td>52.000000</td>\n",
       "      <td>5.000000</td>\n",
       "      <td>1.000000</td>\n",
       "      <td>3.000000</td>\n",
       "    </tr>\n",
       "    <tr>\n",
       "      <th>max</th>\n",
       "      <td>23485.000000</td>\n",
       "      <td>1205.000000</td>\n",
       "      <td>99.000000</td>\n",
       "      <td>5.000000</td>\n",
       "      <td>1.000000</td>\n",
       "      <td>122.000000</td>\n",
       "    </tr>\n",
       "  </tbody>\n",
       "</table>\n",
       "</div>"
      ],
      "text/plain": [
       "         Unnamed: 0   Clothing ID           Age        Rating  \\\n",
       "count  23486.000000  23486.000000  23486.000000  23486.000000   \n",
       "mean   11742.500000    918.118709     43.198544      4.196032   \n",
       "std     6779.968547    203.298980     12.279544      1.110031   \n",
       "min        0.000000      0.000000     18.000000      1.000000   \n",
       "25%     5871.250000    861.000000     34.000000      4.000000   \n",
       "50%    11742.500000    936.000000     41.000000      5.000000   \n",
       "75%    17613.750000   1078.000000     52.000000      5.000000   \n",
       "max    23485.000000   1205.000000     99.000000      5.000000   \n",
       "\n",
       "       Recommended IND  Positive Feedback Count  \n",
       "count     23486.000000             23486.000000  \n",
       "mean          0.822362                 2.535936  \n",
       "std           0.382216                 5.702202  \n",
       "min           0.000000                 0.000000  \n",
       "25%           1.000000                 0.000000  \n",
       "50%           1.000000                 1.000000  \n",
       "75%           1.000000                 3.000000  \n",
       "max           1.000000               122.000000  "
      ]
     },
     "execution_count": 63,
     "metadata": {},
     "output_type": "execute_result"
    }
   ],
   "source": [
    "df.describe()"
   ]
  },
  {
   "cell_type": "code",
   "execution_count": 64,
   "id": "9d257224",
   "metadata": {
    "colab": {
     "base_uri": "https://localhost:8080/"
    },
    "id": "9d257224",
    "outputId": "8b39e713-f502-4441-c053-52782b88a9a0"
   },
   "outputs": [
    {
     "name": "stdout",
     "output_type": "stream",
     "text": [
      "<class 'pandas.core.frame.DataFrame'>\n",
      "RangeIndex: 23486 entries, 0 to 23485\n",
      "Data columns (total 11 columns):\n",
      " #   Column                   Non-Null Count  Dtype \n",
      "---  ------                   --------------  ----- \n",
      " 0   Unnamed: 0               23486 non-null  int64 \n",
      " 1   Clothing ID              23486 non-null  int64 \n",
      " 2   Age                      23486 non-null  int64 \n",
      " 3   Title                    19676 non-null  object\n",
      " 4   Review Text              22641 non-null  object\n",
      " 5   Rating                   23486 non-null  int64 \n",
      " 6   Recommended IND          23486 non-null  int64 \n",
      " 7   Positive Feedback Count  23486 non-null  int64 \n",
      " 8   Division Name            23472 non-null  object\n",
      " 9   Department Name          23472 non-null  object\n",
      " 10  Class Name               23472 non-null  object\n",
      "dtypes: int64(6), object(5)\n",
      "memory usage: 2.0+ MB\n"
     ]
    }
   ],
   "source": [
    "df.info()"
   ]
  },
  {
   "cell_type": "code",
   "execution_count": 25,
   "id": "9e3bf607",
   "metadata": {
    "id": "9e3bf607"
   },
   "outputs": [],
   "source": [
    "mean = df['word_count'].mean()"
   ]
  },
  {
   "cell_type": "code",
   "execution_count": 26,
   "id": "1b1269c8",
   "metadata": {
    "colab": {
     "base_uri": "https://localhost:8080/"
    },
    "id": "1b1269c8",
    "outputId": "f02c90b0-28c0-4179-e587-a4434d9abd42"
   },
   "outputs": [
    {
     "data": {
      "text/plain": [
       "58.066848335178406"
      ]
     },
     "execution_count": 26,
     "metadata": {},
     "output_type": "execute_result"
    }
   ],
   "source": [
    "mean"
   ]
  },
  {
   "cell_type": "code",
   "execution_count": 27,
   "id": "75cacfd3",
   "metadata": {
    "colab": {
     "base_uri": "https://localhost:8080/",
     "height": 450
    },
    "id": "75cacfd3",
    "outputId": "f93ce2bc-e72f-4acf-a14e-d7a5d88f8a88"
   },
   "outputs": [
    {
     "data": {
      "image/png": "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",
      "text/plain": [
       "<Figure size 640x480 with 1 Axes>"
      ]
     },
     "metadata": {},
     "output_type": "display_data"
    }
   ],
   "source": [
    "plt.hist(df[\"word_count\"])\n",
    "plt.axvline(mean, color='r', linestyle='--')\n",
    "plt.show()"
   ]
  },
  {
   "cell_type": "markdown",
   "id": "7b9dffed",
   "metadata": {
    "id": "7b9dffed"
   },
   "source": [
    "# Correlation\n",
    "analysis of correlation through plotting a heatmap of all the features."
   ]
  },
  {
   "cell_type": "code",
   "execution_count": 65,
   "id": "0d1c9173",
   "metadata": {
    "colab": {
     "base_uri": "https://localhost:8080/",
     "height": 1000
    },
    "id": "0d1c9173",
    "outputId": "8e8bcdff-5791-427e-b169-acf4fe027f13"
   },
   "outputs": [
    {
     "name": "stderr",
     "output_type": "stream",
     "text": [
      "/var/folders/lz/yyymkzmj341dzf13twbv_brr0000gn/T/ipykernel_71610/2789499681.py:6: FutureWarning:\n",
      "\n",
      "The default value of numeric_only in DataFrame.corr is deprecated. In a future version, it will default to False. Select only valid columns or specify the value of numeric_only to silence this warning.\n",
      "\n"
     ]
    },
    {
     "data": {
      "image/png": "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",
      "text/plain": [
       "<Figure size 1000x1000 with 2 Axes>"
      ]
     },
     "metadata": {},
     "output_type": "display_data"
    }
   ],
   "source": [
    "import matplotlib.pyplot as plt\n",
    "%matplotlib inline\n",
    "import seaborn as sns\n",
    "\n",
    "plt.figure(figsize=(10, 10))\n",
    "sns.heatmap(df.drop('Review Text', axis=1).corr(), annot=True, cmap=\"BuGn\", linewidths=0.2, annot_kws={\"fontsize\":15});"
   ]
  },
  {
   "cell_type": "markdown",
   "id": "7eadc462",
   "metadata": {
    "id": "7eadc462"
   },
   "source": [
    "the heatmap shows us that there is a high correlation between `Rating` and `Recommendation`"
   ]
  },
  {
   "cell_type": "markdown",
   "id": "74c64af2",
   "metadata": {},
   "source": [
    "## Conclusions and Insights from EDA\n",
    "- Shape of the Data Set is 23486 rows and 11 columns\n",
    "- 5 Object type columns and 6 int types\n",
    "- The data set contains ‘Title : 3810’ and ‘Review_text : 845’ null values\n",
    "- Classification problem with ‘Rating’ as the target variable\n",
    "- After plotting a heat map, there is high correlation between ‘Rating’ and ‘Recommendation_IND’. Which seemed obvious since higher the rating, higher recommendation.\n"
   ]
  },
  {
   "cell_type": "markdown",
   "id": "7710f61b",
   "metadata": {},
   "source": [
    "## Preprocessing data for modeling "
   ]
  },
  {
   "cell_type": "markdown",
   "id": "90707b38-3dc8-4d20-82a9-2d1acad1b388",
   "metadata": {
    "id": "90707b38-3dc8-4d20-82a9-2d1acad1b388"
   },
   "source": [
    "For logistic regression, we will have to do a multi class classification since the ratings are in 'positive', 'nuetral' and 'negative'\n",
    "\n",
    "we will distribute the existing data as below\n",
    "\n",
    "Ratings:\n",
    "- `0-2` : negative\n",
    "- `3` : nuetral\n",
    "- `4-5` : postive\n",
    "\n",
    "\n",
    "- #### Vectorization\n",
    "\n",
    "When performing NLP! In particular, we creat a **document-term matrix**, that is we encod text data into a numeric matrix that any computer can understand. \n",
    "\n",
    "This idea of making a document-term matrix, where each row is a document and each column is a unique token, is the basic idea of NLP. \n",
    "\n",
    "The methods for creating these document-term matrices are called **vectorizers** and we'll look at two today:\n",
    "\n",
    "- **Bag of Words**: Storing the counts of each unique word from our corpus for each document.\n",
    "\n",
    "#### Text Processing\n",
    "A key part of NLP is simplifying our text data to allow our models to focus on the most meaningful tokens within each document. We will cover a number of steps to clean our text and bring it to the best form for exploration and modeling. The most important steps include:\n",
    "Tokenizing: Something that might have come up in Exercise 1 is the issue of punctuation. Do we include that in the token or just remove it? This is a common issue in NLP, along with a few other problems when we talk about tokenizing text data.\n",
    "Stop word removal: You might have also considered how to deal with common stop words (and, or, the, etc.). These words are very common in language and usually link parts of sentences rather than conveying particular meaning or information.\n",
    "Stemming and lemmatization: Another example is actually modifying the unique words like shortening words from working to work to try and reduce the number of columns in the matrix and encode commonality between sentences like:"
   ]
  },
  {
   "cell_type": "code",
   "execution_count": null,
   "id": "4c9e1afe",
   "metadata": {},
   "outputs": [],
   "source": [
    "# checking maximum frequency or mode for all object types data types"
   ]
  },
  {
   "cell_type": "code",
   "execution_count": 66,
   "id": "a0aa8d0a-3ed2-4d11-a335-1510ff8b4452",
   "metadata": {
    "colab": {
     "base_uri": "https://localhost:8080/"
    },
    "id": "a0aa8d0a-3ed2-4d11-a335-1510ff8b4452",
    "outputId": "d81972e2-af35-4305-cab0-47ebc3b255ab"
   },
   "outputs": [
    {
     "data": {
      "text/plain": [
       "0    Perfect fit and i've gotten so many compliment...\n",
       "Name: Review Text, dtype: object"
      ]
     },
     "execution_count": 66,
     "metadata": {},
     "output_type": "execute_result"
    }
   ],
   "source": [
    "df['Review Text'].mode()"
   ]
  },
  {
   "cell_type": "code",
   "execution_count": 67,
   "id": "fea5524e-b8bb-47e6-bf6d-93684e629cf0",
   "metadata": {
    "colab": {
     "base_uri": "https://localhost:8080/"
    },
    "id": "fea5524e-b8bb-47e6-bf6d-93684e629cf0",
    "outputId": "56ae6623-480b-4ae1-b973-3916e1ec05fb"
   },
   "outputs": [
    {
     "data": {
      "text/plain": [
       "0    Love it!\n",
       "Name: Title, dtype: object"
      ]
     },
     "execution_count": 67,
     "metadata": {},
     "output_type": "execute_result"
    }
   ],
   "source": [
    "df['Title'].mode()"
   ]
  },
  {
   "cell_type": "code",
   "execution_count": 68,
   "id": "-N8_J9CfjHiM",
   "metadata": {
    "colab": {
     "base_uri": "https://localhost:8080/"
    },
    "id": "-N8_J9CfjHiM",
    "outputId": "6035de43-f7eb-49cc-fc5c-afe41dced77e"
   },
   "outputs": [
    {
     "data": {
      "text/plain": [
       "False    22641\n",
       "True       845\n",
       "Name: Review Text, dtype: int64"
      ]
     },
     "execution_count": 68,
     "metadata": {},
     "output_type": "execute_result"
    }
   ],
   "source": [
    "df['Review Text'].isna().value_counts()"
   ]
  },
  {
   "cell_type": "code",
   "execution_count": 35,
   "id": "YjHxljcnjHkr",
   "metadata": {
    "id": "YjHxljcnjHkr"
   },
   "outputs": [],
   "source": [
    "#df['Sentiment'] = np.where(df['Rating'] > 3, 'Positive', np.where(df['Rating'] == 3, 'Neutral', 'Negative'))"
   ]
  },
  {
   "cell_type": "code",
   "execution_count": 36,
   "id": "R-sQ1_uajHnC",
   "metadata": {
    "colab": {
     "base_uri": "https://localhost:8080/",
     "height": 632
    },
    "id": "R-sQ1_uajHnC",
    "outputId": "8fc99f27-cd9d-4681-f147-8728536410f2"
   },
   "outputs": [
    {
     "data": {
      "text/html": [
       "<div>\n",
       "<style scoped>\n",
       "    .dataframe tbody tr th:only-of-type {\n",
       "        vertical-align: middle;\n",
       "    }\n",
       "\n",
       "    .dataframe tbody tr th {\n",
       "        vertical-align: top;\n",
       "    }\n",
       "\n",
       "    .dataframe thead th {\n",
       "        text-align: right;\n",
       "    }\n",
       "</style>\n",
       "<table border=\"1\" class=\"dataframe\">\n",
       "  <thead>\n",
       "    <tr style=\"text-align: right;\">\n",
       "      <th></th>\n",
       "      <th>Unnamed: 0</th>\n",
       "      <th>Clothing ID</th>\n",
       "      <th>Age</th>\n",
       "      <th>Title</th>\n",
       "      <th>Review Text</th>\n",
       "      <th>Rating</th>\n",
       "      <th>Recommended IND</th>\n",
       "      <th>Positive Feedback Count</th>\n",
       "      <th>Division Name</th>\n",
       "      <th>Department Name</th>\n",
       "      <th>Class Name</th>\n",
       "      <th>word_count</th>\n",
       "      <th>Sentiment</th>\n",
       "    </tr>\n",
       "  </thead>\n",
       "  <tbody>\n",
       "    <tr>\n",
       "      <th>0</th>\n",
       "      <td>0</td>\n",
       "      <td>767</td>\n",
       "      <td>33</td>\n",
       "      <td>NaN</td>\n",
       "      <td>Absolutely wonderful - silky and sexy and comf...</td>\n",
       "      <td>4</td>\n",
       "      <td>1</td>\n",
       "      <td>0</td>\n",
       "      <td>Initmates</td>\n",
       "      <td>Intimate</td>\n",
       "      <td>Intimates</td>\n",
       "      <td>8</td>\n",
       "      <td>Positive</td>\n",
       "    </tr>\n",
       "    <tr>\n",
       "      <th>1</th>\n",
       "      <td>1</td>\n",
       "      <td>1080</td>\n",
       "      <td>34</td>\n",
       "      <td>NaN</td>\n",
       "      <td>Love this dress!  it's sooo pretty.  i happene...</td>\n",
       "      <td>5</td>\n",
       "      <td>1</td>\n",
       "      <td>4</td>\n",
       "      <td>General</td>\n",
       "      <td>Dresses</td>\n",
       "      <td>Dresses</td>\n",
       "      <td>62</td>\n",
       "      <td>Positive</td>\n",
       "    </tr>\n",
       "    <tr>\n",
       "      <th>2</th>\n",
       "      <td>2</td>\n",
       "      <td>1077</td>\n",
       "      <td>60</td>\n",
       "      <td>Some major design flaws</td>\n",
       "      <td>I had such high hopes for this dress and reall...</td>\n",
       "      <td>3</td>\n",
       "      <td>0</td>\n",
       "      <td>0</td>\n",
       "      <td>General</td>\n",
       "      <td>Dresses</td>\n",
       "      <td>Dresses</td>\n",
       "      <td>98</td>\n",
       "      <td>Neutral</td>\n",
       "    </tr>\n",
       "    <tr>\n",
       "      <th>3</th>\n",
       "      <td>3</td>\n",
       "      <td>1049</td>\n",
       "      <td>50</td>\n",
       "      <td>My favorite buy!</td>\n",
       "      <td>I love, love, love this jumpsuit. it's fun, fl...</td>\n",
       "      <td>5</td>\n",
       "      <td>1</td>\n",
       "      <td>0</td>\n",
       "      <td>General Petite</td>\n",
       "      <td>Bottoms</td>\n",
       "      <td>Pants</td>\n",
       "      <td>22</td>\n",
       "      <td>Positive</td>\n",
       "    </tr>\n",
       "    <tr>\n",
       "      <th>4</th>\n",
       "      <td>4</td>\n",
       "      <td>847</td>\n",
       "      <td>47</td>\n",
       "      <td>Flattering shirt</td>\n",
       "      <td>This shirt is very flattering to all due to th...</td>\n",
       "      <td>5</td>\n",
       "      <td>1</td>\n",
       "      <td>6</td>\n",
       "      <td>General</td>\n",
       "      <td>Tops</td>\n",
       "      <td>Blouses</td>\n",
       "      <td>36</td>\n",
       "      <td>Positive</td>\n",
       "    </tr>\n",
       "  </tbody>\n",
       "</table>\n",
       "</div>"
      ],
      "text/plain": [
       "   Unnamed: 0  Clothing ID  Age                    Title  \\\n",
       "0           0          767   33                      NaN   \n",
       "1           1         1080   34                      NaN   \n",
       "2           2         1077   60  Some major design flaws   \n",
       "3           3         1049   50         My favorite buy!   \n",
       "4           4          847   47         Flattering shirt   \n",
       "\n",
       "                                         Review Text  Rating  Recommended IND  \\\n",
       "0  Absolutely wonderful - silky and sexy and comf...       4                1   \n",
       "1  Love this dress!  it's sooo pretty.  i happene...       5                1   \n",
       "2  I had such high hopes for this dress and reall...       3                0   \n",
       "3  I love, love, love this jumpsuit. it's fun, fl...       5                1   \n",
       "4  This shirt is very flattering to all due to th...       5                1   \n",
       "\n",
       "   Positive Feedback Count   Division Name Department Name Class Name  \\\n",
       "0                        0       Initmates        Intimate  Intimates   \n",
       "1                        4         General         Dresses    Dresses   \n",
       "2                        0         General         Dresses    Dresses   \n",
       "3                        0  General Petite         Bottoms      Pants   \n",
       "4                        6         General            Tops    Blouses   \n",
       "\n",
       "   word_count Sentiment  \n",
       "0           8  Positive  \n",
       "1          62  Positive  \n",
       "2          98   Neutral  \n",
       "3          22  Positive  \n",
       "4          36  Positive  "
      ]
     },
     "execution_count": 36,
     "metadata": {},
     "output_type": "execute_result"
    }
   ],
   "source": [
    "#df.head()"
   ]
  },
  {
   "cell_type": "code",
   "execution_count": 37,
   "id": "ukakcboujHpm",
   "metadata": {
    "colab": {
     "base_uri": "https://localhost:8080/",
     "height": 492
    },
    "id": "ukakcboujHpm",
    "outputId": "a522eaca-0e1d-4eb0-ba73-e5380ed76edf"
   },
   "outputs": [
    {
     "data": {
      "image/png": "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",
      "text/plain": [
       "<Figure size 640x480 with 1 Axes>"
      ]
     },
     "metadata": {},
     "output_type": "display_data"
    }
   ],
   "source": [
    "''''\n",
    "\n",
    "values, counts = np.unique(df['Sentiment'], return_counts=True)\n",
    "normalized_counts = counts/counts.sum()\n",
    "\n",
    "plt.figure()\n",
    "plt.bar(values, normalized_counts * 100)\n",
    "plt.xlabel('Review rating')\n",
    "plt.ylabel('% of reviews')\n",
    "plt.title(\"Rating distribution\")\n",
    "plt.show()\n",
    "\n",
    "''''"
   ]
  },
  {
   "cell_type": "code",
   "execution_count": 38,
   "id": "OuUyVNGt-u2u",
   "metadata": {
    "colab": {
     "base_uri": "https://localhost:8080/",
     "height": 492
    },
    "id": "OuUyVNGt-u2u",
    "outputId": "de85f52e-003e-4f78-9346-ea7a92dd2c21"
   },
   "outputs": [
    {
     "data": {
      "image/png": "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",
      "text/plain": [
       "<Figure size 640x480 with 1 Axes>"
      ]
     },
     "metadata": {},
     "output_type": "display_data"
    }
   ],
   "source": [
    "''''\n",
    "\n",
    "values, counts = np.unique(df['Rating'], return_counts=True)\n",
    "normalized_counts = counts/counts.sum()\n",
    "\n",
    "plt.figure()\n",
    "plt.bar(values, normalized_counts * 100)\n",
    "plt.xlabel('Review rating')\n",
    "plt.ylabel('% of reviews')\n",
    "plt.title(\"Rating distribution\")\n",
    "plt.show()\n",
    "\n",
    "''''"
   ]
  },
  {
   "cell_type": "markdown",
   "id": "6da61267",
   "metadata": {},
   "source": [
    "Dealing with null values, since we do not need the 'title' column for our analysis. We can drop 'title' and 'unnamed' and 'clothing ID'"
   ]
  },
  {
   "cell_type": "code",
   "execution_count": 69,
   "id": "b7bc6a13",
   "metadata": {},
   "outputs": [
    {
     "name": "stdout",
     "output_type": "stream",
     "text": [
      "<class 'pandas.core.frame.DataFrame'>\n",
      "RangeIndex: 23486 entries, 0 to 23485\n",
      "Data columns (total 9 columns):\n",
      " #   Column                   Non-Null Count  Dtype \n",
      "---  ------                   --------------  ----- \n",
      " 0   Age                      23486 non-null  int64 \n",
      " 1   Title                    19676 non-null  object\n",
      " 2   Review Text              22641 non-null  object\n",
      " 3   Rating                   23486 non-null  int64 \n",
      " 4   Recommended IND          23486 non-null  int64 \n",
      " 5   Positive Feedback Count  23486 non-null  int64 \n",
      " 6   Division Name            23472 non-null  object\n",
      " 7   Department Name          23472 non-null  object\n",
      " 8   Class Name               23472 non-null  object\n",
      "dtypes: int64(4), object(5)\n",
      "memory usage: 1.6+ MB\n"
     ]
    }
   ],
   "source": [
    "# dropping unnamed columns \n",
    "df = df.iloc[:,2:]\n",
    "df.info()"
   ]
  },
  {
   "cell_type": "code",
   "execution_count": 71,
   "id": "a91eb2c3",
   "metadata": {},
   "outputs": [
    {
     "data": {
      "text/plain": [
       "Age                           0\n",
       "Title                      3810\n",
       "Review Text                 845\n",
       "Rating                        0\n",
       "Recommended IND               0\n",
       "Positive Feedback Count       0\n",
       "Division Name                14\n",
       "Department Name              14\n",
       "Class Name                   14\n",
       "dtype: int64"
      ]
     },
     "execution_count": 71,
     "metadata": {},
     "output_type": "execute_result"
    }
   ],
   "source": [
    "#checking null values\n",
    "df.isna().sum()"
   ]
  },
  {
   "cell_type": "markdown",
   "id": "c7bbba28",
   "metadata": {},
   "source": [
    "This code cell prepares the df DataFrame for modeling by:\n",
    "\n",
    "- Dropping the Title column, as it is not relevant to the task of predicting the rating of a review given the text of the review.\n",
    "- Removing any rows that are missing the rating label.\n",
    "- Binarizing the rating column into three categories: Negative, Neutral, and Positive. This is a common step in text classification tasks, as it allows us to train a model to predict the class of a review (e.g., Negative, Neutral, or Positive) given the text of the review.\n",
    "- Dropping the original rating column, as it is no longer needed.\n",
    "- Removing any rows that are missing any values after the previous steps."
   ]
  },
  {
   "cell_type": "code",
   "execution_count": 73,
   "id": "126a1893",
   "metadata": {},
   "outputs": [
    {
     "name": "stdout",
     "output_type": "stream",
     "text": [
      "<class 'pandas.core.frame.DataFrame'>\n",
      "Int64Index: 22628 entries, 0 to 23485\n",
      "Data columns (total 8 columns):\n",
      " #   Column                   Non-Null Count  Dtype \n",
      "---  ------                   --------------  ----- \n",
      " 0   Age                      22628 non-null  int64 \n",
      " 1   Review Text              22628 non-null  object\n",
      " 2   Recommended IND          22628 non-null  int64 \n",
      " 3   Positive Feedback Count  22628 non-null  int64 \n",
      " 4   Division Name            22628 non-null  object\n",
      " 5   Department Name          22628 non-null  object\n",
      " 6   Class Name               22628 non-null  object\n",
      " 7   rating                   22628 non-null  object\n",
      "dtypes: int64(3), object(5)\n",
      "memory usage: 1.6+ MB\n"
     ]
    }
   ],
   "source": [
    "df_new = df.drop('Title', axis=1).dropna()  # dropping 'title'\n",
    "df_new.loc[df_new.Rating < 3,'rating'] = 'Negative' # re-classifying the rating into nuetral, negative and positive\n",
    "df_new.loc[df_new.Rating == 3,'rating'] = 'Neutral'\n",
    "df_new.loc[df_new.Rating > 3,'rating'] = 'Positive'\n",
    "df_new = df_new.drop('Rating', axis=1).dropna()\n",
    "df_new.info()"
   ]
  },
  {
   "cell_type": "code",
   "execution_count": 74,
   "id": "a6039fb1",
   "metadata": {},
   "outputs": [
    {
     "data": {
      "text/plain": [
       "Positive    17435\n",
       "Neutral      2823\n",
       "Negative     2370\n",
       "Name: rating, dtype: int64"
      ]
     },
     "execution_count": 74,
     "metadata": {},
     "output_type": "execute_result"
    }
   ],
   "source": [
    "#checking the split of classes\n",
    "df_new.rating.value_counts()"
   ]
  },
  {
   "cell_type": "markdown",
   "id": "229bc18d",
   "metadata": {},
   "source": [
    "### Processing 'Object' types columns into numeric columns for modeling \n",
    "\n",
    "The code essentially converts categorical columns in the DataFrame new_df into numerical labels using `LabelEncoder`. The dictionary encoders stores the LabelEncoder instances for each categorical column."
   ]
  },
  {
   "cell_type": "code",
   "execution_count": 75,
   "id": "ff061dea",
   "metadata": {
    "scrolled": true
   },
   "outputs": [
    {
     "data": {
      "text/html": [
       "<div>\n",
       "<style scoped>\n",
       "    .dataframe tbody tr th:only-of-type {\n",
       "        vertical-align: middle;\n",
       "    }\n",
       "\n",
       "    .dataframe tbody tr th {\n",
       "        vertical-align: top;\n",
       "    }\n",
       "\n",
       "    .dataframe thead th {\n",
       "        text-align: right;\n",
       "    }\n",
       "</style>\n",
       "<table border=\"1\" class=\"dataframe\">\n",
       "  <thead>\n",
       "    <tr style=\"text-align: right;\">\n",
       "      <th></th>\n",
       "      <th>Age</th>\n",
       "      <th>Review Text</th>\n",
       "      <th>Recommended IND</th>\n",
       "      <th>Positive Feedback Count</th>\n",
       "      <th>Division Name</th>\n",
       "      <th>Department Name</th>\n",
       "      <th>Class Name</th>\n",
       "      <th>rating</th>\n",
       "    </tr>\n",
       "  </thead>\n",
       "  <tbody>\n",
       "    <tr>\n",
       "      <th>0</th>\n",
       "      <td>33</td>\n",
       "      <td>Absolutely wonderful - silky and sexy and comf...</td>\n",
       "      <td>1</td>\n",
       "      <td>0</td>\n",
       "      <td>2</td>\n",
       "      <td>2</td>\n",
       "      <td>5</td>\n",
       "      <td>2</td>\n",
       "    </tr>\n",
       "    <tr>\n",
       "      <th>1</th>\n",
       "      <td>34</td>\n",
       "      <td>Love this dress!  it's sooo pretty.  i happene...</td>\n",
       "      <td>1</td>\n",
       "      <td>4</td>\n",
       "      <td>0</td>\n",
       "      <td>1</td>\n",
       "      <td>3</td>\n",
       "      <td>2</td>\n",
       "    </tr>\n",
       "    <tr>\n",
       "      <th>2</th>\n",
       "      <td>60</td>\n",
       "      <td>I had such high hopes for this dress and reall...</td>\n",
       "      <td>0</td>\n",
       "      <td>0</td>\n",
       "      <td>0</td>\n",
       "      <td>1</td>\n",
       "      <td>3</td>\n",
       "      <td>1</td>\n",
       "    </tr>\n",
       "    <tr>\n",
       "      <th>3</th>\n",
       "      <td>50</td>\n",
       "      <td>I love, love, love this jumpsuit. it's fun, fl...</td>\n",
       "      <td>1</td>\n",
       "      <td>0</td>\n",
       "      <td>1</td>\n",
       "      <td>0</td>\n",
       "      <td>13</td>\n",
       "      <td>2</td>\n",
       "    </tr>\n",
       "    <tr>\n",
       "      <th>4</th>\n",
       "      <td>47</td>\n",
       "      <td>This shirt is very flattering to all due to th...</td>\n",
       "      <td>1</td>\n",
       "      <td>6</td>\n",
       "      <td>0</td>\n",
       "      <td>4</td>\n",
       "      <td>0</td>\n",
       "      <td>2</td>\n",
       "    </tr>\n",
       "  </tbody>\n",
       "</table>\n",
       "</div>"
      ],
      "text/plain": [
       "   Age                                        Review Text  Recommended IND  \\\n",
       "0   33  Absolutely wonderful - silky and sexy and comf...                1   \n",
       "1   34  Love this dress!  it's sooo pretty.  i happene...                1   \n",
       "2   60  I had such high hopes for this dress and reall...                0   \n",
       "3   50  I love, love, love this jumpsuit. it's fun, fl...                1   \n",
       "4   47  This shirt is very flattering to all due to th...                1   \n",
       "\n",
       "   Positive Feedback Count  Division Name  Department Name  Class Name  rating  \n",
       "0                        0              2                2           5       2  \n",
       "1                        4              0                1           3       2  \n",
       "2                        0              0                1           3       1  \n",
       "3                        0              1                0          13       2  \n",
       "4                        6              0                4           0       2  "
      ]
     },
     "execution_count": 75,
     "metadata": {},
     "output_type": "execute_result"
    }
   ],
   "source": [
    "from sklearn.preprocessing import LabelEncoder\n",
    "\n",
    "# Initialize a dictionary to store LabelEncoders\n",
    "encoders = {}\n",
    "\n",
    "# Iterate over categorical columns (excluding 'Review Text')\n",
    "for col in df_new.select_dtypes(include='object').columns:\n",
    "    if col != 'Review Text':\n",
    "        # Create a LabelEncoder instance and fit-transform the column\n",
    "        encoders[col] = LabelEncoder()\n",
    "        df_new[col] = encoders[col].fit_transform(df_new[col])\n",
    "\n",
    "# Display the transformed DataFrame\n",
    "df_new.head(5)"
   ]
  },
  {
   "cell_type": "markdown",
   "id": "f13f0186",
   "metadata": {},
   "source": [
    "Now we import important libraries to start tokenization of our review text. "
   ]
  },
  {
   "cell_type": "markdown",
   "id": "cadc8c7b",
   "metadata": {},
   "source": [
    "### The Bag-of-Words model\n",
    "\n",
    "In a [bag-of-words model](https://en.wikipedia.org/wiki/Bag-of-words_model), we take each word that exists in our corpus, count its occurrences in each document, and make this count a feature to form the document-term matrix. So, each document is a row and each unique word in the corpus is a column.\n",
    "The first step in any NLP task is  to _tokenize_ our data - this is splitting it into individual words, or tokens. A simple way to do this would be to just split each string on the whitespace between the words."
   ]
  },
  {
   "cell_type": "code",
   "execution_count": 79,
   "id": "xayQq0d8-uzf",
   "metadata": {
    "id": "xayQq0d8-uzf"
   },
   "outputs": [
    {
     "name": "stderr",
     "output_type": "stream",
     "text": [
      "[nltk_data] Downloading package stopwords to\n",
      "[nltk_data]     /Users/gulshanchaudhary/nltk_data...\n",
      "[nltk_data]   Package stopwords is already up-to-date!\n"
     ]
    }
   ],
   "source": [
    "import string\n",
    "import nltk\n",
    "from sklearn.feature_extraction.text import CountVectorizer\n",
    "nltk.download('stopwords')\n",
    "from nltk.corpus import stopwords\n",
    "from nltk.stem.porter import PorterStemmer\n",
    "stemmer = nltk.stem.PorterStemmer()"
   ]
  },
  {
   "cell_type": "code",
   "execution_count": 80,
   "id": "7PToEolN-uwU",
   "metadata": {
    "id": "7PToEolN-uwU"
   },
   "outputs": [
    {
     "name": "stderr",
     "output_type": "stream",
     "text": [
      "[nltk_data] Downloading package stopwords to\n",
      "[nltk_data]     /Users/gulshanchaudhary/nltk_data...\n",
      "[nltk_data]   Package stopwords is already up-to-date!\n"
     ]
    }
   ],
   "source": [
    "ENGLISH_STOP_WORDS = stopwords.words('english')\n",
    "\n",
    "def my_tokenizer(sentence):\n",
    "    # remove punctuation and set to lower case\n",
    "    for punctuation_mark in string.punctuation:\n",
    "        sentence = sentence.replace(punctuation_mark,'').lower()\n",
    "\n",
    "    # split sentence into words\n",
    "    listofwords = sentence.split(' ')\n",
    "    listofstemmed_words = []\n",
    "    \n",
    "    # remove stopwords and any tokens that are just empty strings\n",
    "    for word in listofwords:\n",
    "        if (not word in ENGLISH_STOP_WORDS) and (word!=''):\n",
    "            # Stem words\n",
    "            stemmed_word = stemmer.stem(word)\n",
    "            listofstemmed_words.append(stemmed_word)\n",
    "\n",
    "    return listofstemmed_words"
   ]
  },
  {
   "cell_type": "markdown",
   "id": "8fb3079b",
   "metadata": {},
   "source": [
    "### what is `my_tokenizer` in the above doing\n",
    "\n",
    "- Removing punctuation and converting to lowercase: each punctuation mark in string.punctuation is processed and removed from the input sentence using the replace method. Additionally, it converts the sentence to lowercase.\n",
    "- Splitting the sentence into words: It splits the preprocessed sentence into a list of words based on space as the delimiter.\n",
    "- Removing stopwords: It removes stopwords from the list of words. \n",
    "- Stemming: It stems each word using the stemmer object, which appears to be an instance of NLTK's PorterStemmer. Stemming reduces words to their base form."
   ]
  },
  {
   "cell_type": "code",
   "execution_count": 81,
   "id": "afeabc0d",
   "metadata": {},
   "outputs": [],
   "source": [
    "# renaming our countvectorizer as bagofwords \n",
    "bagofwords = CountVectorizer(tokenizer= my_tokenizer, max_features=2000)\n",
    "bagofwords.fit(df_new['Review Text'])\n",
    "feature_names = bagofwords.get_feature_names_out()"
   ]
  },
  {
   "cell_type": "code",
   "execution_count": 187,
   "id": "3a0efc62",
   "metadata": {},
   "outputs": [
    {
     "data": {
      "text/plain": [
       "Index(['Age', 'Recommended IND', 'Positive Feedback Count', 'Division Name',\n",
       "       'Department Name', 'Class Name', '\\r\\n', '\\r\\n\\r\\ni', '\\r\\n\\r\\nim',\n",
       "       '\\r\\n\\r\\nthe',\n",
       "       ...\n",
       "       'yoke', 'youd', 'youll', 'young', 'younger', 'your', 'youv', 'zero',\n",
       "       'zip', 'zipper'],\n",
       "      dtype='object', length=2006)"
      ]
     },
     "execution_count": 187,
     "metadata": {},
     "output_type": "execute_result"
    }
   ],
   "source": [
    "feature_names"
   ]
  },
  {
   "cell_type": "code",
   "execution_count": 82,
   "id": "463acc2d",
   "metadata": {},
   "outputs": [],
   "source": [
    "tokens = pd.DataFrame(bagofwords.fit_transform(df_new['Review Text']).todense(), columns=feature_names)"
   ]
  },
  {
   "cell_type": "code",
   "execution_count": 83,
   "id": "72fb775d",
   "metadata": {},
   "outputs": [
    {
     "data": {
      "text/plain": [
       "(23458, 2007)"
      ]
     },
     "execution_count": 83,
     "metadata": {},
     "output_type": "execute_result"
    }
   ],
   "source": [
    "# concatenating our tokens into our main DataFrame to form one single data to process\n",
    "\n",
    "df_new = pd.concat([df_new.drop('Review Text', axis=1), tokens], axis=1)\n",
    "df_new.shape"
   ]
  },
  {
   "cell_type": "code",
   "execution_count": 84,
   "id": "d281baf0",
   "metadata": {},
   "outputs": [
    {
     "data": {
      "text/html": [
       "<div>\n",
       "<style scoped>\n",
       "    .dataframe tbody tr th:only-of-type {\n",
       "        vertical-align: middle;\n",
       "    }\n",
       "\n",
       "    .dataframe tbody tr th {\n",
       "        vertical-align: top;\n",
       "    }\n",
       "\n",
       "    .dataframe thead th {\n",
       "        text-align: right;\n",
       "    }\n",
       "</style>\n",
       "<table border=\"1\" class=\"dataframe\">\n",
       "  <thead>\n",
       "    <tr style=\"text-align: right;\">\n",
       "      <th></th>\n",
       "      <th>Age</th>\n",
       "      <th>Recommended IND</th>\n",
       "      <th>Positive Feedback Count</th>\n",
       "      <th>Division Name</th>\n",
       "      <th>Department Name</th>\n",
       "      <th>Class Name</th>\n",
       "      <th>rating</th>\n",
       "      <th>\\r\\n</th>\n",
       "      <th>\\r\\n\\r\\ni</th>\n",
       "      <th>\\r\\n\\r\\nim</th>\n",
       "      <th>...</th>\n",
       "      <th>yoke</th>\n",
       "      <th>youd</th>\n",
       "      <th>youll</th>\n",
       "      <th>young</th>\n",
       "      <th>younger</th>\n",
       "      <th>your</th>\n",
       "      <th>youv</th>\n",
       "      <th>zero</th>\n",
       "      <th>zip</th>\n",
       "      <th>zipper</th>\n",
       "    </tr>\n",
       "  </thead>\n",
       "  <tbody>\n",
       "    <tr>\n",
       "      <th>0</th>\n",
       "      <td>33.0</td>\n",
       "      <td>1.0</td>\n",
       "      <td>0.0</td>\n",
       "      <td>2.0</td>\n",
       "      <td>2.0</td>\n",
       "      <td>5.0</td>\n",
       "      <td>2.0</td>\n",
       "      <td>0.0</td>\n",
       "      <td>0.0</td>\n",
       "      <td>0.0</td>\n",
       "      <td>...</td>\n",
       "      <td>0.0</td>\n",
       "      <td>0.0</td>\n",
       "      <td>0.0</td>\n",
       "      <td>0.0</td>\n",
       "      <td>0.0</td>\n",
       "      <td>0.0</td>\n",
       "      <td>0.0</td>\n",
       "      <td>0.0</td>\n",
       "      <td>0.0</td>\n",
       "      <td>0.0</td>\n",
       "    </tr>\n",
       "    <tr>\n",
       "      <th>1</th>\n",
       "      <td>34.0</td>\n",
       "      <td>1.0</td>\n",
       "      <td>4.0</td>\n",
       "      <td>0.0</td>\n",
       "      <td>1.0</td>\n",
       "      <td>3.0</td>\n",
       "      <td>2.0</td>\n",
       "      <td>0.0</td>\n",
       "      <td>0.0</td>\n",
       "      <td>0.0</td>\n",
       "      <td>...</td>\n",
       "      <td>0.0</td>\n",
       "      <td>0.0</td>\n",
       "      <td>0.0</td>\n",
       "      <td>0.0</td>\n",
       "      <td>0.0</td>\n",
       "      <td>0.0</td>\n",
       "      <td>0.0</td>\n",
       "      <td>0.0</td>\n",
       "      <td>0.0</td>\n",
       "      <td>0.0</td>\n",
       "    </tr>\n",
       "    <tr>\n",
       "      <th>2</th>\n",
       "      <td>60.0</td>\n",
       "      <td>0.0</td>\n",
       "      <td>0.0</td>\n",
       "      <td>0.0</td>\n",
       "      <td>1.0</td>\n",
       "      <td>3.0</td>\n",
       "      <td>1.0</td>\n",
       "      <td>0.0</td>\n",
       "      <td>0.0</td>\n",
       "      <td>0.0</td>\n",
       "      <td>...</td>\n",
       "      <td>0.0</td>\n",
       "      <td>0.0</td>\n",
       "      <td>0.0</td>\n",
       "      <td>0.0</td>\n",
       "      <td>0.0</td>\n",
       "      <td>0.0</td>\n",
       "      <td>0.0</td>\n",
       "      <td>0.0</td>\n",
       "      <td>1.0</td>\n",
       "      <td>1.0</td>\n",
       "    </tr>\n",
       "    <tr>\n",
       "      <th>3</th>\n",
       "      <td>50.0</td>\n",
       "      <td>1.0</td>\n",
       "      <td>0.0</td>\n",
       "      <td>1.0</td>\n",
       "      <td>0.0</td>\n",
       "      <td>13.0</td>\n",
       "      <td>2.0</td>\n",
       "      <td>0.0</td>\n",
       "      <td>0.0</td>\n",
       "      <td>0.0</td>\n",
       "      <td>...</td>\n",
       "      <td>0.0</td>\n",
       "      <td>0.0</td>\n",
       "      <td>0.0</td>\n",
       "      <td>0.0</td>\n",
       "      <td>0.0</td>\n",
       "      <td>0.0</td>\n",
       "      <td>0.0</td>\n",
       "      <td>0.0</td>\n",
       "      <td>0.0</td>\n",
       "      <td>0.0</td>\n",
       "    </tr>\n",
       "    <tr>\n",
       "      <th>4</th>\n",
       "      <td>47.0</td>\n",
       "      <td>1.0</td>\n",
       "      <td>6.0</td>\n",
       "      <td>0.0</td>\n",
       "      <td>4.0</td>\n",
       "      <td>0.0</td>\n",
       "      <td>2.0</td>\n",
       "      <td>0.0</td>\n",
       "      <td>0.0</td>\n",
       "      <td>0.0</td>\n",
       "      <td>...</td>\n",
       "      <td>0.0</td>\n",
       "      <td>0.0</td>\n",
       "      <td>0.0</td>\n",
       "      <td>0.0</td>\n",
       "      <td>0.0</td>\n",
       "      <td>0.0</td>\n",
       "      <td>0.0</td>\n",
       "      <td>0.0</td>\n",
       "      <td>0.0</td>\n",
       "      <td>0.0</td>\n",
       "    </tr>\n",
       "    <tr>\n",
       "      <th>5</th>\n",
       "      <td>49.0</td>\n",
       "      <td>0.0</td>\n",
       "      <td>4.0</td>\n",
       "      <td>0.0</td>\n",
       "      <td>1.0</td>\n",
       "      <td>3.0</td>\n",
       "      <td>0.0</td>\n",
       "      <td>0.0</td>\n",
       "      <td>0.0</td>\n",
       "      <td>0.0</td>\n",
       "      <td>...</td>\n",
       "      <td>0.0</td>\n",
       "      <td>0.0</td>\n",
       "      <td>0.0</td>\n",
       "      <td>0.0</td>\n",
       "      <td>0.0</td>\n",
       "      <td>0.0</td>\n",
       "      <td>0.0</td>\n",
       "      <td>0.0</td>\n",
       "      <td>0.0</td>\n",
       "      <td>0.0</td>\n",
       "    </tr>\n",
       "    <tr>\n",
       "      <th>6</th>\n",
       "      <td>39.0</td>\n",
       "      <td>1.0</td>\n",
       "      <td>1.0</td>\n",
       "      <td>1.0</td>\n",
       "      <td>4.0</td>\n",
       "      <td>8.0</td>\n",
       "      <td>2.0</td>\n",
       "      <td>0.0</td>\n",
       "      <td>0.0</td>\n",
       "      <td>0.0</td>\n",
       "      <td>...</td>\n",
       "      <td>0.0</td>\n",
       "      <td>0.0</td>\n",
       "      <td>0.0</td>\n",
       "      <td>0.0</td>\n",
       "      <td>0.0</td>\n",
       "      <td>0.0</td>\n",
       "      <td>0.0</td>\n",
       "      <td>0.0</td>\n",
       "      <td>0.0</td>\n",
       "      <td>0.0</td>\n",
       "    </tr>\n",
       "    <tr>\n",
       "      <th>7</th>\n",
       "      <td>39.0</td>\n",
       "      <td>1.0</td>\n",
       "      <td>4.0</td>\n",
       "      <td>1.0</td>\n",
       "      <td>4.0</td>\n",
       "      <td>8.0</td>\n",
       "      <td>2.0</td>\n",
       "      <td>0.0</td>\n",
       "      <td>0.0</td>\n",
       "      <td>0.0</td>\n",
       "      <td>...</td>\n",
       "      <td>0.0</td>\n",
       "      <td>0.0</td>\n",
       "      <td>0.0</td>\n",
       "      <td>0.0</td>\n",
       "      <td>0.0</td>\n",
       "      <td>0.0</td>\n",
       "      <td>0.0</td>\n",
       "      <td>0.0</td>\n",
       "      <td>0.0</td>\n",
       "      <td>0.0</td>\n",
       "    </tr>\n",
       "    <tr>\n",
       "      <th>8</th>\n",
       "      <td>24.0</td>\n",
       "      <td>1.0</td>\n",
       "      <td>0.0</td>\n",
       "      <td>0.0</td>\n",
       "      <td>1.0</td>\n",
       "      <td>3.0</td>\n",
       "      <td>2.0</td>\n",
       "      <td>0.0</td>\n",
       "      <td>0.0</td>\n",
       "      <td>0.0</td>\n",
       "      <td>...</td>\n",
       "      <td>0.0</td>\n",
       "      <td>0.0</td>\n",
       "      <td>0.0</td>\n",
       "      <td>0.0</td>\n",
       "      <td>0.0</td>\n",
       "      <td>0.0</td>\n",
       "      <td>0.0</td>\n",
       "      <td>0.0</td>\n",
       "      <td>0.0</td>\n",
       "      <td>0.0</td>\n",
       "    </tr>\n",
       "    <tr>\n",
       "      <th>9</th>\n",
       "      <td>34.0</td>\n",
       "      <td>1.0</td>\n",
       "      <td>0.0</td>\n",
       "      <td>0.0</td>\n",
       "      <td>1.0</td>\n",
       "      <td>3.0</td>\n",
       "      <td>2.0</td>\n",
       "      <td>0.0</td>\n",
       "      <td>0.0</td>\n",
       "      <td>0.0</td>\n",
       "      <td>...</td>\n",
       "      <td>0.0</td>\n",
       "      <td>0.0</td>\n",
       "      <td>0.0</td>\n",
       "      <td>0.0</td>\n",
       "      <td>0.0</td>\n",
       "      <td>1.0</td>\n",
       "      <td>0.0</td>\n",
       "      <td>0.0</td>\n",
       "      <td>0.0</td>\n",
       "      <td>0.0</td>\n",
       "    </tr>\n",
       "  </tbody>\n",
       "</table>\n",
       "<p>10 rows × 2007 columns</p>\n",
       "</div>"
      ],
      "text/plain": [
       "    Age  Recommended IND  Positive Feedback Count  Division Name  \\\n",
       "0  33.0              1.0                      0.0            2.0   \n",
       "1  34.0              1.0                      4.0            0.0   \n",
       "2  60.0              0.0                      0.0            0.0   \n",
       "3  50.0              1.0                      0.0            1.0   \n",
       "4  47.0              1.0                      6.0            0.0   \n",
       "5  49.0              0.0                      4.0            0.0   \n",
       "6  39.0              1.0                      1.0            1.0   \n",
       "7  39.0              1.0                      4.0            1.0   \n",
       "8  24.0              1.0                      0.0            0.0   \n",
       "9  34.0              1.0                      0.0            0.0   \n",
       "\n",
       "   Department Name  Class Name  rating  \\r\\n  \\r\\n\\r\\ni  \\r\\n\\r\\nim  ...  \\\n",
       "0              2.0         5.0     2.0   0.0        0.0         0.0  ...   \n",
       "1              1.0         3.0     2.0   0.0        0.0         0.0  ...   \n",
       "2              1.0         3.0     1.0   0.0        0.0         0.0  ...   \n",
       "3              0.0        13.0     2.0   0.0        0.0         0.0  ...   \n",
       "4              4.0         0.0     2.0   0.0        0.0         0.0  ...   \n",
       "5              1.0         3.0     0.0   0.0        0.0         0.0  ...   \n",
       "6              4.0         8.0     2.0   0.0        0.0         0.0  ...   \n",
       "7              4.0         8.0     2.0   0.0        0.0         0.0  ...   \n",
       "8              1.0         3.0     2.0   0.0        0.0         0.0  ...   \n",
       "9              1.0         3.0     2.0   0.0        0.0         0.0  ...   \n",
       "\n",
       "   yoke  youd  youll  young  younger  your  youv  zero  zip  zipper  \n",
       "0   0.0   0.0    0.0    0.0      0.0   0.0   0.0   0.0  0.0     0.0  \n",
       "1   0.0   0.0    0.0    0.0      0.0   0.0   0.0   0.0  0.0     0.0  \n",
       "2   0.0   0.0    0.0    0.0      0.0   0.0   0.0   0.0  1.0     1.0  \n",
       "3   0.0   0.0    0.0    0.0      0.0   0.0   0.0   0.0  0.0     0.0  \n",
       "4   0.0   0.0    0.0    0.0      0.0   0.0   0.0   0.0  0.0     0.0  \n",
       "5   0.0   0.0    0.0    0.0      0.0   0.0   0.0   0.0  0.0     0.0  \n",
       "6   0.0   0.0    0.0    0.0      0.0   0.0   0.0   0.0  0.0     0.0  \n",
       "7   0.0   0.0    0.0    0.0      0.0   0.0   0.0   0.0  0.0     0.0  \n",
       "8   0.0   0.0    0.0    0.0      0.0   0.0   0.0   0.0  0.0     0.0  \n",
       "9   0.0   0.0    0.0    0.0      0.0   1.0   0.0   0.0  0.0     0.0  \n",
       "\n",
       "[10 rows x 2007 columns]"
      ]
     },
     "execution_count": 84,
     "metadata": {},
     "output_type": "execute_result"
    }
   ],
   "source": [
    "df_new.head(10) # sanity check"
   ]
  },
  {
   "cell_type": "code",
   "execution_count": 85,
   "id": "GWIRl8nh-umS",
   "metadata": {
    "id": "GWIRl8nh-umS"
   },
   "outputs": [
    {
     "data": {
      "text/plain": [
       "Age                        830\n",
       "Recommended IND            830\n",
       "Positive Feedback Count    830\n",
       "Division Name              830\n",
       "Department Name            830\n",
       "                          ... \n",
       "your                       830\n",
       "youv                       830\n",
       "zero                       830\n",
       "zip                        830\n",
       "zipper                     830\n",
       "Length: 2007, dtype: int64"
      ]
     },
     "execution_count": 85,
     "metadata": {},
     "output_type": "execute_result"
    }
   ],
   "source": [
    "df_new.isna().sum()"
   ]
  },
  {
   "cell_type": "code",
   "execution_count": 86,
   "id": "9981fabd",
   "metadata": {},
   "outputs": [],
   "source": [
    "df_new.dropna(inplace=True) # dropping null values from the new_df"
   ]
  },
  {
   "cell_type": "code",
   "execution_count": 87,
   "id": "8403f156",
   "metadata": {},
   "outputs": [
    {
     "data": {
      "text/plain": [
       "(21798, 2007)"
      ]
     },
     "execution_count": 87,
     "metadata": {},
     "output_type": "execute_result"
    }
   ],
   "source": [
    "df_new.shape"
   ]
  },
  {
   "cell_type": "code",
   "execution_count": 88,
   "id": "42b5fdf3",
   "metadata": {},
   "outputs": [
    {
     "data": {
      "text/html": [
       "<div>\n",
       "<style scoped>\n",
       "    .dataframe tbody tr th:only-of-type {\n",
       "        vertical-align: middle;\n",
       "    }\n",
       "\n",
       "    .dataframe tbody tr th {\n",
       "        vertical-align: top;\n",
       "    }\n",
       "\n",
       "    .dataframe thead th {\n",
       "        text-align: right;\n",
       "    }\n",
       "</style>\n",
       "<table border=\"1\" class=\"dataframe\">\n",
       "  <thead>\n",
       "    <tr style=\"text-align: right;\">\n",
       "      <th></th>\n",
       "      <th>Age</th>\n",
       "      <th>Recommended IND</th>\n",
       "      <th>Positive Feedback Count</th>\n",
       "      <th>Division Name</th>\n",
       "      <th>Department Name</th>\n",
       "      <th>Class Name</th>\n",
       "      <th>rating</th>\n",
       "      <th>\\r\\n</th>\n",
       "      <th>\\r\\n\\r\\ni</th>\n",
       "      <th>\\r\\n\\r\\nim</th>\n",
       "      <th>...</th>\n",
       "      <th>yoke</th>\n",
       "      <th>youd</th>\n",
       "      <th>youll</th>\n",
       "      <th>young</th>\n",
       "      <th>younger</th>\n",
       "      <th>your</th>\n",
       "      <th>youv</th>\n",
       "      <th>zero</th>\n",
       "      <th>zip</th>\n",
       "      <th>zipper</th>\n",
       "    </tr>\n",
       "  </thead>\n",
       "  <tbody>\n",
       "    <tr>\n",
       "      <th>0</th>\n",
       "      <td>33.0</td>\n",
       "      <td>1.0</td>\n",
       "      <td>0.0</td>\n",
       "      <td>2.0</td>\n",
       "      <td>2.0</td>\n",
       "      <td>5.0</td>\n",
       "      <td>2.0</td>\n",
       "      <td>0.0</td>\n",
       "      <td>0.0</td>\n",
       "      <td>0.0</td>\n",
       "      <td>...</td>\n",
       "      <td>0.0</td>\n",
       "      <td>0.0</td>\n",
       "      <td>0.0</td>\n",
       "      <td>0.0</td>\n",
       "      <td>0.0</td>\n",
       "      <td>0.0</td>\n",
       "      <td>0.0</td>\n",
       "      <td>0.0</td>\n",
       "      <td>0.0</td>\n",
       "      <td>0.0</td>\n",
       "    </tr>\n",
       "    <tr>\n",
       "      <th>1</th>\n",
       "      <td>34.0</td>\n",
       "      <td>1.0</td>\n",
       "      <td>4.0</td>\n",
       "      <td>0.0</td>\n",
       "      <td>1.0</td>\n",
       "      <td>3.0</td>\n",
       "      <td>2.0</td>\n",
       "      <td>0.0</td>\n",
       "      <td>0.0</td>\n",
       "      <td>0.0</td>\n",
       "      <td>...</td>\n",
       "      <td>0.0</td>\n",
       "      <td>0.0</td>\n",
       "      <td>0.0</td>\n",
       "      <td>0.0</td>\n",
       "      <td>0.0</td>\n",
       "      <td>0.0</td>\n",
       "      <td>0.0</td>\n",
       "      <td>0.0</td>\n",
       "      <td>0.0</td>\n",
       "      <td>0.0</td>\n",
       "    </tr>\n",
       "    <tr>\n",
       "      <th>2</th>\n",
       "      <td>60.0</td>\n",
       "      <td>0.0</td>\n",
       "      <td>0.0</td>\n",
       "      <td>0.0</td>\n",
       "      <td>1.0</td>\n",
       "      <td>3.0</td>\n",
       "      <td>1.0</td>\n",
       "      <td>0.0</td>\n",
       "      <td>0.0</td>\n",
       "      <td>0.0</td>\n",
       "      <td>...</td>\n",
       "      <td>0.0</td>\n",
       "      <td>0.0</td>\n",
       "      <td>0.0</td>\n",
       "      <td>0.0</td>\n",
       "      <td>0.0</td>\n",
       "      <td>0.0</td>\n",
       "      <td>0.0</td>\n",
       "      <td>0.0</td>\n",
       "      <td>1.0</td>\n",
       "      <td>1.0</td>\n",
       "    </tr>\n",
       "    <tr>\n",
       "      <th>3</th>\n",
       "      <td>50.0</td>\n",
       "      <td>1.0</td>\n",
       "      <td>0.0</td>\n",
       "      <td>1.0</td>\n",
       "      <td>0.0</td>\n",
       "      <td>13.0</td>\n",
       "      <td>2.0</td>\n",
       "      <td>0.0</td>\n",
       "      <td>0.0</td>\n",
       "      <td>0.0</td>\n",
       "      <td>...</td>\n",
       "      <td>0.0</td>\n",
       "      <td>0.0</td>\n",
       "      <td>0.0</td>\n",
       "      <td>0.0</td>\n",
       "      <td>0.0</td>\n",
       "      <td>0.0</td>\n",
       "      <td>0.0</td>\n",
       "      <td>0.0</td>\n",
       "      <td>0.0</td>\n",
       "      <td>0.0</td>\n",
       "    </tr>\n",
       "    <tr>\n",
       "      <th>4</th>\n",
       "      <td>47.0</td>\n",
       "      <td>1.0</td>\n",
       "      <td>6.0</td>\n",
       "      <td>0.0</td>\n",
       "      <td>4.0</td>\n",
       "      <td>0.0</td>\n",
       "      <td>2.0</td>\n",
       "      <td>0.0</td>\n",
       "      <td>0.0</td>\n",
       "      <td>0.0</td>\n",
       "      <td>...</td>\n",
       "      <td>0.0</td>\n",
       "      <td>0.0</td>\n",
       "      <td>0.0</td>\n",
       "      <td>0.0</td>\n",
       "      <td>0.0</td>\n",
       "      <td>0.0</td>\n",
       "      <td>0.0</td>\n",
       "      <td>0.0</td>\n",
       "      <td>0.0</td>\n",
       "      <td>0.0</td>\n",
       "    </tr>\n",
       "    <tr>\n",
       "      <th>5</th>\n",
       "      <td>49.0</td>\n",
       "      <td>0.0</td>\n",
       "      <td>4.0</td>\n",
       "      <td>0.0</td>\n",
       "      <td>1.0</td>\n",
       "      <td>3.0</td>\n",
       "      <td>0.0</td>\n",
       "      <td>0.0</td>\n",
       "      <td>0.0</td>\n",
       "      <td>0.0</td>\n",
       "      <td>...</td>\n",
       "      <td>0.0</td>\n",
       "      <td>0.0</td>\n",
       "      <td>0.0</td>\n",
       "      <td>0.0</td>\n",
       "      <td>0.0</td>\n",
       "      <td>0.0</td>\n",
       "      <td>0.0</td>\n",
       "      <td>0.0</td>\n",
       "      <td>0.0</td>\n",
       "      <td>0.0</td>\n",
       "    </tr>\n",
       "    <tr>\n",
       "      <th>6</th>\n",
       "      <td>39.0</td>\n",
       "      <td>1.0</td>\n",
       "      <td>1.0</td>\n",
       "      <td>1.0</td>\n",
       "      <td>4.0</td>\n",
       "      <td>8.0</td>\n",
       "      <td>2.0</td>\n",
       "      <td>0.0</td>\n",
       "      <td>0.0</td>\n",
       "      <td>0.0</td>\n",
       "      <td>...</td>\n",
       "      <td>0.0</td>\n",
       "      <td>0.0</td>\n",
       "      <td>0.0</td>\n",
       "      <td>0.0</td>\n",
       "      <td>0.0</td>\n",
       "      <td>0.0</td>\n",
       "      <td>0.0</td>\n",
       "      <td>0.0</td>\n",
       "      <td>0.0</td>\n",
       "      <td>0.0</td>\n",
       "    </tr>\n",
       "    <tr>\n",
       "      <th>7</th>\n",
       "      <td>39.0</td>\n",
       "      <td>1.0</td>\n",
       "      <td>4.0</td>\n",
       "      <td>1.0</td>\n",
       "      <td>4.0</td>\n",
       "      <td>8.0</td>\n",
       "      <td>2.0</td>\n",
       "      <td>0.0</td>\n",
       "      <td>0.0</td>\n",
       "      <td>0.0</td>\n",
       "      <td>...</td>\n",
       "      <td>0.0</td>\n",
       "      <td>0.0</td>\n",
       "      <td>0.0</td>\n",
       "      <td>0.0</td>\n",
       "      <td>0.0</td>\n",
       "      <td>0.0</td>\n",
       "      <td>0.0</td>\n",
       "      <td>0.0</td>\n",
       "      <td>0.0</td>\n",
       "      <td>0.0</td>\n",
       "    </tr>\n",
       "    <tr>\n",
       "      <th>8</th>\n",
       "      <td>24.0</td>\n",
       "      <td>1.0</td>\n",
       "      <td>0.0</td>\n",
       "      <td>0.0</td>\n",
       "      <td>1.0</td>\n",
       "      <td>3.0</td>\n",
       "      <td>2.0</td>\n",
       "      <td>0.0</td>\n",
       "      <td>0.0</td>\n",
       "      <td>0.0</td>\n",
       "      <td>...</td>\n",
       "      <td>0.0</td>\n",
       "      <td>0.0</td>\n",
       "      <td>0.0</td>\n",
       "      <td>0.0</td>\n",
       "      <td>0.0</td>\n",
       "      <td>0.0</td>\n",
       "      <td>0.0</td>\n",
       "      <td>0.0</td>\n",
       "      <td>0.0</td>\n",
       "      <td>0.0</td>\n",
       "    </tr>\n",
       "    <tr>\n",
       "      <th>9</th>\n",
       "      <td>34.0</td>\n",
       "      <td>1.0</td>\n",
       "      <td>0.0</td>\n",
       "      <td>0.0</td>\n",
       "      <td>1.0</td>\n",
       "      <td>3.0</td>\n",
       "      <td>2.0</td>\n",
       "      <td>0.0</td>\n",
       "      <td>0.0</td>\n",
       "      <td>0.0</td>\n",
       "      <td>...</td>\n",
       "      <td>0.0</td>\n",
       "      <td>0.0</td>\n",
       "      <td>0.0</td>\n",
       "      <td>0.0</td>\n",
       "      <td>0.0</td>\n",
       "      <td>1.0</td>\n",
       "      <td>0.0</td>\n",
       "      <td>0.0</td>\n",
       "      <td>0.0</td>\n",
       "      <td>0.0</td>\n",
       "    </tr>\n",
       "  </tbody>\n",
       "</table>\n",
       "<p>10 rows × 2007 columns</p>\n",
       "</div>"
      ],
      "text/plain": [
       "    Age  Recommended IND  Positive Feedback Count  Division Name  \\\n",
       "0  33.0              1.0                      0.0            2.0   \n",
       "1  34.0              1.0                      4.0            0.0   \n",
       "2  60.0              0.0                      0.0            0.0   \n",
       "3  50.0              1.0                      0.0            1.0   \n",
       "4  47.0              1.0                      6.0            0.0   \n",
       "5  49.0              0.0                      4.0            0.0   \n",
       "6  39.0              1.0                      1.0            1.0   \n",
       "7  39.0              1.0                      4.0            1.0   \n",
       "8  24.0              1.0                      0.0            0.0   \n",
       "9  34.0              1.0                      0.0            0.0   \n",
       "\n",
       "   Department Name  Class Name  rating  \\r\\n  \\r\\n\\r\\ni  \\r\\n\\r\\nim  ...  \\\n",
       "0              2.0         5.0     2.0   0.0        0.0         0.0  ...   \n",
       "1              1.0         3.0     2.0   0.0        0.0         0.0  ...   \n",
       "2              1.0         3.0     1.0   0.0        0.0         0.0  ...   \n",
       "3              0.0        13.0     2.0   0.0        0.0         0.0  ...   \n",
       "4              4.0         0.0     2.0   0.0        0.0         0.0  ...   \n",
       "5              1.0         3.0     0.0   0.0        0.0         0.0  ...   \n",
       "6              4.0         8.0     2.0   0.0        0.0         0.0  ...   \n",
       "7              4.0         8.0     2.0   0.0        0.0         0.0  ...   \n",
       "8              1.0         3.0     2.0   0.0        0.0         0.0  ...   \n",
       "9              1.0         3.0     2.0   0.0        0.0         0.0  ...   \n",
       "\n",
       "   yoke  youd  youll  young  younger  your  youv  zero  zip  zipper  \n",
       "0   0.0   0.0    0.0    0.0      0.0   0.0   0.0   0.0  0.0     0.0  \n",
       "1   0.0   0.0    0.0    0.0      0.0   0.0   0.0   0.0  0.0     0.0  \n",
       "2   0.0   0.0    0.0    0.0      0.0   0.0   0.0   0.0  1.0     1.0  \n",
       "3   0.0   0.0    0.0    0.0      0.0   0.0   0.0   0.0  0.0     0.0  \n",
       "4   0.0   0.0    0.0    0.0      0.0   0.0   0.0   0.0  0.0     0.0  \n",
       "5   0.0   0.0    0.0    0.0      0.0   0.0   0.0   0.0  0.0     0.0  \n",
       "6   0.0   0.0    0.0    0.0      0.0   0.0   0.0   0.0  0.0     0.0  \n",
       "7   0.0   0.0    0.0    0.0      0.0   0.0   0.0   0.0  0.0     0.0  \n",
       "8   0.0   0.0    0.0    0.0      0.0   0.0   0.0   0.0  0.0     0.0  \n",
       "9   0.0   0.0    0.0    0.0      0.0   1.0   0.0   0.0  0.0     0.0  \n",
       "\n",
       "[10 rows x 2007 columns]"
      ]
     },
     "execution_count": 88,
     "metadata": {},
     "output_type": "execute_result"
    }
   ],
   "source": [
    "df_new.head(10)"
   ]
  },
  {
   "cell_type": "markdown",
   "id": "6efbd87d",
   "metadata": {},
   "source": [
    "## Baseline Model : Logistic Regression \n",
    "\n",
    "### Model 1 : Logistic Regression\n",
    "\n",
    "Logistic regression is one of the most basic (yet effective) tools we have for classifying categorical data.\n",
    "\n",
    "**Recall:**\n",
    "\n",
    "With *linear* regression, we modeled data using linear equations of the form: \n",
    "\n",
    "$$f(X) = \\beta_0 + \\beta_1 x_1 + \\beta_2 x_2 + \\cdots + \\beta_d x_d$$\n",
    "\n",
    "This equation outputs numerical predictions from numerical input attributes. Recall that each $\\beta_i$ represents how much our model weighs $x_i$ in predicting the output values. \n",
    "\n",
    "How can we modify this function to get *categorical* predictions? \n",
    "\n",
    "With logistic regression, we take advantage of the **sigmoid curve**:\n",
    "$$ s(X) = \\frac{1}{1+e^{-x}} $$\n",
    "\n",
    "where $e$ is the value $e = 2.71828182845...$ and is often called [**Euler's Number**](https://en.wikipedia.org/wiki/E_(mathematical_constant)).\n",
    "\n",
    "now that our preprocessing is done, we will run our first model which is Logictic regression"
   ]
  },
  {
   "cell_type": "code",
   "execution_count": 89,
   "id": "35089a0f",
   "metadata": {},
   "outputs": [],
   "source": [
    "# Extracting features (X) by dropping the 'rating' column from the 'modeling_df' DataFrame\n",
    "X = df_new.drop('rating', axis=1)\n",
    "\n",
    "# Extracting the target variable (y) by selecting only the 'rating' column from the 'modeling_df' DataFrame\n",
    "y = df_new['rating']"
   ]
  },
  {
   "cell_type": "code",
   "execution_count": 97,
   "id": "176c3f69",
   "metadata": {},
   "outputs": [
    {
     "name": "stdout",
     "output_type": "stream",
     "text": [
      "Accuracy: 0.8206422018348624\n"
     ]
    }
   ],
   "source": [
    "from sklearn.model_selection import train_test_split\n",
    "from sklearn.linear_model import LogisticRegression\n",
    "from sklearn.preprocessing import StandardScaler\n",
    "from sklearn.metrics import accuracy_score\n",
    "\n",
    "# Initialize StandardScaler\n",
    "scaler = StandardScaler()\n",
    "\n",
    "# Scale the features\n",
    "X_scaled = scaler.fit_transform(X)\n",
    "\n",
    "# Splitting the scaled data into training and testing sets\n",
    "X_train, X_test, y_train, y_test = train_test_split(X_scaled, y, test_size=0.2, random_state=42)\n",
    "\n",
    "# Initialize the logistic regression model\n",
    "log_reg = LogisticRegression(max_iter=20000)\n",
    "\n",
    "# Training the logistic regression model\n",
    "log_reg.fit(X_train, y_train)\n",
    "\n",
    "# Making predictions on the test set\n",
    "y_pred = log_reg.predict(X_test)\n",
    "\n",
    "# Calculating accuracy\n",
    "accuracy = accuracy_score(y_test, y_pred)\n",
    "print(\"Accuracy:\", accuracy)"
   ]
  },
  {
   "cell_type": "code",
   "execution_count": 98,
   "id": "17bc380a",
   "metadata": {},
   "outputs": [
    {
     "name": "stdout",
     "output_type": "stream",
     "text": [
      "Train Accuracy: 0.9273425851588485\n",
      "Test Accuracy: 0.8206422018348624\n"
     ]
    }
   ],
   "source": [
    "train_accuracy = log_reg.score(X_train, y_train)\n",
    "test_accuracy = log_reg.score(X_test, y_test)\n",
    "print(\"Train Accuracy:\", train_accuracy)\n",
    "print(\"Test Accuracy:\", test_accuracy)"
   ]
  },
  {
   "cell_type": "code",
   "execution_count": 119,
   "id": "2a57c85d",
   "metadata": {},
   "outputs": [
    {
     "name": "stderr",
     "output_type": "stream",
     "text": [
      "/Users/gulshanchaudhary/anaconda3/lib/python3.11/site-packages/IPython/core/pylabtools.py:152: UserWarning:\n",
      "\n",
      "Glyph 13 (\r",
      ") missing from current font.\n",
      "\n"
     ]
    },
    {
     "data": {
      "image/png": "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",
      "text/plain": [
       "<Figure size 1000x600 with 1 Axes>"
      ]
     },
     "metadata": {},
     "output_type": "display_data"
    }
   ],
   "source": [
    "# Extracting feature names\n",
    "feature_names = X.columns\n",
    "\n",
    "# Extracting coefficients\n",
    "coefficients = log_reg.coef_[0]\n",
    "\n",
    "# Sorting coefficients and corresponding feature names\n",
    "sorted_indices = coefficients.argsort()\n",
    "sorted_feature_names = feature_names[sorted_indices]\n",
    "sorted_coefficients = coefficients[sorted_indices]\n",
    "\n",
    "# Plotting\n",
    "plt.figure(figsize=(10, 6))\n",
    "plt.barh(sorted_feature_names, sorted_coefficients)\n",
    "plt.xlabel('Coefficient Value')\n",
    "plt.ylabel('Feature')\n",
    "plt.title('Logistic Regression Coefficients')\n",
    "plt.show()"
   ]
  },
  {
   "cell_type": "code",
   "execution_count": 121,
   "id": "96322ef5",
   "metadata": {},
   "outputs": [
    {
     "data": {
      "image/png": "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",
      "text/plain": [
       "<Figure size 1200x600 with 1 Axes>"
      ]
     },
     "metadata": {},
     "output_type": "display_data"
    }
   ],
   "source": [
    "# Extracting feature names\n",
    "feature_names = X.columns\n",
    "\n",
    "# Extracting coefficients\n",
    "coefficients = log_reg.coef_[0]\n",
    "\n",
    "# Sorting coefficients and corresponding feature names\n",
    "sorted_indices = coefficients.argsort()\n",
    "sorted_feature_names = feature_names[sorted_indices]\n",
    "sorted_coefficients = coefficients[sorted_indices]\n",
    "\n",
    "# Extracting top 10 and bottom 10 coefficients and feature names\n",
    "top_10_features = sorted_feature_names[-10:]\n",
    "top_10_coefficients = sorted_coefficients[-10:]\n",
    "bottom_10_features = sorted_feature_names[:10]\n",
    "bottom_10_coefficients = sorted_coefficients[:10]\n",
    "\n",
    "# Plotting\n",
    "plt.figure(figsize=(12, 6))\n",
    "\n",
    "# Plotting top 10 coefficients\n",
    "plt.barh(top_10_features, top_10_coefficients, color='blue', label='Top 10 Coefficients')\n",
    "\n",
    "# Plotting bottom 10 coefficients\n",
    "plt.barh(bottom_10_features, bottom_10_coefficients, color='orange', label='Bottom 10 Coefficients')\n",
    "\n",
    "plt.xlabel('Coefficient Value')\n",
    "plt.ylabel('Feature')\n",
    "plt.title('Top and Bottom 10 Logistic Regression Coefficients')\n",
    "plt.legend()\n",
    "plt.show()"
   ]
  },
  {
   "cell_type": "code",
   "execution_count": 109,
   "id": "3c9868e9",
   "metadata": {},
   "outputs": [
    {
     "data": {
      "image/png": "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",
      "text/plain": [
       "<Figure size 1500x500 with 1 Axes>"
      ]
     },
     "metadata": {},
     "output_type": "display_data"
    }
   ],
   "source": [
    "word_counts = pd.DataFrame(\n",
    "    {\"coefficients\": log_reg.coef_[0][6:2007]},\n",
    "    index=bagofwords.get_feature_names_out()\n",
    ").sort_values(\"coefficients\", ascending=False)\n",
    "\n",
    "word_counts.head(20).plot(kind=\"bar\", figsize=(15, 5), legend=False)\n",
    "plt.title(\"The 20 highest model coefficients indicating positive sentiment\")\n",
    "plt.ylabel(\"Coefficients\")\n",
    "plt.xticks(rotation=45)\n",
    "plt.show()"
   ]
  },
  {
   "cell_type": "code",
   "execution_count": 110,
   "id": "2e4e0d4f",
   "metadata": {},
   "outputs": [
    {
     "data": {
      "image/png": "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",
      "text/plain": [
       "<Figure size 1500x500 with 1 Axes>"
      ]
     },
     "metadata": {},
     "output_type": "display_data"
    }
   ],
   "source": [
    "word_counts = pd.DataFrame(\n",
    "    {\"coefficients\": log_reg.coef_[0][6:2007]},\n",
    "    index=bagofwords.get_feature_names_out()\n",
    ").sort_values(\"coefficients\", ascending=True)\n",
    "\n",
    "word_counts.head(20).plot(kind=\"bar\", figsize=(15, 5), legend=False)\n",
    "plt.title(\"The 20 lowest model coefficients indicating negative sentiment\")\n",
    "plt.ylabel(\"Coefficients\")\n",
    "plt.xticks(rotation=45)\n",
    "plt.show()"
   ]
  },
  {
   "cell_type": "code",
   "execution_count": 99,
   "id": "907836b0",
   "metadata": {},
   "outputs": [
    {
     "data": {
      "image/png": "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",
      "text/plain": [
       "<Figure size 800x600 with 1 Axes>"
      ]
     },
     "metadata": {},
     "output_type": "display_data"
    }
   ],
   "source": [
    "from sklearn.metrics import confusion_matrix\n",
    "import seaborn as sns\n",
    "import matplotlib.pyplot as plt\n",
    "\n",
    "# Generate predictions on the test set\n",
    "y_pred = log_reg.predict(X_test)\n",
    "\n",
    "# Create confusion matrix\n",
    "conf_matrix = confusion_matrix(y_test, y_pred)\n",
    "\n",
    "# Plot confusion matrix\n",
    "plt.figure(figsize=(8, 6))\n",
    "sns.heatmap(conf_matrix, annot=True, fmt='d', cmap='Blues', cbar=False, \n",
    "            xticklabels=log_reg.classes_, yticklabels=log_reg.classes_)\n",
    "plt.xlabel('Predicted')\n",
    "plt.ylabel('Actual')\n",
    "plt.title('Confusion Matrix')\n",
    "plt.show()"
   ]
  },
  {
   "cell_type": "code",
   "execution_count": 100,
   "id": "892257b5",
   "metadata": {},
   "outputs": [
    {
     "data": {
      "text/plain": [
       "array([[ 226,  187,   52],\n",
       "       [ 169,  155,  213],\n",
       "       [  61,  100, 3197]])"
      ]
     },
     "execution_count": 100,
     "metadata": {},
     "output_type": "execute_result"
    }
   ],
   "source": [
    "conf_matrix"
   ]
  },
  {
   "cell_type": "markdown",
   "id": "02b7504d",
   "metadata": {},
   "source": [
    "### Conclusion of Confusion Matrix \n",
    "\n",
    "- Class 0.0:\n",
    "226 instances were correctly classified as class 0.0 (True Negatives).\n",
    "169 instances of class 0.0 were incorrectly classified as class 1.0 (False Positives).\n",
    "61 instances of class 0.0 were incorrectly classified as class 2.0 (False Positives).\n",
    "- Class 1.0:\n",
    "155 instances were correctly classified as class 1.0 (True Positives).\n",
    "187 instances of class 1.0 were incorrectly classified as class 0.0 (False Negatives).\n",
    "100 instances of class 1.0 were incorrectly classified as class 2.0 (False Positives).\n",
    "- Class 2.0:\n",
    "3197 instances were correctly classified as class 2.0 (True Positives).\n",
    "52 instances of class 2.0 were incorrectly classified as class 0.0 (False Negatives).\n",
    "213 instances of class 2.0 were incorrectly classified as class 1.0 (False Negatives)."
   ]
  },
  {
   "cell_type": "code",
   "execution_count": 96,
   "id": "34cbafba",
   "metadata": {},
   "outputs": [
    {
     "name": "stdout",
     "output_type": "stream",
     "text": [
      "Classification Report:\n",
      "              precision    recall  f1-score   support\n",
      "\n",
      "         0.0       0.50      0.49      0.49       465\n",
      "         1.0       0.35      0.29      0.32       537\n",
      "         2.0       0.92      0.95      0.94      3358\n",
      "\n",
      "    accuracy                           0.82      4360\n",
      "   macro avg       0.59      0.58      0.58      4360\n",
      "weighted avg       0.81      0.82      0.81      4360\n",
      "\n"
     ]
    }
   ],
   "source": [
    "from sklearn.metrics import classification_report\n",
    "classification_rep = classification_report(y_test, y_pred)\n",
    "print(f\"Classification Report:\\n{classification_rep}\")"
   ]
  },
  {
   "cell_type": "markdown",
   "id": "b476bf6c",
   "metadata": {},
   "source": [
    "### Conclusion of Logictic Regression\n",
    "\n",
    "\n",
    "This classification report provides an evaluation of the performance of a machine learning model on a dataset with three classes labeled as 0.0, 1.0, and 2.0. The report includes metrics such as precision, recall, and F1-score for each class, as well as overall accuracy and aggregated metrics.\n",
    "\n",
    "- Precision: Precision is the ratio of correctly predicted positive observations to the total predicted positives. In this report, for class 0.0, the precision is 0.50, meaning that 50% of the instances predicted as class 0.0 were actually class 0.0. Similarly, for class 1.0, the precision is 0.35, indicating that 35% of the instances predicted as class 1.0 were actually class 1.0. For class 2.0, the precision is 0.92, indicating a high proportion of correctly predicted instances for this class.\n",
    "- Recall: Recall is the ratio of correctly predicted positive observations to all actual positives. For class 0.0, the recall is 0.49, indicating that 49% of the instances that are actually class 0.0 were correctly classified. For class 1.0, the recall is 0.29, suggesting that only 29% of the instances that are actually class 1.0 were correctly classified. Class 2.0 has a recall of 0.95, meaning that 95% of instances that are actually class 2.0 were correctly classified.\n",
    "- F1-score: The F1-score is the harmonic mean of precision and recall, providing a balance between the two metrics. It is a useful metric when classes are imbalanced. Class 0.0 has an F1-score of 0.49, class 1.0 has an F1-score of 0.32, and class 2.0 has an F1-score of 0.94.\n"
   ]
  },
  {
   "cell_type": "markdown",
   "id": "97ad8382",
   "metadata": {},
   "source": [
    "## Model 2 : Decision Trees\n",
    "\n",
    "We will run our second model which is Decision Trees"
   ]
  },
  {
   "cell_type": "code",
   "execution_count": 101,
   "id": "d81e1fbf",
   "metadata": {},
   "outputs": [],
   "source": [
    "from sklearn.pipeline import Pipeline\n",
    "from sklearn.decomposition import PCA\n",
    "from sklearn.tree import DecisionTreeClassifier\n",
    "from sklearn.model_selection import GridSearchCV\n",
    "from sklearn.metrics import classification_report, confusion_matrix\n",
    "from sklearn.preprocessing import StandardScaler\n",
    "from sklearn.metrics import accuracy_score\n",
    "from sklearn.decomposition import TruncatedSVD"
   ]
  },
  {
   "cell_type": "code",
   "execution_count": 102,
   "id": "b1b13107",
   "metadata": {},
   "outputs": [
    {
     "name": "stdout",
     "output_type": "stream",
     "text": [
      "Best Hyperparameters: {'classifier__max_depth': 10, 'classifier__min_samples_leaf': 1, 'classifier__min_samples_split': 2}\n",
      "Decision Tree Test Accuracy: 0.7077981651376147\n"
     ]
    }
   ],
   "source": [
    "# Create a Pipeline with PCA, and DecisionTreeClassifier\n",
    "pipeline = Pipeline([\n",
    "     \n",
    "    ('pca', PCA(n_components=0.90)),  # PCA to reduce dimensions while preserving 90% of variance PCA is getting difficult\n",
    "    ('classifier', DecisionTreeClassifier())\n",
    "])\n",
    "\n",
    "#  Define Parameter Grid\n",
    "param_grid = {\n",
    "    'classifier__max_depth': [None, 10, 20],\n",
    "    'classifier__min_samples_leaf': [1, 5, 10],\n",
    "    'classifier__min_samples_split': [2, 5, 10]\n",
    "}\n",
    "\n",
    "# Perform Grid Search Cross-Validation\n",
    "grid_search = GridSearchCV(pipeline, param_grid, cv=5)\n",
    "grid_search.fit(X_train, y_train)\n",
    "\n",
    "# Get the best hyperparameters\n",
    "best_params = grid_search.best_params_\n",
    "print(\"Best Hyperparameters:\", best_params)\n",
    "\n",
    "# Evaluate the model with best hyperparameters on the test set\n",
    "best_model = grid_search.best_estimator_\n",
    "test_accuracy_dt = accuracy_score(y_test, best_model.predict(X_test))\n",
    "print(\"Decision Tree Test Accuracy:\", test_accuracy_dt)"
   ]
  },
  {
   "cell_type": "markdown",
   "id": "56390cb6",
   "metadata": {},
   "source": [
    "Best Hyperparameters:\n",
    "- 'classifier__max_depth': 10: This indicates that the optimal maximum depth of the decision tree (the longest path between the root node and a leaf node) is determined to be 10. Controlling the maximum depth helps prevent overfitting by limiting the complexity of the tree.\n",
    "- 'classifier__min_samples_leaf': 1: This specifies the minimum number of samples required to be at a leaf node. In this case, each leaf node must contain at least one sample. Setting this parameter too low can lead to overfitting.\n",
    "- 'classifier__min_samples_split': 2: This denotes the minimum number of samples required to split an internal node. Here, a node must have at least 2 samples to be considered for splitting. This parameter helps control the growth of the tree and prevent it from becoming too deep."
   ]
  },
  {
   "cell_type": "markdown",
   "id": "b7e17a12",
   "metadata": {},
   "source": [
    "### Summary so far"
   ]
  },
  {
   "cell_type": "code",
   "execution_count": 103,
   "id": "4245ba1e",
   "metadata": {},
   "outputs": [
    {
     "name": "stdout",
     "output_type": "stream",
     "text": [
      "-----------------------------------------\n",
      "-----------------------------------------\n",
      "Summary of all scores\n",
      "Train Accuracy (Logistic Regression): 0.9273425851588485\n",
      "Test Accuracy (Logistic Regression): 0.8206422018348624\n",
      "Decision Tree Test Accuracy: 0.7077981651376147\n",
      "Best parameters for decision tree classifier: {'classifier__max_depth': 10, 'classifier__min_samples_leaf': 1, 'classifier__min_samples_split': 2}\n",
      "Classification Report:\n",
      "              precision    recall  f1-score   support\n",
      "\n",
      "         0.0       0.50      0.49      0.49       465\n",
      "         1.0       0.35      0.29      0.32       537\n",
      "         2.0       0.92      0.95      0.94      3358\n",
      "\n",
      "    accuracy                           0.82      4360\n",
      "   macro avg       0.59      0.58      0.58      4360\n",
      "weighted avg       0.81      0.82      0.81      4360\n",
      "\n"
     ]
    }
   ],
   "source": [
    "# Print results\n",
    "print('-----------------------------------------')\n",
    "print('-----------------------------------------')\n",
    "print('Summary of all scores')\n",
    "print(f\"Train Accuracy (Logistic Regression): {train_accuracy}\")\n",
    "print(f\"Test Accuracy (Logistic Regression): {test_accuracy}\")\n",
    "print(\"Decision Tree Test Accuracy:\", test_accuracy_dt)\n",
    "print(f\"Best parameters for decision tree classifier: {grid_search.best_params_}\")\n",
    "print(f\"Classification Report:\\n{classification_rep}\")"
   ]
  },
  {
   "cell_type": "code",
   "execution_count": 118,
   "id": "4a634e9f",
   "metadata": {},
   "outputs": [
    {
     "data": {
      "image/png": "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",
      "text/plain": [
       "<Figure size 1000x600 with 1 Axes>"
      ]
     },
     "metadata": {},
     "output_type": "display_data"
    }
   ],
   "source": [
    "# Scores\n",
    "test_accuracy_log_reg = 0.8206422018348624\n",
    "test_accuracy_decision_tree = 0.7077981651376147\n",
    "\n",
    "# Plotting\n",
    "plt.figure(figsize=(10, 6))\n",
    "\n",
    "# Test Accuracy for Logistic Regression\n",
    "plt.barh('Test Accuracy (Logistic Regression)', test_accuracy_log_reg, color='green')\n",
    "\n",
    "# Decision Tree Test Accuracy\n",
    "plt.barh('Decision Tree Test Accuracy', test_accuracy_decision_tree, color='orange')\n",
    "\n",
    "# Adding labels and title\n",
    "plt.xlabel('Accuracy')\n",
    "plt.title('Summary of Model Scores')\n",
    "plt.xlim(0, 1)  # Setting x-axis limit from 0 to 1\n",
    "\n",
    "# Adding legend\n",
    "plt.legend(['Logistic Regression ', 'Decision Tree'])\n",
    "\n",
    "# Show plot\n",
    "plt.show()"
   ]
  },
  {
   "cell_type": "markdown",
   "id": "e0861c27",
   "metadata": {},
   "source": [
    "So far we have seen the performance of Logistic regression and Decision trees on unbalanced_data. But further we will process our X_train and y_train such that we have a balanced target variable. "
   ]
  },
  {
   "cell_type": "markdown",
   "id": "0be6c793",
   "metadata": {},
   "source": [
    "## Running Logistic Regression with Balanced_data\n",
    "\n",
    "in the previous modelling, we ran both Logistic Regression and Decision trees with unbalanced data and now we will run the same model with balance data to check which model performs better. "
   ]
  },
  {
   "cell_type": "markdown",
   "id": "406179af",
   "metadata": {},
   "source": [
    "### Over Balancing and Under Balancing\n",
    "\n",
    "\n",
    "- Args:\n",
    "        X_train: A pandas DataFrame containing the training data features.\n",
    "        y_train: A pandas Series containing the training data labels.\n",
    "        random_state: An integer seed to control the randomness of the oversampling process.\n",
    "        majority_class: An integer class label to be retained.\n",
    "        minority_classes: A list of integer class labels to be oversampled.\n",
    "- Returns:\n",
    "        X_train_balanced: A pandas DataFrame containing the balanced training data features.\n",
    "        y_train_balanced: A pandas Series containing the balanced training data labels.\n",
    "        balanced_train_data: A pandas DataFrame containing the shuffled balanced training data.\n"
   ]
  },
  {
   "cell_type": "code",
   "execution_count": 147,
   "id": "27f08568",
   "metadata": {},
   "outputs": [],
   "source": [
    "# Extracting features (X) by dropping the 'rating' column from the 'modeling_df' DataFrame\n",
    "X = df_new.drop('rating', axis=1)\n",
    "\n",
    "# Extracting the target variable (y) by selecting only the 'rating' column from the 'modeling_df' DataFrame\n",
    "y = df_new['rating']"
   ]
  },
  {
   "cell_type": "code",
   "execution_count": 148,
   "id": "e33333f6",
   "metadata": {},
   "outputs": [],
   "source": [
    "X_train, X_test, y_train, y_test = train_test_split(X, y, test_size=0.2, random_state=42)"
   ]
  },
  {
   "cell_type": "code",
   "execution_count": 149,
   "id": "3c5f26d3",
   "metadata": {},
   "outputs": [
    {
     "data": {
      "text/plain": [
       "(17438, 2006)"
      ]
     },
     "execution_count": 149,
     "metadata": {},
     "output_type": "execute_result"
    }
   ],
   "source": [
    "X_train.shape"
   ]
  },
  {
   "cell_type": "code",
   "execution_count": 150,
   "id": "0e703c1c",
   "metadata": {},
   "outputs": [
    {
     "data": {
      "text/plain": [
       "2.0    13448\n",
       "1.0     2177\n",
       "0.0     1813\n",
       "Name: rating, dtype: int64"
      ]
     },
     "execution_count": 150,
     "metadata": {},
     "output_type": "execute_result"
    }
   ],
   "source": [
    "y_train.value_counts()"
   ]
  },
  {
   "cell_type": "code",
   "execution_count": 151,
   "id": "90cc4e28",
   "metadata": {},
   "outputs": [],
   "source": [
    "from sklearn.utils import resample"
   ]
  },
  {
   "cell_type": "code",
   "execution_count": 155,
   "id": "c7049144",
   "metadata": {},
   "outputs": [
    {
     "name": "stdout",
     "output_type": "stream",
     "text": [
      "Befoe Balancing:\n",
      "2.0    13448\n",
      "1.0     2177\n",
      "0.0     1813\n",
      "Name: rating, dtype: int64\n",
      "After Balancing:\n",
      "2    1813\n",
      "1    1813\n",
      "0    1813\n",
      "Name: rating, dtype: int64\n"
     ]
    }
   ],
   "source": [
    "# Print the class distribution before balancing\n",
    "print('Befoe Balancing:')\n",
    "print(y_train.value_counts())\n",
    "\n",
    "# Define a function to under-balance classes\n",
    "def under_balance_classes(X_train, y_train, random_state=42, majority_classes=[2, 1], minority_class=0):\n",
    "    \n",
    "    train_data = pd.concat([X_train, y_train], axis=1)\n",
    "\n",
    "    # Create a new DataFrame to store the balanced data\n",
    "    balanced_train_data = train_data[train_data['rating'] == minority_class]\n",
    "    \n",
    "    for majority_class in majority_classes:\n",
    "\n",
    "        # Separate the majority class\n",
    "        majority_class = train_data[train_data['rating'] == majority_class]\n",
    "\n",
    "        # Downsample the majority class\n",
    "        majority_downsampled = resample(majority_class,\n",
    "                                        n_samples=len(train_data[train_data['rating'] == minority_class]),\n",
    "                                        random_state=random_state)\n",
    "\n",
    "        # Combine the minority class and downsampled majority class\n",
    "        balanced_train_data = pd.concat([balanced_train_data, majority_downsampled])\n",
    "\n",
    "    # Shuffle the data\n",
    "    balanced_train_data = balanced_train_data.sample(frac=1, random_state=random_state)\n",
    "\n",
    "    # Separate X_train and y_train after balancing\n",
    "    X_train_balanced = balanced_train_data.drop('rating', axis=1)\n",
    "    y_train_balanced = balanced_train_data['rating']\n",
    "\n",
    "    return X_train_balanced, y_train_balanced.astype(int), balanced_train_data\n",
    "\n",
    "# Assuming X_train and y_train are your original unbalanced training data\n",
    "X_train, y_train, balanced_data = under_balance_classes(X_train, y_train, random_state=42)\n",
    "\n",
    "# Print the class distribution after balancing\n",
    "print('After Balancing:')\n",
    "print(y_train.value_counts())"
   ]
  },
  {
   "cell_type": "code",
   "execution_count": 156,
   "id": "5089d5b9",
   "metadata": {},
   "outputs": [
    {
     "data": {
      "text/plain": [
       "(5439, 2006)"
      ]
     },
     "execution_count": 156,
     "metadata": {},
     "output_type": "execute_result"
    }
   ],
   "source": [
    "X_train.shape"
   ]
  },
  {
   "cell_type": "code",
   "execution_count": 157,
   "id": "6fd6c1c6",
   "metadata": {},
   "outputs": [
    {
     "name": "stdout",
     "output_type": "stream",
     "text": [
      "Accuracy: 0.6873853211009174\n"
     ]
    }
   ],
   "source": [
    "log_reg = LogisticRegression(max_iter=20000)\n",
    "\n",
    "# Training the logistic regression model\n",
    "log_reg.fit(X_train, y_train)\n",
    "\n",
    "# Making predictions on the test set\n",
    "y_pred = log_reg.predict(X_test)\n",
    "\n",
    "# Calculating accuracy\n",
    "accuracy = accuracy_score(y_test, y_pred)\n",
    "print(\"Accuracy:\", accuracy)"
   ]
  },
  {
   "cell_type": "code",
   "execution_count": 159,
   "id": "ec44bdf7",
   "metadata": {},
   "outputs": [
    {
     "data": {
      "image/png": "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",
      "text/plain": [
       "<Figure size 800x600 with 1 Axes>"
      ]
     },
     "metadata": {},
     "output_type": "display_data"
    }
   ],
   "source": [
    "# Create confusion matrix\n",
    "conf_matrix = confusion_matrix(y_test, y_pred)\n",
    "\n",
    "# Plot confusion matrix\n",
    "plt.figure(figsize=(8, 6))\n",
    "sns.heatmap(conf_matrix, annot=True, fmt='d', cmap='Reds', cbar=False, \n",
    "            xticklabels=log_reg.classes_, yticklabels=log_reg.classes_)\n",
    "plt.xlabel('Predicted')\n",
    "plt.ylabel('Actual')\n",
    "plt.title('Confusion Matrix')\n",
    "plt.show()"
   ]
  },
  {
   "cell_type": "code",
   "execution_count": 160,
   "id": "dde17041",
   "metadata": {},
   "outputs": [
    {
     "name": "stdout",
     "output_type": "stream",
     "text": [
      "Classification Report:\n",
      "              precision    recall  f1-score   support\n",
      "\n",
      "         0.0       0.50      0.71      0.58       465\n",
      "         1.0       0.14      0.26      0.18       537\n",
      "         2.0       0.93      0.75      0.83      3358\n",
      "\n",
      "    accuracy                           0.69      4360\n",
      "   macro avg       0.52      0.57      0.53      4360\n",
      "weighted avg       0.79      0.69      0.73      4360\n",
      "\n"
     ]
    }
   ],
   "source": [
    "classification_rep_balanced = classification_report(y_test, y_pred)\n",
    "print(f\"Classification Report:\\n{classification_rep_balanced}\")"
   ]
  },
  {
   "cell_type": "code",
   "execution_count": 162,
   "id": "00f53b01",
   "metadata": {},
   "outputs": [
    {
     "data": {
      "text/plain": [
       "array([[ 328,  124,   13],\n",
       "       [ 231,  140,  166],\n",
       "       [  99,  730, 2529]])"
      ]
     },
     "execution_count": 162,
     "metadata": {},
     "output_type": "execute_result"
    }
   ],
   "source": [
    "conf_matrix"
   ]
  },
  {
   "cell_type": "code",
   "execution_count": null,
   "id": "9a82003c",
   "metadata": {},
   "outputs": [],
   "source": []
  },
  {
   "cell_type": "code",
   "execution_count": 165,
   "id": "d8b5dbd8",
   "metadata": {},
   "outputs": [],
   "source": [
    "# Extracting features (X) by dropping the 'rating' column from the 'modeling_df' DataFrame\n",
    "X = df_new.drop('rating', axis=1)\n",
    "\n",
    "# Extracting the target variable (y) by selecting only the 'rating' column from the 'modeling_df' DataFrame\n",
    "y = df_new['rating']"
   ]
  },
  {
   "cell_type": "code",
   "execution_count": 166,
   "id": "36282d66",
   "metadata": {},
   "outputs": [],
   "source": [
    "X_train, X_test, y_train, y_test = train_test_split(X, y, test_size=0.2, random_state=42)"
   ]
  },
  {
   "cell_type": "code",
   "execution_count": 167,
   "id": "3db35ef4",
   "metadata": {},
   "outputs": [
    {
     "name": "stdout",
     "output_type": "stream",
     "text": [
      "Before Balancing:\n",
      "2.0    13448\n",
      "1.0     2177\n",
      "0.0     1813\n",
      "Name: rating, dtype: int64\n",
      "After Balancing:\n",
      "2    13448\n",
      "0    13448\n",
      "1    13448\n",
      "Name: rating, dtype: int64\n"
     ]
    }
   ],
   "source": [
    "# Print the class distribution before balancing\n",
    "print('Before Balancing:')\n",
    "print(y_train.value_counts())\n",
    "\n",
    "# Define a function to over-balance classes\n",
    "def over_balance_classes(X_train, y_train, random_state=42, majority_class=2, minority_classes=[0, 1]):\n",
    "    # Concatenate X_train and y_train for easier manipulation\n",
    "    train_data = pd.concat([X_train, y_train], axis=1)\n",
    "\n",
    "    # Create a new DataFrame to store the balanced data\n",
    "    balanced_train_data = train_data[train_data['rating'] == majority_class]\n",
    "\n",
    "    # Oversample each minority class to match the majority class size\n",
    "    for minority_class in minority_classes:\n",
    "        # Separate the minority class\n",
    "        minority_class_data = train_data[train_data['rating'] == minority_class]\n",
    "\n",
    "        # Oversample the minority class\n",
    "        minority_upsampled = resample(minority_class_data,\n",
    "                                      replace=True,\n",
    "                                      n_samples=len(train_data[train_data['rating'] == majority_class]),\n",
    "                                      random_state=random_state)\n",
    "\n",
    "        # Combine the majority class and upsampled minority class\n",
    "        balanced_train_data = pd.concat([balanced_train_data, minority_upsampled])\n",
    "\n",
    "    # Shuffle the data\n",
    "    balanced_train_data = balanced_train_data.sample(frac=1, random_state=random_state)\n",
    "\n",
    "    # Separate X_train and y_train after balancing\n",
    "    X_train_balanced = balanced_train_data.drop('rating', axis=1)\n",
    "    y_train_balanced = balanced_train_data['rating']\n",
    "\n",
    "    return X_train_balanced, y_train_balanced.astype(int), balanced_train_data\n",
    "\n",
    "# Assuming X_train and y_train are your original unbalanced training data\n",
    "X_train, y_train, balanced_data = over_balance_classes(X_train, y_train, random_state=42)\n",
    "\n",
    "# Print the class distribution after balancing\n",
    "print('After Balancing:')\n",
    "print(y_train.value_counts())"
   ]
  },
  {
   "cell_type": "code",
   "execution_count": 168,
   "id": "253c9deb",
   "metadata": {},
   "outputs": [
    {
     "name": "stdout",
     "output_type": "stream",
     "text": [
      "Accuracy: 0.7591743119266054\n"
     ]
    }
   ],
   "source": [
    "log_reg = LogisticRegression(max_iter=20000)\n",
    "\n",
    "# Training the logistic regression model\n",
    "log_reg.fit(X_train, y_train)\n",
    "\n",
    "# Making predictions on the test set\n",
    "y_pred = log_reg.predict(X_test)\n",
    "\n",
    "# Calculating accuracy\n",
    "accuracy = accuracy_score(y_test, y_pred)\n",
    "print(\"Accuracy:\", accuracy)"
   ]
  },
  {
   "cell_type": "code",
   "execution_count": 169,
   "id": "37d8ac95",
   "metadata": {},
   "outputs": [
    {
     "data": {
      "image/png": "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",
      "text/plain": [
       "<Figure size 800x600 with 1 Axes>"
      ]
     },
     "metadata": {},
     "output_type": "display_data"
    }
   ],
   "source": [
    "# Create confusion matrix\n",
    "conf_matrix = confusion_matrix(y_test, y_pred)\n",
    "\n",
    "# Plot confusion matrix\n",
    "plt.figure(figsize=(8, 6))\n",
    "sns.heatmap(conf_matrix, annot=True, fmt='d', cmap='Reds', cbar=False, \n",
    "            xticklabels=log_reg.classes_, yticklabels=log_reg.classes_)\n",
    "plt.xlabel('Predicted')\n",
    "plt.ylabel('Actual')\n",
    "plt.title('Confusion Matrix')\n",
    "plt.show()"
   ]
  },
  {
   "cell_type": "code",
   "execution_count": 170,
   "id": "cb5609c6",
   "metadata": {},
   "outputs": [
    {
     "name": "stdout",
     "output_type": "stream",
     "text": [
      "Classification Report:\n",
      "              precision    recall  f1-score   support\n",
      "\n",
      "         0.0       0.49      0.59      0.53       465\n",
      "         1.0       0.23      0.30      0.26       537\n",
      "         2.0       0.93      0.86      0.89      3358\n",
      "\n",
      "    accuracy                           0.76      4360\n",
      "   macro avg       0.55      0.58      0.56      4360\n",
      "weighted avg       0.80      0.76      0.78      4360\n",
      "\n"
     ]
    }
   ],
   "source": [
    "classification_rep_balanced = classification_report(y_test, y_pred)\n",
    "print(f\"Classification Report:\\n{classification_rep_balanced}\")"
   ]
  },
  {
   "cell_type": "markdown",
   "id": "e8433f19",
   "metadata": {},
   "source": [
    "## Comparison of Two Classification Reports\n",
    "\n",
    "### Logictic Regression(with balance) First Classification Report:\n",
    "- **Class 0 (0.0):**\n",
    "  - Precision: 0.49\n",
    "  - Recall: 0.59\n",
    "  - F1-score: 0.53\n",
    "- **Class 1 (1.0):**\n",
    "  - Precision: 0.23\n",
    "  - Recall: 0.30\n",
    "  - F1-score: 0.26\n",
    "- **Class 2 (2.0):**\n",
    "  - Precision: 0.93\n",
    "  - Recall: 0.86\n",
    "  - F1-score: 0.89\n",
    "- Accuracy: 0.76\n",
    "\n",
    "### Logistci regression(w/o Balance) Second Classification Report:\n",
    "- **Class 0 (0.0):**\n",
    "  - Precision: 0.50\n",
    "  - Recall: 0.49\n",
    "  - F1-score: 0.49\n",
    "- **Class 1 (1.0):**\n",
    "  - Precision: 0.35\n",
    "  - Recall: 0.29\n",
    "  - F1-score: 0.32\n",
    "- **Class 2 (2.0):**\n",
    "  - Precision: 0.92\n",
    "  - Recall: 0.95\n",
    "  - F1-score: 0.94\n",
    "- Accuracy: 0.82\n",
    "\n",
    "### Comparison:\n",
    "- The second classification report generally shows higher precision, recall, and F1-score values for all classes, indicating better performance in classifying each class.\n",
    "- The accuracy in the second report (0.82) is also higher compared to the first report (0.76), suggesting an overall improvement in model performance.\n",
    "- However, it's important to note that the improvement in performance might vary depending on the specific goals and requirements of the classification task.\n"
   ]
  },
  {
   "cell_type": "code",
   "execution_count": 180,
   "id": "4306586d",
   "metadata": {},
   "outputs": [
    {
     "data": {
      "image/png": "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",
      "text/plain": [
       "<Figure size 1200x800 with 4 Axes>"
      ]
     },
     "metadata": {},
     "output_type": "display_data"
    }
   ],
   "source": [
    "import matplotlib.pyplot as plt\n",
    "\n",
    "# Data for the first classification report\n",
    "class_names = ['Class 0', 'Class 1', 'Class 2']\n",
    "precision1 = [0.49, 0.23, 0.93]\n",
    "recall1 = [0.59, 0.30, 0.86]\n",
    "f1_score1 = [0.53, 0.26, 0.89]\n",
    "accuracy1 = 0.76\n",
    "\n",
    "# Data for the second classification report\n",
    "precision2 = [0.50, 0.35, 0.92]\n",
    "recall2 = [0.49, 0.29, 0.95]\n",
    "f1_score2 = [0.49, 0.32, 0.94]\n",
    "accuracy2 = 0.82\n",
    "\n",
    "# Plotting\n",
    "fig, axs = plt.subplots(2, 2, figsize=(12, 8))\n",
    "\n",
    "# Precision comparison\n",
    "axs[0, 0].bar(class_names, precision1, color='b', alpha=0.5, label='With Balance')\n",
    "axs[0, 0].bar(class_names, precision2, color='r', alpha=0.5, label='Without Balance')\n",
    "axs[0, 0].set_title('Precision Comparison')\n",
    "axs[0, 0].legend()\n",
    "\n",
    "# Recall comparison\n",
    "axs[0, 1].bar(class_names, recall1, color='b', alpha=0.5, label='With Balance')\n",
    "axs[0, 1].bar(class_names, recall2, color='r', alpha=0.5, label='Without Balance')\n",
    "axs[0, 1].set_title('Recall Comparison')\n",
    "axs[0, 1].legend()\n",
    "\n",
    "# F1-score comparison\n",
    "axs[1, 0].bar(class_names, f1_score1, color='b', alpha=0.5, label='With Balance')\n",
    "axs[1, 0].bar(class_names, f1_score2, color='r', alpha=0.5, label='Without Balance')\n",
    "axs[1, 0].set_title('F1-score Comparison')\n",
    "axs[1, 0].legend()\n",
    "\n",
    "# Accuracy comparison\n",
    "axs[1, 1].bar(['Accuracy'], [accuracy1], color='b', alpha=0.5, label='With Balance')\n",
    "axs[1, 1].bar(['Accuracy'], [accuracy2], color='r', alpha=0.5, label='Without Balance')\n",
    "axs[1, 1].set_title('Accuracy Comparison')\n",
    "axs[1, 1].legend()\n",
    "\n",
    "plt.tight_layout()\n",
    "plt.show()"
   ]
  },
  {
   "cell_type": "code",
   "execution_count": null,
   "id": "19d9c2cf",
   "metadata": {},
   "outputs": [],
   "source": []
  },
  {
   "cell_type": "markdown",
   "id": "d1f4aac3",
   "metadata": {},
   "source": [
    "## Conclusions and Insights"
   ]
  },
  {
   "cell_type": "markdown",
   "id": "b3fc23a7",
   "metadata": {},
   "source": [
    "- for our data Logistic Regression performs better than Decision trees\n",
    "- in the confusion_matrix, the precision value is more valuable than recall. Since this is sentiment analysis, it can be further used in creating recommendation systems which needs a higher precision% than recall%. As recommendation has to be more precise for the user.\n",
    "- The value also shows that recall is higher than precision, which means the model might need some fine tuning and hyper parameter optimization.\n"
   ]
  }
    
