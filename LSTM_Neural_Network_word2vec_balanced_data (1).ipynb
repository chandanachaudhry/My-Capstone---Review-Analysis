{
  "nbformat": 4,
  "nbformat_minor": 0,
  "metadata": {
    "colab": {
      "provenance": []
    },
    "kernelspec": {
      "name": "python3",
      "display_name": "Python 3"
    },
    "language_info": {
      "name": "python"
    }
  },
  "cells": [
    {
      "cell_type": "markdown",
      "source": [
        "## LSTM Neural network with class balancing\n",
        "**author** : Chandana Chaudhry\n",
        "\n",
        "\n",
        "There are two main types of language models: *statistical models* and *neural models*. Here, we will only focus on neural network approaches to developing a language model. So far in our coverage of neural networks we have seen Fully-Connected Neural Networks (FNN) as well as Convolutional Neural Networks (CNN). These were powerful architectures, but neither work well on sequential data where the ordering of inputs matter.\n",
        "\n",
        "Here are two key architectures that are used for in language modeling:\n",
        "\n",
        "* **Recurrent neural networks (RNNs)**: RNNs are able to take the order of the input data into account. This ability makes them well-suited for tasks such as text classification and natural language generation.\n",
        "\n",
        "* **Self-attention and transformer networks**: Self-attention and transformer networks are able to learn long-range dependencies in the input data. This ability makes them well-suited for tasks such as machine translation and question answering.\n",
        "\n",
        "\n",
        "`LSTM`: _Long-Short Term Memory_ units (introduced by [Hochreiter & Schmidhuber, 1997.](https://dl.acm.org/doi/10.1162/neco.1997.9.8.1735)) which improve on simple RNNs with advanced long-term memory updates;"
      ],
      "metadata": {
        "id": "3gSUBrqypIU2"
      }
    },
    {
      "cell_type": "code",
      "execution_count": 15,
      "metadata": {
        "id": "uxuYjNVv_6q8"
      },
      "outputs": [],
      "source": [
        "import pandas as pd\n",
        "import numpy as np\n",
        "from sklearn.model_selection import train_test_split"
      ]
    },
    {
      "cell_type": "code",
      "source": [
        "df_neural = pd.read_csv('Womens Clothing E-Commerce Reviews.csv')\n",
        "df_neural.head()"
      ],
      "metadata": {
        "colab": {
          "base_uri": "https://localhost:8080/",
          "height": 310
        },
        "id": "7FfpAYmbA9tW",
        "outputId": "7a879a2a-e9ee-4d93-9cc9-e9f080b28e0b"
      },
      "execution_count": 16,
      "outputs": [
        {
          "output_type": "execute_result",
          "data": {
            "text/plain": [
              "   Unnamed: 0  Clothing ID  Age                    Title  \\\n",
              "0           0          767   33                      NaN   \n",
              "1           1         1080   34                      NaN   \n",
              "2           2         1077   60  Some major design flaws   \n",
              "3           3         1049   50         My favorite buy!   \n",
              "4           4          847   47         Flattering shirt   \n",
              "\n",
              "                                         Review Text  Rating  Recommended IND  \\\n",
              "0  Absolutely wonderful - silky and sexy and comf...       4                1   \n",
              "1  Love this dress!  it's sooo pretty.  i happene...       5                1   \n",
              "2  I had such high hopes for this dress and reall...       3                0   \n",
              "3  I love, love, love this jumpsuit. it's fun, fl...       5                1   \n",
              "4  This shirt is very flattering to all due to th...       5                1   \n",
              "\n",
              "   Positive Feedback Count   Division Name Department Name Class Name  \n",
              "0                        0       Initmates        Intimate  Intimates  \n",
              "1                        4         General         Dresses    Dresses  \n",
              "2                        0         General         Dresses    Dresses  \n",
              "3                        0  General Petite         Bottoms      Pants  \n",
              "4                        6         General            Tops    Blouses  "
            ],
            "text/html": [
              "\n",
              "  <div id=\"df-713b0259-229f-41fe-953e-d79eb04cbd0e\" class=\"colab-df-container\">\n",
              "    <div>\n",
              "<style scoped>\n",
              "    .dataframe tbody tr th:only-of-type {\n",
              "        vertical-align: middle;\n",
              "    }\n",
              "\n",
              "    .dataframe tbody tr th {\n",
              "        vertical-align: top;\n",
              "    }\n",
              "\n",
              "    .dataframe thead th {\n",
              "        text-align: right;\n",
              "    }\n",
              "</style>\n",
              "<table border=\"1\" class=\"dataframe\">\n",
              "  <thead>\n",
              "    <tr style=\"text-align: right;\">\n",
              "      <th></th>\n",
              "      <th>Unnamed: 0</th>\n",
              "      <th>Clothing ID</th>\n",
              "      <th>Age</th>\n",
              "      <th>Title</th>\n",
              "      <th>Review Text</th>\n",
              "      <th>Rating</th>\n",
              "      <th>Recommended IND</th>\n",
              "      <th>Positive Feedback Count</th>\n",
              "      <th>Division Name</th>\n",
              "      <th>Department Name</th>\n",
              "      <th>Class Name</th>\n",
              "    </tr>\n",
              "  </thead>\n",
              "  <tbody>\n",
              "    <tr>\n",
              "      <th>0</th>\n",
              "      <td>0</td>\n",
              "      <td>767</td>\n",
              "      <td>33</td>\n",
              "      <td>NaN</td>\n",
              "      <td>Absolutely wonderful - silky and sexy and comf...</td>\n",
              "      <td>4</td>\n",
              "      <td>1</td>\n",
              "      <td>0</td>\n",
              "      <td>Initmates</td>\n",
              "      <td>Intimate</td>\n",
              "      <td>Intimates</td>\n",
              "    </tr>\n",
              "    <tr>\n",
              "      <th>1</th>\n",
              "      <td>1</td>\n",
              "      <td>1080</td>\n",
              "      <td>34</td>\n",
              "      <td>NaN</td>\n",
              "      <td>Love this dress!  it's sooo pretty.  i happene...</td>\n",
              "      <td>5</td>\n",
              "      <td>1</td>\n",
              "      <td>4</td>\n",
              "      <td>General</td>\n",
              "      <td>Dresses</td>\n",
              "      <td>Dresses</td>\n",
              "    </tr>\n",
              "    <tr>\n",
              "      <th>2</th>\n",
              "      <td>2</td>\n",
              "      <td>1077</td>\n",
              "      <td>60</td>\n",
              "      <td>Some major design flaws</td>\n",
              "      <td>I had such high hopes for this dress and reall...</td>\n",
              "      <td>3</td>\n",
              "      <td>0</td>\n",
              "      <td>0</td>\n",
              "      <td>General</td>\n",
              "      <td>Dresses</td>\n",
              "      <td>Dresses</td>\n",
              "    </tr>\n",
              "    <tr>\n",
              "      <th>3</th>\n",
              "      <td>3</td>\n",
              "      <td>1049</td>\n",
              "      <td>50</td>\n",
              "      <td>My favorite buy!</td>\n",
              "      <td>I love, love, love this jumpsuit. it's fun, fl...</td>\n",
              "      <td>5</td>\n",
              "      <td>1</td>\n",
              "      <td>0</td>\n",
              "      <td>General Petite</td>\n",
              "      <td>Bottoms</td>\n",
              "      <td>Pants</td>\n",
              "    </tr>\n",
              "    <tr>\n",
              "      <th>4</th>\n",
              "      <td>4</td>\n",
              "      <td>847</td>\n",
              "      <td>47</td>\n",
              "      <td>Flattering shirt</td>\n",
              "      <td>This shirt is very flattering to all due to th...</td>\n",
              "      <td>5</td>\n",
              "      <td>1</td>\n",
              "      <td>6</td>\n",
              "      <td>General</td>\n",
              "      <td>Tops</td>\n",
              "      <td>Blouses</td>\n",
              "    </tr>\n",
              "  </tbody>\n",
              "</table>\n",
              "</div>\n",
              "    <div class=\"colab-df-buttons\">\n",
              "\n",
              "  <div class=\"colab-df-container\">\n",
              "    <button class=\"colab-df-convert\" onclick=\"convertToInteractive('df-713b0259-229f-41fe-953e-d79eb04cbd0e')\"\n",
              "            title=\"Convert this dataframe to an interactive table.\"\n",
              "            style=\"display:none;\">\n",
              "\n",
              "  <svg xmlns=\"http://www.w3.org/2000/svg\" height=\"24px\" viewBox=\"0 -960 960 960\">\n",
              "    <path d=\"M120-120v-720h720v720H120Zm60-500h600v-160H180v160Zm220 220h160v-160H400v160Zm0 220h160v-160H400v160ZM180-400h160v-160H180v160Zm440 0h160v-160H620v160ZM180-180h160v-160H180v160Zm440 0h160v-160H620v160Z\"/>\n",
              "  </svg>\n",
              "    </button>\n",
              "\n",
              "  <style>\n",
              "    .colab-df-container {\n",
              "      display:flex;\n",
              "      gap: 12px;\n",
              "    }\n",
              "\n",
              "    .colab-df-convert {\n",
              "      background-color: #E8F0FE;\n",
              "      border: none;\n",
              "      border-radius: 50%;\n",
              "      cursor: pointer;\n",
              "      display: none;\n",
              "      fill: #1967D2;\n",
              "      height: 32px;\n",
              "      padding: 0 0 0 0;\n",
              "      width: 32px;\n",
              "    }\n",
              "\n",
              "    .colab-df-convert:hover {\n",
              "      background-color: #E2EBFA;\n",
              "      box-shadow: 0px 1px 2px rgba(60, 64, 67, 0.3), 0px 1px 3px 1px rgba(60, 64, 67, 0.15);\n",
              "      fill: #174EA6;\n",
              "    }\n",
              "\n",
              "    .colab-df-buttons div {\n",
              "      margin-bottom: 4px;\n",
              "    }\n",
              "\n",
              "    [theme=dark] .colab-df-convert {\n",
              "      background-color: #3B4455;\n",
              "      fill: #D2E3FC;\n",
              "    }\n",
              "\n",
              "    [theme=dark] .colab-df-convert:hover {\n",
              "      background-color: #434B5C;\n",
              "      box-shadow: 0px 1px 3px 1px rgba(0, 0, 0, 0.15);\n",
              "      filter: drop-shadow(0px 1px 2px rgba(0, 0, 0, 0.3));\n",
              "      fill: #FFFFFF;\n",
              "    }\n",
              "  </style>\n",
              "\n",
              "    <script>\n",
              "      const buttonEl =\n",
              "        document.querySelector('#df-713b0259-229f-41fe-953e-d79eb04cbd0e button.colab-df-convert');\n",
              "      buttonEl.style.display =\n",
              "        google.colab.kernel.accessAllowed ? 'block' : 'none';\n",
              "\n",
              "      async function convertToInteractive(key) {\n",
              "        const element = document.querySelector('#df-713b0259-229f-41fe-953e-d79eb04cbd0e');\n",
              "        const dataTable =\n",
              "          await google.colab.kernel.invokeFunction('convertToInteractive',\n",
              "                                                    [key], {});\n",
              "        if (!dataTable) return;\n",
              "\n",
              "        const docLinkHtml = 'Like what you see? Visit the ' +\n",
              "          '<a target=\"_blank\" href=https://colab.research.google.com/notebooks/data_table.ipynb>data table notebook</a>'\n",
              "          + ' to learn more about interactive tables.';\n",
              "        element.innerHTML = '';\n",
              "        dataTable['output_type'] = 'display_data';\n",
              "        await google.colab.output.renderOutput(dataTable, element);\n",
              "        const docLink = document.createElement('div');\n",
              "        docLink.innerHTML = docLinkHtml;\n",
              "        element.appendChild(docLink);\n",
              "      }\n",
              "    </script>\n",
              "  </div>\n",
              "\n",
              "\n",
              "<div id=\"df-9110abf2-d208-484a-878c-adab51d71563\">\n",
              "  <button class=\"colab-df-quickchart\" onclick=\"quickchart('df-9110abf2-d208-484a-878c-adab51d71563')\"\n",
              "            title=\"Suggest charts\"\n",
              "            style=\"display:none;\">\n",
              "\n",
              "<svg xmlns=\"http://www.w3.org/2000/svg\" height=\"24px\"viewBox=\"0 0 24 24\"\n",
              "     width=\"24px\">\n",
              "    <g>\n",
              "        <path d=\"M19 3H5c-1.1 0-2 .9-2 2v14c0 1.1.9 2 2 2h14c1.1 0 2-.9 2-2V5c0-1.1-.9-2-2-2zM9 17H7v-7h2v7zm4 0h-2V7h2v10zm4 0h-2v-4h2v4z\"/>\n",
              "    </g>\n",
              "</svg>\n",
              "  </button>\n",
              "\n",
              "<style>\n",
              "  .colab-df-quickchart {\n",
              "      --bg-color: #E8F0FE;\n",
              "      --fill-color: #1967D2;\n",
              "      --hover-bg-color: #E2EBFA;\n",
              "      --hover-fill-color: #174EA6;\n",
              "      --disabled-fill-color: #AAA;\n",
              "      --disabled-bg-color: #DDD;\n",
              "  }\n",
              "\n",
              "  [theme=dark] .colab-df-quickchart {\n",
              "      --bg-color: #3B4455;\n",
              "      --fill-color: #D2E3FC;\n",
              "      --hover-bg-color: #434B5C;\n",
              "      --hover-fill-color: #FFFFFF;\n",
              "      --disabled-bg-color: #3B4455;\n",
              "      --disabled-fill-color: #666;\n",
              "  }\n",
              "\n",
              "  .colab-df-quickchart {\n",
              "    background-color: var(--bg-color);\n",
              "    border: none;\n",
              "    border-radius: 50%;\n",
              "    cursor: pointer;\n",
              "    display: none;\n",
              "    fill: var(--fill-color);\n",
              "    height: 32px;\n",
              "    padding: 0;\n",
              "    width: 32px;\n",
              "  }\n",
              "\n",
              "  .colab-df-quickchart:hover {\n",
              "    background-color: var(--hover-bg-color);\n",
              "    box-shadow: 0 1px 2px rgba(60, 64, 67, 0.3), 0 1px 3px 1px rgba(60, 64, 67, 0.15);\n",
              "    fill: var(--button-hover-fill-color);\n",
              "  }\n",
              "\n",
              "  .colab-df-quickchart-complete:disabled,\n",
              "  .colab-df-quickchart-complete:disabled:hover {\n",
              "    background-color: var(--disabled-bg-color);\n",
              "    fill: var(--disabled-fill-color);\n",
              "    box-shadow: none;\n",
              "  }\n",
              "\n",
              "  .colab-df-spinner {\n",
              "    border: 2px solid var(--fill-color);\n",
              "    border-color: transparent;\n",
              "    border-bottom-color: var(--fill-color);\n",
              "    animation:\n",
              "      spin 1s steps(1) infinite;\n",
              "  }\n",
              "\n",
              "  @keyframes spin {\n",
              "    0% {\n",
              "      border-color: transparent;\n",
              "      border-bottom-color: var(--fill-color);\n",
              "      border-left-color: var(--fill-color);\n",
              "    }\n",
              "    20% {\n",
              "      border-color: transparent;\n",
              "      border-left-color: var(--fill-color);\n",
              "      border-top-color: var(--fill-color);\n",
              "    }\n",
              "    30% {\n",
              "      border-color: transparent;\n",
              "      border-left-color: var(--fill-color);\n",
              "      border-top-color: var(--fill-color);\n",
              "      border-right-color: var(--fill-color);\n",
              "    }\n",
              "    40% {\n",
              "      border-color: transparent;\n",
              "      border-right-color: var(--fill-color);\n",
              "      border-top-color: var(--fill-color);\n",
              "    }\n",
              "    60% {\n",
              "      border-color: transparent;\n",
              "      border-right-color: var(--fill-color);\n",
              "    }\n",
              "    80% {\n",
              "      border-color: transparent;\n",
              "      border-right-color: var(--fill-color);\n",
              "      border-bottom-color: var(--fill-color);\n",
              "    }\n",
              "    90% {\n",
              "      border-color: transparent;\n",
              "      border-bottom-color: var(--fill-color);\n",
              "    }\n",
              "  }\n",
              "</style>\n",
              "\n",
              "  <script>\n",
              "    async function quickchart(key) {\n",
              "      const quickchartButtonEl =\n",
              "        document.querySelector('#' + key + ' button');\n",
              "      quickchartButtonEl.disabled = true;  // To prevent multiple clicks.\n",
              "      quickchartButtonEl.classList.add('colab-df-spinner');\n",
              "      try {\n",
              "        const charts = await google.colab.kernel.invokeFunction(\n",
              "            'suggestCharts', [key], {});\n",
              "      } catch (error) {\n",
              "        console.error('Error during call to suggestCharts:', error);\n",
              "      }\n",
              "      quickchartButtonEl.classList.remove('colab-df-spinner');\n",
              "      quickchartButtonEl.classList.add('colab-df-quickchart-complete');\n",
              "    }\n",
              "    (() => {\n",
              "      let quickchartButtonEl =\n",
              "        document.querySelector('#df-9110abf2-d208-484a-878c-adab51d71563 button');\n",
              "      quickchartButtonEl.style.display =\n",
              "        google.colab.kernel.accessAllowed ? 'block' : 'none';\n",
              "    })();\n",
              "  </script>\n",
              "</div>\n",
              "\n",
              "    </div>\n",
              "  </div>\n"
            ],
            "application/vnd.google.colaboratory.intrinsic+json": {
              "type": "dataframe",
              "variable_name": "df_neural",
              "summary": "{\n  \"name\": \"df_neural\",\n  \"rows\": 23486,\n  \"fields\": [\n    {\n      \"column\": \"Unnamed: 0\",\n      \"properties\": {\n        \"dtype\": \"number\",\n        \"std\": 6779,\n        \"min\": 0,\n        \"max\": 23485,\n        \"num_unique_values\": 23486,\n        \"samples\": [\n          1297,\n          7228,\n          21410\n        ],\n        \"semantic_type\": \"\",\n        \"description\": \"\"\n      }\n    },\n    {\n      \"column\": \"Clothing ID\",\n      \"properties\": {\n        \"dtype\": \"number\",\n        \"std\": 203,\n        \"min\": 0,\n        \"max\": 1205,\n        \"num_unique_values\": 1206,\n        \"samples\": [\n          835,\n          753,\n          93\n        ],\n        \"semantic_type\": \"\",\n        \"description\": \"\"\n      }\n    },\n    {\n      \"column\": \"Age\",\n      \"properties\": {\n        \"dtype\": \"number\",\n        \"std\": 12,\n        \"min\": 18,\n        \"max\": 99,\n        \"num_unique_values\": 77,\n        \"samples\": [\n          47,\n          62,\n          41\n        ],\n        \"semantic_type\": \"\",\n        \"description\": \"\"\n      }\n    },\n    {\n      \"column\": \"Title\",\n      \"properties\": {\n        \"dtype\": \"string\",\n        \"num_unique_values\": 13993,\n        \"samples\": [\n          \"Colorful, pretty shirt\",\n          \"Unique soft and comfy fall top\",\n          \"Great fitting jean.\"\n        ],\n        \"semantic_type\": \"\",\n        \"description\": \"\"\n      }\n    },\n    {\n      \"column\": \"Review Text\",\n      \"properties\": {\n        \"dtype\": \"string\",\n        \"num_unique_values\": 22634,\n        \"samples\": [\n          \"This top is really pretty and nice quality. runs big - i went down a size, and its perfect. coloring is more subtle in person than in the photo.\",\n          \"I was so excited to splurge on a mara hoffman suit and was sorely disappointed when i received this suit in the mail. i'm petite and fairly curvy, so i knew it would likely be a little long in the torso but the whole suit was so oddly shaped, i couldn't imagine anyone it would fit. the square shape in between the halter pieces is awkward, and the pieces that are supposed to hold your chest are super wide and loose.\",\n          \"Got so many complements! really comfy but runs big! i'm usually a large and i wish i had gotten the small.\"\n        ],\n        \"semantic_type\": \"\",\n        \"description\": \"\"\n      }\n    },\n    {\n      \"column\": \"Rating\",\n      \"properties\": {\n        \"dtype\": \"number\",\n        \"std\": 1,\n        \"min\": 1,\n        \"max\": 5,\n        \"num_unique_values\": 5,\n        \"samples\": [\n          5,\n          1,\n          3\n        ],\n        \"semantic_type\": \"\",\n        \"description\": \"\"\n      }\n    },\n    {\n      \"column\": \"Recommended IND\",\n      \"properties\": {\n        \"dtype\": \"number\",\n        \"std\": 0,\n        \"min\": 0,\n        \"max\": 1,\n        \"num_unique_values\": 2,\n        \"samples\": [\n          0,\n          1\n        ],\n        \"semantic_type\": \"\",\n        \"description\": \"\"\n      }\n    },\n    {\n      \"column\": \"Positive Feedback Count\",\n      \"properties\": {\n        \"dtype\": \"number\",\n        \"std\": 5,\n        \"min\": 0,\n        \"max\": 122,\n        \"num_unique_values\": 82,\n        \"samples\": [\n          21,\n          0\n        ],\n        \"semantic_type\": \"\",\n        \"description\": \"\"\n      }\n    },\n    {\n      \"column\": \"Division Name\",\n      \"properties\": {\n        \"dtype\": \"category\",\n        \"num_unique_values\": 3,\n        \"samples\": [\n          \"Initmates\",\n          \"General\"\n        ],\n        \"semantic_type\": \"\",\n        \"description\": \"\"\n      }\n    },\n    {\n      \"column\": \"Department Name\",\n      \"properties\": {\n        \"dtype\": \"category\",\n        \"num_unique_values\": 6,\n        \"samples\": [\n          \"Intimate\",\n          \"Dresses\"\n        ],\n        \"semantic_type\": \"\",\n        \"description\": \"\"\n      }\n    },\n    {\n      \"column\": \"Class Name\",\n      \"properties\": {\n        \"dtype\": \"category\",\n        \"num_unique_values\": 20,\n        \"samples\": [\n          \"Intimates\",\n          \"Layering\"\n        ],\n        \"semantic_type\": \"\",\n        \"description\": \"\"\n      }\n    }\n  ]\n}"
            }
          },
          "metadata": {},
          "execution_count": 16
        }
      ]
    },
    {
      "cell_type": "markdown",
      "source": [
        "The target variable ('Sentiment') is defined based on the 'Rating' column. Ratings 4 and 5 are labeled as 'positive', rating 3 as 'neutral', and ratings 1 and 2 as 'negative'."
      ],
      "metadata": {
        "id": "sGTQ9cMDxndr"
      }
    },
    {
      "cell_type": "code",
      "source": [
        "# Filter out missing values and select relevant columns\n",
        "df_neural = df_neural.dropna(subset=['Review Text', 'Rating'])\n",
        "df_neural = df_neural[['Review Text', 'Rating']]\n",
        "\n",
        "# Define target variable (positive sentiment for ratings 4 and 5, neutral for rating 3, negative for ratings 1 and 2)\n",
        "df_neural['Sentiment'] = np.where(df_neural['Rating'] >= 4, 'positive', np.where(df_neural['Rating'] == 3, 'neutral', 'negative'))"
      ],
      "metadata": {
        "id": "x3m0qqoJBCIs"
      },
      "execution_count": 17,
      "outputs": []
    },
    {
      "cell_type": "code",
      "source": [
        "df_neural.head()"
      ],
      "metadata": {
        "colab": {
          "base_uri": "https://localhost:8080/",
          "height": 206
        },
        "id": "Re7dstvpBCLv",
        "outputId": "4c1b4c36-693c-49f8-a24b-380d58f240a5"
      },
      "execution_count": 18,
      "outputs": [
        {
          "output_type": "execute_result",
          "data": {
            "text/plain": [
              "                                         Review Text  Rating Sentiment\n",
              "0  Absolutely wonderful - silky and sexy and comf...       4  positive\n",
              "1  Love this dress!  it's sooo pretty.  i happene...       5  positive\n",
              "2  I had such high hopes for this dress and reall...       3   neutral\n",
              "3  I love, love, love this jumpsuit. it's fun, fl...       5  positive\n",
              "4  This shirt is very flattering to all due to th...       5  positive"
            ],
            "text/html": [
              "\n",
              "  <div id=\"df-39f63dc7-9164-4ef2-80ac-080e4ed4197f\" class=\"colab-df-container\">\n",
              "    <div>\n",
              "<style scoped>\n",
              "    .dataframe tbody tr th:only-of-type {\n",
              "        vertical-align: middle;\n",
              "    }\n",
              "\n",
              "    .dataframe tbody tr th {\n",
              "        vertical-align: top;\n",
              "    }\n",
              "\n",
              "    .dataframe thead th {\n",
              "        text-align: right;\n",
              "    }\n",
              "</style>\n",
              "<table border=\"1\" class=\"dataframe\">\n",
              "  <thead>\n",
              "    <tr style=\"text-align: right;\">\n",
              "      <th></th>\n",
              "      <th>Review Text</th>\n",
              "      <th>Rating</th>\n",
              "      <th>Sentiment</th>\n",
              "    </tr>\n",
              "  </thead>\n",
              "  <tbody>\n",
              "    <tr>\n",
              "      <th>0</th>\n",
              "      <td>Absolutely wonderful - silky and sexy and comf...</td>\n",
              "      <td>4</td>\n",
              "      <td>positive</td>\n",
              "    </tr>\n",
              "    <tr>\n",
              "      <th>1</th>\n",
              "      <td>Love this dress!  it's sooo pretty.  i happene...</td>\n",
              "      <td>5</td>\n",
              "      <td>positive</td>\n",
              "    </tr>\n",
              "    <tr>\n",
              "      <th>2</th>\n",
              "      <td>I had such high hopes for this dress and reall...</td>\n",
              "      <td>3</td>\n",
              "      <td>neutral</td>\n",
              "    </tr>\n",
              "    <tr>\n",
              "      <th>3</th>\n",
              "      <td>I love, love, love this jumpsuit. it's fun, fl...</td>\n",
              "      <td>5</td>\n",
              "      <td>positive</td>\n",
              "    </tr>\n",
              "    <tr>\n",
              "      <th>4</th>\n",
              "      <td>This shirt is very flattering to all due to th...</td>\n",
              "      <td>5</td>\n",
              "      <td>positive</td>\n",
              "    </tr>\n",
              "  </tbody>\n",
              "</table>\n",
              "</div>\n",
              "    <div class=\"colab-df-buttons\">\n",
              "\n",
              "  <div class=\"colab-df-container\">\n",
              "    <button class=\"colab-df-convert\" onclick=\"convertToInteractive('df-39f63dc7-9164-4ef2-80ac-080e4ed4197f')\"\n",
              "            title=\"Convert this dataframe to an interactive table.\"\n",
              "            style=\"display:none;\">\n",
              "\n",
              "  <svg xmlns=\"http://www.w3.org/2000/svg\" height=\"24px\" viewBox=\"0 -960 960 960\">\n",
              "    <path d=\"M120-120v-720h720v720H120Zm60-500h600v-160H180v160Zm220 220h160v-160H400v160Zm0 220h160v-160H400v160ZM180-400h160v-160H180v160Zm440 0h160v-160H620v160ZM180-180h160v-160H180v160Zm440 0h160v-160H620v160Z\"/>\n",
              "  </svg>\n",
              "    </button>\n",
              "\n",
              "  <style>\n",
              "    .colab-df-container {\n",
              "      display:flex;\n",
              "      gap: 12px;\n",
              "    }\n",
              "\n",
              "    .colab-df-convert {\n",
              "      background-color: #E8F0FE;\n",
              "      border: none;\n",
              "      border-radius: 50%;\n",
              "      cursor: pointer;\n",
              "      display: none;\n",
              "      fill: #1967D2;\n",
              "      height: 32px;\n",
              "      padding: 0 0 0 0;\n",
              "      width: 32px;\n",
              "    }\n",
              "\n",
              "    .colab-df-convert:hover {\n",
              "      background-color: #E2EBFA;\n",
              "      box-shadow: 0px 1px 2px rgba(60, 64, 67, 0.3), 0px 1px 3px 1px rgba(60, 64, 67, 0.15);\n",
              "      fill: #174EA6;\n",
              "    }\n",
              "\n",
              "    .colab-df-buttons div {\n",
              "      margin-bottom: 4px;\n",
              "    }\n",
              "\n",
              "    [theme=dark] .colab-df-convert {\n",
              "      background-color: #3B4455;\n",
              "      fill: #D2E3FC;\n",
              "    }\n",
              "\n",
              "    [theme=dark] .colab-df-convert:hover {\n",
              "      background-color: #434B5C;\n",
              "      box-shadow: 0px 1px 3px 1px rgba(0, 0, 0, 0.15);\n",
              "      filter: drop-shadow(0px 1px 2px rgba(0, 0, 0, 0.3));\n",
              "      fill: #FFFFFF;\n",
              "    }\n",
              "  </style>\n",
              "\n",
              "    <script>\n",
              "      const buttonEl =\n",
              "        document.querySelector('#df-39f63dc7-9164-4ef2-80ac-080e4ed4197f button.colab-df-convert');\n",
              "      buttonEl.style.display =\n",
              "        google.colab.kernel.accessAllowed ? 'block' : 'none';\n",
              "\n",
              "      async function convertToInteractive(key) {\n",
              "        const element = document.querySelector('#df-39f63dc7-9164-4ef2-80ac-080e4ed4197f');\n",
              "        const dataTable =\n",
              "          await google.colab.kernel.invokeFunction('convertToInteractive',\n",
              "                                                    [key], {});\n",
              "        if (!dataTable) return;\n",
              "\n",
              "        const docLinkHtml = 'Like what you see? Visit the ' +\n",
              "          '<a target=\"_blank\" href=https://colab.research.google.com/notebooks/data_table.ipynb>data table notebook</a>'\n",
              "          + ' to learn more about interactive tables.';\n",
              "        element.innerHTML = '';\n",
              "        dataTable['output_type'] = 'display_data';\n",
              "        await google.colab.output.renderOutput(dataTable, element);\n",
              "        const docLink = document.createElement('div');\n",
              "        docLink.innerHTML = docLinkHtml;\n",
              "        element.appendChild(docLink);\n",
              "      }\n",
              "    </script>\n",
              "  </div>\n",
              "\n",
              "\n",
              "<div id=\"df-df0e4369-f982-42c2-a17c-1939fa5fb3f1\">\n",
              "  <button class=\"colab-df-quickchart\" onclick=\"quickchart('df-df0e4369-f982-42c2-a17c-1939fa5fb3f1')\"\n",
              "            title=\"Suggest charts\"\n",
              "            style=\"display:none;\">\n",
              "\n",
              "<svg xmlns=\"http://www.w3.org/2000/svg\" height=\"24px\"viewBox=\"0 0 24 24\"\n",
              "     width=\"24px\">\n",
              "    <g>\n",
              "        <path d=\"M19 3H5c-1.1 0-2 .9-2 2v14c0 1.1.9 2 2 2h14c1.1 0 2-.9 2-2V5c0-1.1-.9-2-2-2zM9 17H7v-7h2v7zm4 0h-2V7h2v10zm4 0h-2v-4h2v4z\"/>\n",
              "    </g>\n",
              "</svg>\n",
              "  </button>\n",
              "\n",
              "<style>\n",
              "  .colab-df-quickchart {\n",
              "      --bg-color: #E8F0FE;\n",
              "      --fill-color: #1967D2;\n",
              "      --hover-bg-color: #E2EBFA;\n",
              "      --hover-fill-color: #174EA6;\n",
              "      --disabled-fill-color: #AAA;\n",
              "      --disabled-bg-color: #DDD;\n",
              "  }\n",
              "\n",
              "  [theme=dark] .colab-df-quickchart {\n",
              "      --bg-color: #3B4455;\n",
              "      --fill-color: #D2E3FC;\n",
              "      --hover-bg-color: #434B5C;\n",
              "      --hover-fill-color: #FFFFFF;\n",
              "      --disabled-bg-color: #3B4455;\n",
              "      --disabled-fill-color: #666;\n",
              "  }\n",
              "\n",
              "  .colab-df-quickchart {\n",
              "    background-color: var(--bg-color);\n",
              "    border: none;\n",
              "    border-radius: 50%;\n",
              "    cursor: pointer;\n",
              "    display: none;\n",
              "    fill: var(--fill-color);\n",
              "    height: 32px;\n",
              "    padding: 0;\n",
              "    width: 32px;\n",
              "  }\n",
              "\n",
              "  .colab-df-quickchart:hover {\n",
              "    background-color: var(--hover-bg-color);\n",
              "    box-shadow: 0 1px 2px rgba(60, 64, 67, 0.3), 0 1px 3px 1px rgba(60, 64, 67, 0.15);\n",
              "    fill: var(--button-hover-fill-color);\n",
              "  }\n",
              "\n",
              "  .colab-df-quickchart-complete:disabled,\n",
              "  .colab-df-quickchart-complete:disabled:hover {\n",
              "    background-color: var(--disabled-bg-color);\n",
              "    fill: var(--disabled-fill-color);\n",
              "    box-shadow: none;\n",
              "  }\n",
              "\n",
              "  .colab-df-spinner {\n",
              "    border: 2px solid var(--fill-color);\n",
              "    border-color: transparent;\n",
              "    border-bottom-color: var(--fill-color);\n",
              "    animation:\n",
              "      spin 1s steps(1) infinite;\n",
              "  }\n",
              "\n",
              "  @keyframes spin {\n",
              "    0% {\n",
              "      border-color: transparent;\n",
              "      border-bottom-color: var(--fill-color);\n",
              "      border-left-color: var(--fill-color);\n",
              "    }\n",
              "    20% {\n",
              "      border-color: transparent;\n",
              "      border-left-color: var(--fill-color);\n",
              "      border-top-color: var(--fill-color);\n",
              "    }\n",
              "    30% {\n",
              "      border-color: transparent;\n",
              "      border-left-color: var(--fill-color);\n",
              "      border-top-color: var(--fill-color);\n",
              "      border-right-color: var(--fill-color);\n",
              "    }\n",
              "    40% {\n",
              "      border-color: transparent;\n",
              "      border-right-color: var(--fill-color);\n",
              "      border-top-color: var(--fill-color);\n",
              "    }\n",
              "    60% {\n",
              "      border-color: transparent;\n",
              "      border-right-color: var(--fill-color);\n",
              "    }\n",
              "    80% {\n",
              "      border-color: transparent;\n",
              "      border-right-color: var(--fill-color);\n",
              "      border-bottom-color: var(--fill-color);\n",
              "    }\n",
              "    90% {\n",
              "      border-color: transparent;\n",
              "      border-bottom-color: var(--fill-color);\n",
              "    }\n",
              "  }\n",
              "</style>\n",
              "\n",
              "  <script>\n",
              "    async function quickchart(key) {\n",
              "      const quickchartButtonEl =\n",
              "        document.querySelector('#' + key + ' button');\n",
              "      quickchartButtonEl.disabled = true;  // To prevent multiple clicks.\n",
              "      quickchartButtonEl.classList.add('colab-df-spinner');\n",
              "      try {\n",
              "        const charts = await google.colab.kernel.invokeFunction(\n",
              "            'suggestCharts', [key], {});\n",
              "      } catch (error) {\n",
              "        console.error('Error during call to suggestCharts:', error);\n",
              "      }\n",
              "      quickchartButtonEl.classList.remove('colab-df-spinner');\n",
              "      quickchartButtonEl.classList.add('colab-df-quickchart-complete');\n",
              "    }\n",
              "    (() => {\n",
              "      let quickchartButtonEl =\n",
              "        document.querySelector('#df-df0e4369-f982-42c2-a17c-1939fa5fb3f1 button');\n",
              "      quickchartButtonEl.style.display =\n",
              "        google.colab.kernel.accessAllowed ? 'block' : 'none';\n",
              "    })();\n",
              "  </script>\n",
              "</div>\n",
              "\n",
              "    </div>\n",
              "  </div>\n"
            ],
            "application/vnd.google.colaboratory.intrinsic+json": {
              "type": "dataframe",
              "variable_name": "df_neural",
              "summary": "{\n  \"name\": \"df_neural\",\n  \"rows\": 22641,\n  \"fields\": [\n    {\n      \"column\": \"Review Text\",\n      \"properties\": {\n        \"dtype\": \"string\",\n        \"num_unique_values\": 22634,\n        \"samples\": [\n          \"This top is really pretty and nice quality. runs big - i went down a size, and its perfect. coloring is more subtle in person than in the photo.\",\n          \"I was so excited to splurge on a mara hoffman suit and was sorely disappointed when i received this suit in the mail. i'm petite and fairly curvy, so i knew it would likely be a little long in the torso but the whole suit was so oddly shaped, i couldn't imagine anyone it would fit. the square shape in between the halter pieces is awkward, and the pieces that are supposed to hold your chest are super wide and loose.\",\n          \"Got so many complements! really comfy but runs big! i'm usually a large and i wish i had gotten the small.\"\n        ],\n        \"semantic_type\": \"\",\n        \"description\": \"\"\n      }\n    },\n    {\n      \"column\": \"Rating\",\n      \"properties\": {\n        \"dtype\": \"number\",\n        \"std\": 1,\n        \"min\": 1,\n        \"max\": 5,\n        \"num_unique_values\": 5,\n        \"samples\": [\n          5,\n          1,\n          3\n        ],\n        \"semantic_type\": \"\",\n        \"description\": \"\"\n      }\n    },\n    {\n      \"column\": \"Sentiment\",\n      \"properties\": {\n        \"dtype\": \"category\",\n        \"num_unique_values\": 3,\n        \"samples\": [\n          \"positive\",\n          \"neutral\",\n          \"negative\"\n        ],\n        \"semantic_type\": \"\",\n        \"description\": \"\"\n      }\n    }\n  ]\n}"
            }
          },
          "metadata": {},
          "execution_count": 18
        }
      ]
    },
    {
      "cell_type": "markdown",
      "source": [
        "- **Tokenization and Padding**:\n",
        "\n",
        "The text data ('Review Text') is tokenized using Tokenizer and converted into sequences of integers using texts_to_sequences().\n",
        "Sequences are padded to ensure that they are of equal length using pad_sequences().\n",
        "- **One-Hot Encoding**:\n",
        "\n",
        "The target variable ('Sentiment') is one-hot encoded using pd.get_dummies().\n",
        "Training Word2Vec Model:\n",
        "\n",
        "- The text data is split into individual words, and a Word2Vec model is trained using Word2Vec."
      ],
      "metadata": {
        "id": "WWl1yWKcxxVx"
      }
    },
    {
      "cell_type": "code",
      "source": [
        "from sklearn.model_selection import train_test_split\n",
        "from tensorflow.keras.preprocessing.text import Tokenizer\n",
        "from tensorflow.keras.preprocessing.sequence import pad_sequences"
      ],
      "metadata": {
        "id": "J1nBac3xH6Wb"
      },
      "execution_count": 19,
      "outputs": []
    },
    {
      "cell_type": "code",
      "source": [
        "# Tokenize the text data\n",
        "tokenizer = Tokenizer()\n",
        "tokenizer.fit_on_texts(df_neural['Review Text'])"
      ],
      "metadata": {
        "id": "a4vLMBEkBCO2"
      },
      "execution_count": 20,
      "outputs": []
    },
    {
      "cell_type": "code",
      "source": [
        "# Convert text data to sequences\n",
        "X = tokenizer.texts_to_sequences(df_neural['Review Text'])"
      ],
      "metadata": {
        "id": "RoBA9sCGBCR8"
      },
      "execution_count": 21,
      "outputs": []
    },
    {
      "cell_type": "code",
      "source": [
        "# Pad sequences to make them of equal length\n",
        "maxlen = 100  # Maximum sequence length\n",
        "X = pad_sequences(X, padding='post', maxlen=maxlen)"
      ],
      "metadata": {
        "id": "iqsOvV3NBCU5"
      },
      "execution_count": 22,
      "outputs": []
    },
    {
      "cell_type": "code",
      "source": [
        "# Convert sentiment labels to one-hot encoding\n",
        "y = pd.get_dummies(df_neural['Sentiment']).values"
      ],
      "metadata": {
        "id": "Kj4BGAwKBCXw"
      },
      "execution_count": 23,
      "outputs": []
    },
    {
      "cell_type": "code",
      "source": [
        "from gensim.models import Word2Vec\n",
        "from sklearn.utils.class_weight import compute_class_weight"
      ],
      "metadata": {
        "id": "6QHyEXthNx1J"
      },
      "execution_count": 24,
      "outputs": []
    },
    {
      "cell_type": "markdown",
      "source": [
        "### word2vec model\n",
        "\n",
        "Here, we create a Word2Vec model using the Word2Vec class from the gensim library. We pass the sentences list of tokenized reviews as input to the model. The parameters vector_size, window, min_count, and workers define the characteristics of the Word2Vec model:\n",
        "\n",
        "vector_size: This parameter sets the dimensionality of the word vectors. In this case, we've set it to 100, meaning each word will be represented as a 100-dimensional vector.\n",
        "window: This parameter determines the maximum distance between the current and predicted word within a sentence. It defines the size of the context window for learning word embeddings. Here, it's set to 5.\n",
        "min_count: This parameter specifies the minimum frequency count of words. Words with frequency less than this count will be ignored. Setting it to 1 ensures that all words are considered.\n",
        "workers: This parameter sets the number of worker threads to train the model. Increasing this parameter speeds up training by utilizing multiple CPU cores.\n",
        "Here, it's set to 4, meaning training will use four CPU cores."
      ],
      "metadata": {
        "id": "p2wRpVF-tUGY"
      }
    },
    {
      "cell_type": "code",
      "source": [
        "# Train Word2Vec model\n",
        "sentences = [review.split() for review in df_neural['Review Text']]\n",
        "word2vec_model = Word2Vec(sentences, vector_size=100, window=5, min_count=1, workers=4)"
      ],
      "metadata": {
        "id": "ttC4q2BXNx4f"
      },
      "execution_count": 25,
      "outputs": []
    },
    {
      "cell_type": "code",
      "source": [
        "# Split the data into train and test sets\n",
        "X_train, X_test, y_train, y_test = train_test_split(X, y, test_size=0.2, random_state=42)"
      ],
      "metadata": {
        "id": "ye0iSKOtNx7r"
      },
      "execution_count": 26,
      "outputs": []
    },
    {
      "cell_type": "code",
      "source": [
        "# Create embedding matrix\n",
        "embedding_matrix = np.zeros((len(tokenizer.word_index) + 1, 100))\n",
        "for word, i in tokenizer.word_index.items():\n",
        "    if word in word2vec_model.wv:  # Check if word exists in Word2Vec model's vocabulary\n",
        "        embedding_matrix[i] = word2vec_model.wv[word]  # Retrieve word vector"
      ],
      "metadata": {
        "id": "sM61UgykNx_H"
      },
      "execution_count": 28,
      "outputs": []
    },
    {
      "cell_type": "markdown",
      "source": [
        "####**Creating Embedding Matrix**:\n",
        "\n",
        "An embedding matrix is created using the Word2Vec embeddings. Words present in the tokenizer's word index are mapped to their corresponding word vectors from the Word2Vec model.\n",
        "Calculating Class Weights:\n",
        "\n",
        "Class weights are computed using compute_class_weight() to handle class imbalance."
      ],
      "metadata": {
        "id": "GsIDbJpxyQNn"
      }
    },
    {
      "cell_type": "code",
      "source": [
        "from sklearn.utils.class_weight import compute_class_weight\n"
      ],
      "metadata": {
        "id": "LmKGNSTjNyCb"
      },
      "execution_count": 29,
      "outputs": []
    },
    {
      "cell_type": "code",
      "source": [
        "# Calculate class weights\n",
        "\n",
        "class_weights = compute_class_weight('balanced', classes=['negative', 'neutral', 'positive'], y=df_neural['Sentiment'])\n",
        "class_weights_dict = dict(zip(np.unique(df_neural['Sentiment']), class_weights))\n"
      ],
      "metadata": {
        "id": "qsJf9K2YNyF3"
      },
      "execution_count": 33,
      "outputs": []
    },
    {
      "cell_type": "code",
      "source": [
        "# Create a mapping from class labels to integer indices\n",
        "class_label_indices = {label: idx for idx, label in enumerate(np.unique(df_neural['Sentiment']))}\n",
        "\n",
        "# Create the class weights dictionary using integer indices\n",
        "class_weights_dict = {class_label_indices[label]: weight for label, weight in zip(np.unique(df_neural['Sentiment']), class_weights)}"
      ],
      "metadata": {
        "id": "szo7JpLRcdWg"
      },
      "execution_count": 39,
      "outputs": []
    },
    {
      "cell_type": "markdown",
      "source": [
        "## LSTM Model for text"
      ],
      "metadata": {
        "id": "Bg35hFCAfmxF"
      }
    },
    {
      "cell_type": "markdown",
      "source": [
        "###**Building the LSTM Model**:\n",
        "\n",
        "- A Sequential model is initialized.\n",
        "An embedding layer is added with pre-trained Word2Vec embeddings.\n",
        "Multiple LSTM layers are added with dropout regularization.\n",
        "Dense layers with activation functions are added for classification.\n",
        "Compiling the Model:\n",
        "\n",
        "- The model is compiled with categorical crossentropy loss and Adam optimizer.\n",
        "Training the Model:\n",
        "\n",
        "- The model is trained using fit(), with class weights applied to handle class imbalance.\n",
        "Evaluating the Model:\n",
        "\n",
        "- The trained model is evaluated on the test data, and test loss and accuracy are printed.\n",
        "\n"
      ],
      "metadata": {
        "id": "j-O60stcyg6P"
      }
    },
    {
      "cell_type": "code",
      "source": [
        "from tensorflow.keras.models import Sequential\n",
        "from tensorflow.keras.layers import LSTM, Dense, Embedding, Dropout"
      ],
      "metadata": {
        "id": "mj4ifKkugA2t"
      },
      "execution_count": 35,
      "outputs": []
    },
    {
      "cell_type": "code",
      "source": [
        "# Create LSTM model\n",
        "model = Sequential()\n",
        "model.add(Embedding(len(tokenizer.word_index) + 1, 100, weights=[embedding_matrix], input_length=maxlen, trainable=False))\n",
        "model.add(LSTM(128, dropout=0.2, recurrent_dropout=0.2, return_sequences=True))\n",
        "model.add(LSTM(64, dropout=0.2, recurrent_dropout=0.2, return_sequences=True))\n",
        "model.add(LSTM(32, dropout=0.2, recurrent_dropout=0.2))\n",
        "model.add(Dense(64, activation='relu'))\n",
        "model.add(Dropout(0.5))\n",
        "model.add(Dense(3, activation='softmax'))"
      ],
      "metadata": {
        "id": "euM7bWjGcdT9"
      },
      "execution_count": 40,
      "outputs": []
    },
    {
      "cell_type": "code",
      "source": [
        "model.compile(loss='categorical_crossentropy', optimizer='adam', metrics=['accuracy'])"
      ],
      "metadata": {
        "id": "5E04Csw_cdRA"
      },
      "execution_count": 41,
      "outputs": []
    },
    {
      "cell_type": "code",
      "source": [
        "# Train the model with class weights\n",
        "model.fit(X_train, y_train, batch_size=128, epochs=10, validation_data=(X_test, y_test), class_weight=class_weights_dict)"
      ],
      "metadata": {
        "colab": {
          "base_uri": "https://localhost:8080/"
        },
        "id": "uJ399o5hcdN4",
        "outputId": "f14226bb-3730-4ca7-fc94-d3c094af4b8c"
      },
      "execution_count": 42,
      "outputs": [
        {
          "output_type": "stream",
          "name": "stdout",
          "text": [
            "Epoch 1/10\n",
            "142/142 [==============================] - 161s 1s/step - loss: 1.0122 - accuracy: 0.5880 - val_loss: 0.7089 - val_accuracy: 0.7414\n",
            "Epoch 2/10\n",
            "142/142 [==============================] - 152s 1s/step - loss: 0.9069 - accuracy: 0.6642 - val_loss: 0.6190 - val_accuracy: 0.7412\n",
            "Epoch 3/10\n",
            "142/142 [==============================] - 153s 1s/step - loss: 0.9020 - accuracy: 0.6577 - val_loss: 0.6749 - val_accuracy: 0.7112\n",
            "Epoch 4/10\n",
            "142/142 [==============================] - 152s 1s/step - loss: 0.8480 - accuracy: 0.7011 - val_loss: 0.7173 - val_accuracy: 0.6635\n",
            "Epoch 5/10\n",
            "142/142 [==============================] - 154s 1s/step - loss: 0.8205 - accuracy: 0.7086 - val_loss: 0.6385 - val_accuracy: 0.7357\n",
            "Epoch 6/10\n",
            "142/142 [==============================] - 154s 1s/step - loss: 0.8009 - accuracy: 0.7188 - val_loss: 0.7889 - val_accuracy: 0.6624\n",
            "Epoch 7/10\n",
            "142/142 [==============================] - 153s 1s/step - loss: 0.7835 - accuracy: 0.7253 - val_loss: 0.5710 - val_accuracy: 0.7216\n",
            "Epoch 8/10\n",
            "142/142 [==============================] - 153s 1s/step - loss: 0.7603 - accuracy: 0.7361 - val_loss: 0.5935 - val_accuracy: 0.7271\n",
            "Epoch 9/10\n",
            "142/142 [==============================] - 149s 1s/step - loss: 0.7464 - accuracy: 0.7294 - val_loss: 0.4799 - val_accuracy: 0.7774\n",
            "Epoch 10/10\n",
            "142/142 [==============================] - 172s 1s/step - loss: 0.7506 - accuracy: 0.7413 - val_loss: 0.6042 - val_accuracy: 0.7280\n"
          ]
        },
        {
          "output_type": "execute_result",
          "data": {
            "text/plain": [
              "<keras.src.callbacks.History at 0x78c1cdae2c80>"
            ]
          },
          "metadata": {},
          "execution_count": 42
        }
      ]
    },
    {
      "cell_type": "code",
      "source": [
        "import matplotlib.pyplot as plt\n",
        "\n",
        "# Get the training history\n",
        "history = model.fit(X_train, y_train, batch_size=128, epochs=5, validation_data=(X_test, y_test), class_weight=class_weights_dict)\n",
        "\n",
        "# Plot training history for accuracy\n",
        "plt.plot(history.history['accuracy'], label='Training Accuracy')\n",
        "plt.plot(history.history['val_accuracy'], label='Validation Accuracy')\n",
        "plt.xlabel('Epoch')\n",
        "plt.ylabel('Accuracy')\n",
        "plt.title('Accuracy')\n",
        "plt.legend()\n",
        "plt.show()\n",
        "\n",
        "# Plot training history for loss\n",
        "plt.plot(history.history['loss'], label='Training Loss')\n",
        "plt.plot(history.history['val_loss'], label='Validation Loss')\n",
        "plt.xlabel('Epoch')\n",
        "plt.ylabel('Loss')\n",
        "plt.title('Loss')\n",
        "plt.legend()\n",
        "plt.show()\n"
      ],
      "metadata": {
        "colab": {
          "base_uri": "https://localhost:8080/",
          "height": 1000
        },
        "id": "DUiN9DBycdLG",
        "outputId": "f5255d62-9e8a-47e9-a59c-3a1458fb34ea"
      },
      "execution_count": 44,
      "outputs": [
        {
          "output_type": "stream",
          "name": "stdout",
          "text": [
            "Epoch 1/5\n",
            "142/142 [==============================] - 154s 1s/step - loss: 0.7259 - accuracy: 0.7494 - val_loss: 0.5318 - val_accuracy: 0.7721\n",
            "Epoch 2/5\n",
            "142/142 [==============================] - 158s 1s/step - loss: 0.7152 - accuracy: 0.7518 - val_loss: 0.5279 - val_accuracy: 0.7679\n",
            "Epoch 3/5\n",
            "142/142 [==============================] - 165s 1s/step - loss: 0.6956 - accuracy: 0.7608 - val_loss: 0.5764 - val_accuracy: 0.7163\n",
            "Epoch 4/5\n",
            "142/142 [==============================] - 159s 1s/step - loss: 0.6705 - accuracy: 0.7620 - val_loss: 0.4733 - val_accuracy: 0.7832\n",
            "Epoch 5/5\n",
            "142/142 [==============================] - 155s 1s/step - loss: 0.6740 - accuracy: 0.7652 - val_loss: 0.4959 - val_accuracy: 0.7754\n"
          ]
        },
        {
          "output_type": "display_data",
          "data": {
            "text/plain": [
              "<Figure size 640x480 with 1 Axes>"
            ],
            "image/png": "[encoded data removed]"
          },
          "metadata": {}
        },
        {
          "output_type": "display_data",
          "data": {
            "text/plain": [
              "<Figure size 640x480 with 1 Axes>"
            ],
            "image/png": "[encoded data removed]"
          },
          "metadata": {}
        }
      ]
    },
    {
      "cell_type": "markdown",
      "source": [
        "####Training and Validation Loss Plot:\n",
        "The top plot shows the loss (error) of the model during training and validation.\n",
        "The x-axis represents the number of epochs (training iterations), and the y-axis represents the loss value.\n",
        "The blue line represents the training loss, which indicates how well the model is fitting the training data. As the epochs progress, the training loss decreases.\n",
        "The orange line represents the validation loss, which measures how well the model generalizes to unseen data (validation set). Ideally, we want both training and validation loss to decrease, but if the validation loss starts increasing while the training loss continues to decrease, it could indicate overfitting.\n",
        "Training and Validation Accuracy Plot:\n",
        "The bottom plot shows the accuracy of the model during training and validation.\n",
        "Again, the x-axis represents the number of epochs, and the y-axis represents the accuracy value.\n",
        "The blue line represents the training accuracy, showing how well the model predicts the training data. It increases as the model learns.\n",
        "The orange line represents the validation accuracy, indicating how well the model performs on unseen validation data. If the validation accuracy plateaus or decreases while training accuracy keeps improving, it suggests overfitting.\n",
        "In summary, these plots help monitor the model’s performance during training. Ideally, we want both loss to decrease and accuracy to increase steadily for both training and validation. If there’s a significant gap between training and validation performance, further investigation may be needed to improve the model’s generalization ability"
      ],
      "metadata": {
        "id": "95gfeB6i2GHM"
      }
    },
    {
      "cell_type": "code",
      "source": [],
      "metadata": {
        "id": "plNnlnTn08R9"
      },
      "execution_count": null,
      "outputs": []
    },
    {
      "cell_type": "code",
      "source": [
        "loss, accuracy = model.evaluate(X_test, y_test)\n",
        "print(\"Test Accuracy:\", accuracy)"
      ],
      "metadata": {
        "colab": {
          "base_uri": "https://localhost:8080/"
        },
        "id": "M3CLg2JJmtJF",
        "outputId": "467e746f-0804-438a-c1e4-52c3ea521a9d"
      },
      "execution_count": 45,
      "outputs": [
        {
          "output_type": "stream",
          "name": "stdout",
          "text": [
            "142/142 [==============================] - 10s 69ms/step - loss: 0.4959 - accuracy: 0.7754\n",
            "Test Accuracy: 0.7754471302032471\n"
          ]
        }
      ]
    },
    {
      "cell_type": "markdown",
      "source": [
        "**`The confusion matrix`** is a table that is often used to describe the performance of a classification model. It compares the actual target values with the values predicted by the model. The rows of the matrix represent the actual classes, and the columns represent the predicted classes.\n",
        "\n",
        "The main diagonal of the confusion matrix (from top left to bottom right) represents the number of correct predictions for each class. Off-diagonal elements represent instances that are misclassified. The higher the values on the diagonal, the better the model's performance. A perfect classifier would have values only on the diagonal."
      ],
      "metadata": {
        "id": "chO6A8gTyySb"
      }
    },
    {
      "cell_type": "code",
      "source": [
        "from sklearn.metrics import confusion_matrix\n",
        "import matplotlib.pyplot as plt\n",
        "\n",
        "# Get the predictions on the test data\n",
        "y_pred = np.argmax(model.predict(X_test), axis=1)\n",
        "y_true = np.argmax(y_test, axis=1)\n",
        "\n",
        "# Calculate the confusion matrix\n",
        "conf_matrix = confusion_matrix(y_true, y_pred)\n",
        "\n",
        "# Plot the heatmap\n",
        "plt.figure(figsize=(8, 6))\n",
        "sns.heatmap(conf_matrix, annot=True, fmt='d', cmap='Blues', xticklabels=sentiment_labels, yticklabels=sentiment_labels)\n",
        "plt.xlabel('Predicted Label')\n",
        "plt.ylabel('True Label')\n",
        "plt.title('Confusion Matrix')\n",
        "plt.show()"
      ],
      "metadata": {
        "colab": {
          "base_uri": "https://localhost:8080/",
          "height": 582
        },
        "id": "Zv19erA_mtSr",
        "outputId": "a2565f57-17c9-46d5-dfbc-8c7ad97b40b6"
      },
      "execution_count": 49,
      "outputs": [
        {
          "output_type": "stream",
          "name": "stdout",
          "text": [
            "142/142 [==============================] - 12s 84ms/step\n"
          ]
        },
        {
          "output_type": "display_data",
          "data": {
            "text/plain": [
              "<Figure size 800x600 with 2 Axes>"
            ],
            "image/png": "[encoded data removed]"
          },
          "metadata": {}
        }
      ]
    },
    {
      "cell_type": "markdown",
      "source": [
        "### Model Evaluation\n",
        "\n",
        "since we are interested to check how our model is performing, we can feed in some unseen data to check the corrrect and incorrect classifcaion provided by the model.\n",
        "\n"
      ],
      "metadata": {
        "id": "eB6ZcSXZzjzU"
      }
    },
    {
      "cell_type": "code",
      "source": [
        "# Define a real string for testing\n",
        "test_string = \"I love my life\"\n",
        "\n",
        "# Tokenize the test string\n",
        "test_sequence = tokenizer.texts_to_sequences([test_string])\n",
        "\n",
        "# Pad the sequence to make it of equal length\n",
        "test_sequence_padded = pad_sequences(test_sequence, padding='post', maxlen=maxlen)\n",
        "\n",
        "# Predict sentiment for the test string\n",
        "predictions = model.predict(test_sequence_padded)\n",
        "\n",
        "# Get the predicted sentiment label\n",
        "sentiment_labels = ['negative', 'neutral', 'positive']\n",
        "predicted_sentiment = sentiment_labels[np.argmax(predictions)]\n",
        "\n",
        "print(f'Test String: \"{test_string}\"')\n",
        "print(f'Predicted Sentiment: {predicted_sentiment}')"
      ],
      "metadata": {
        "colab": {
          "base_uri": "https://localhost:8080/"
        },
        "id": "lp5l5Se9mtV0",
        "outputId": "8b66edf2-9345-4fec-975d-d2cb677b6006"
      },
      "execution_count": 51,
      "outputs": [
        {
          "output_type": "stream",
          "name": "stdout",
          "text": [
            "1/1 [==============================] - 0s 108ms/step\n",
            "Test String: \"I love my life\"\n",
            "Predicted Sentiment: positive\n"
          ]
        }
      ]
    },
    {
      "cell_type": "code",
      "source": [
        "# Define a real string for testing\n",
        "test_string = \"I hate this dress\"\n",
        "\n",
        "# Tokenize the test string\n",
        "test_sequence = tokenizer.texts_to_sequences([test_string])\n",
        "\n",
        "# Pad the sequence to make it of equal length\n",
        "test_sequence_padded = pad_sequences(test_sequence, padding='post', maxlen=maxlen)\n",
        "\n",
        "# Predict sentiment for the test string\n",
        "predictions = model.predict(test_sequence_padded)\n",
        "\n",
        "# Get the predicted sentiment label\n",
        "sentiment_labels = ['negative', 'neutral', 'positive']\n",
        "predicted_sentiment = sentiment_labels[np.argmax(predictions)]\n",
        "\n",
        "print(f'Test String: \"{test_string}\"')\n",
        "print(f'Predicted Sentiment: {predicted_sentiment}')"
      ],
      "metadata": {
        "colab": {
          "base_uri": "https://localhost:8080/"
        },
        "id": "NYqVMNr_s2KW",
        "outputId": "9494421a-0b9a-47a1-8822-68bd8168759e"
      },
      "execution_count": 52,
      "outputs": [
        {
          "output_type": "stream",
          "name": "stdout",
          "text": [
            "1/1 [==============================] - 0s 104ms/step\n",
            "Test String: \"I hate this dress\"\n",
            "Predicted Sentiment: negative\n"
          ]
        }
      ]
    },
    {
      "cell_type": "code",
      "source": [
        "# Define a real string for testing\n",
        "test_string = \"this is average\"\n",
        "\n",
        "# Tokenize the test string\n",
        "test_sequence = tokenizer.texts_to_sequences([test_string])\n",
        "\n",
        "# Pad the sequence to make it of equal length\n",
        "test_sequence_padded = pad_sequences(test_sequence, padding='post', maxlen=maxlen)\n",
        "\n",
        "# Predict sentiment for the test string\n",
        "predictions = model.predict(test_sequence_padded)\n",
        "\n",
        "# Get the predicted sentiment label\n",
        "sentiment_labels = ['negative', 'neutral', 'positive']\n",
        "predicted_sentiment = sentiment_labels[np.argmax(predictions)]\n",
        "\n",
        "print(f'Test String: \"{test_string}\"')\n",
        "print(f'Predicted Sentiment: {predicted_sentiment}')"
      ],
      "metadata": {
        "colab": {
          "base_uri": "https://localhost:8080/"
        },
        "id": "fbwlp9vG0YJg",
        "outputId": "107004ba-cb2a-4ca8-d0fc-fead4b3be7d0"
      },
      "execution_count": 57,
      "outputs": [
        {
          "output_type": "stream",
          "name": "stdout",
          "text": [
            "1/1 [==============================] - 0s 103ms/step\n",
            "Test String: \"this is average\"\n",
            "Predicted Sentiment: negative\n"
          ]
        }
      ]
    },
    {
      "cell_type": "markdown",
      "source": [
        "### **Conclusion**\n",
        "\n",
        "- the model is performing correct in classifying class : positive\n",
        "\n",
        "- the model is performing correct in classifying class : negative\n",
        "\n",
        "- the model is performing incorrect in classifying class : Neutral\n",
        "\n",
        "This means, we need to gather or work on class neutral"
      ],
      "metadata": {
        "id": "APXADwha0LCO"
      }
    }
  ]
}